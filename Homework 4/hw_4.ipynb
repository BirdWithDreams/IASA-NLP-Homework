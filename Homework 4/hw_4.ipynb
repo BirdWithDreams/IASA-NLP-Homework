{
 "cells": [
  {
   "cell_type": "code",
   "execution_count": 1,
   "id": "bfeae9b40cc41abf",
   "metadata": {
    "collapsed": true,
    "ExecuteTime": {
     "end_time": "2023-10-22T14:09:46.828585100Z",
     "start_time": "2023-10-22T14:09:42.124386700Z"
    }
   },
   "outputs": [],
   "source": [
    "import re\n",
    "import string\n",
    "from typing import List\n",
    "from copy import deepcopy\n",
    "from itertools import chain\n",
    "\n",
    "import numpy as np\n",
    "import pandas as pd\n",
    "import seaborn as sns\n",
    "import matplotlib.pyplot as plt\n",
    "\n",
    "import nltk\n",
    "import spacy\n",
    "from nltk.corpus import stopwords\n",
    "from nltk import tokenize\n",
    "\n",
    "import torch\n",
    "from torch import nn, optim\n",
    "from torch.nn.utils.rnn import PackedSequence\n",
    "from torch.utils.data import DataLoader, Dataset\n",
    "\n",
    "from torchtext.vocab import build_vocab_from_iterator\n",
    "\n",
    "from tqdm import tqdm\n",
    "\n",
    "%matplotlib inline"
   ]
  },
  {
   "cell_type": "code",
   "execution_count": 2,
   "outputs": [],
   "source": [
    "import warnings\n",
    "\n",
    "warnings.filterwarnings(\"ignore\")"
   ],
   "metadata": {
    "collapsed": false,
    "ExecuteTime": {
     "end_time": "2023-10-22T14:09:46.833286500Z",
     "start_time": "2023-10-22T14:09:46.829585200Z"
    }
   },
   "id": "ed63d524f9489db2"
  },
  {
   "cell_type": "markdown",
   "source": [
    "# EDA"
   ],
   "metadata": {
    "collapsed": false
   },
   "id": "3bef49d2adc0e2f7"
  },
  {
   "cell_type": "markdown",
   "source": [
    "## Loading datasets"
   ],
   "metadata": {
    "collapsed": false
   },
   "id": "5f64bc5c22686c5b"
  },
  {
   "cell_type": "code",
   "execution_count": 3,
   "outputs": [
    {
     "data": {
      "text/plain": "((1010000, 5), (8028840, 6))"
     },
     "execution_count": 3,
     "metadata": {},
     "output_type": "execute_result"
    }
   ],
   "source": [
    "uk_geo_dataset = pd.read_csv('datasets/uk_geo_dataset.csv', converters={\"loc_markers\": eval})\n",
    "ru_geo_dataset = pd.read_csv('datasets/ru_geo_dataset.csv', converters={\"loc_markers\": eval})\n",
    "uk_geo_dataset.shape, ru_geo_dataset.shape"
   ],
   "metadata": {
    "collapsed": false,
    "ExecuteTime": {
     "end_time": "2023-10-22T14:11:06.610977400Z",
     "start_time": "2023-10-22T14:09:46.833286500Z"
    }
   },
   "id": "1992b8017442e2a7"
  },
  {
   "cell_type": "markdown",
   "source": [
    "## Examine the dataset for the presence of strange symbols"
   ],
   "metadata": {
    "collapsed": false
   },
   "id": "8a2d0546b2288165"
  },
  {
   "cell_type": "markdown",
   "source": [
    "### First function to clean text"
   ],
   "metadata": {
    "collapsed": false
   },
   "id": "124805daf3e86fd0"
  },
  {
   "cell_type": "code",
   "execution_count": 4,
   "outputs": [],
   "source": [
    "def preprocess_text(text):\n",
    "    # Remove links\n",
    "    text = re.sub(r'http\\S+|www.\\S+', '', text)\n",
    "\n",
    "    # Special remove telegram links\n",
    "    pattern = r\"(?:https?:\\/\\/)?(?:www\\.)?(?:t\\.me\\/\\S+|telegram\\.me\\/\\S+|telegram\\.dog\\/\\S+)\"\n",
    "    text = re.sub(pattern, '', text)\n",
    "\n",
    "    # Remove phone numbers\n",
    "    phone_regex = r'\\(?\\+?\\d{0,3}\\)?[-.\\s]?\\(?\\d{3}\\)?[-.\\s]?\\d{3}[-.\\s]?\\d{2}[-.\\s]?\\d{2}'\n",
    "    text = re.sub(phone_regex, '', text)\n",
    "\n",
    "    # Remove special characters\n",
    "    text = re.sub(r'[\\n\\t\\r]', ' ', text)\n",
    "\n",
    "    # Remove tags\n",
    "    text = re.sub(r'@\\w+', '', text)\n",
    "\n",
    "    # Remove emojis\n",
    "    emoji_pattern = re.compile(\n",
    "        pattern=\"[\"\n",
    "                u\"\\U0001F600-\\U0001F64F\"  # emoticons\n",
    "                u\"\\U0001F300-\\U0001F5FF\"  # symbols & pictographs\n",
    "                u\"\\U0001F680-\\U0001F6FF\"  # transport & map symbols\n",
    "                u\"\\U0001F1E0-\\U0001F1FF\"  # flags (iOS)\n",
    "                u\"\\U00002702-\\U000027B0\"\n",
    "                u\"\\U000024C2-\\U0001F251\"\n",
    "                u\"\\U0001f926-\\U0001f937\"\n",
    "                u'\\U00010000-\\U0010ffff'\n",
    "                u\"\\u200d\"\n",
    "                u\"\\u2640-\\u2642\"\n",
    "                u\"\\u2600-\\u2B55\"\n",
    "                u\"\\u23cf\"\n",
    "                u\"\\u23e9\"\n",
    "                u\"\\u231a\"\n",
    "                u\"\\u3030\"\n",
    "                \"]+\", flags=re.UNICODE\n",
    "    )\n",
    "    text = emoji_pattern.sub(r'', text)\n",
    "\n",
    "    # Remove multiple spaces\n",
    "    text = re.sub(r' +', ' ', text)\n",
    "\n",
    "    return text"
   ],
   "metadata": {
    "collapsed": false,
    "ExecuteTime": {
     "end_time": "2023-10-22T14:11:06.623724500Z",
     "start_time": "2023-10-22T14:11:06.611977Z"
    }
   },
   "id": "5d80f18ecc37c9e9"
  },
  {
   "cell_type": "markdown",
   "source": [
    "Next we will search for non ASCII symbols that may be found in the text even after processing it with `preprocess_text`"
   ],
   "metadata": {
    "collapsed": false
   },
   "id": "600c56079865580c"
  },
  {
   "cell_type": "code",
   "execution_count": 5,
   "outputs": [],
   "source": [
    "def find_non_alphanumeric(text):\n",
    "    # extracting all that not words\n",
    "    pattern = re.compile(r'[^\\w\\s.,\\-()]', re.UNICODE)\n",
    "    matches = pattern.findall(text)\n",
    "    return matches"
   ],
   "metadata": {
    "collapsed": false,
    "ExecuteTime": {
     "end_time": "2023-10-22T14:11:06.623724500Z",
     "start_time": "2023-10-22T14:11:06.615229500Z"
    }
   },
   "id": "cf15e3c970a43d12"
  },
  {
   "cell_type": "markdown",
   "source": [
    "Extracting non ASCII symbols from `uk_geo_dataset` texts."
   ],
   "metadata": {
    "collapsed": false
   },
   "id": "5b4ebe5540ffe296"
  },
  {
   "cell_type": "code",
   "execution_count": 6,
   "outputs": [
    {
     "name": "stderr",
     "output_type": "stream",
     "text": [
      "100%|██████████| 1010000/1010000 [00:22<00:00, 45285.00it/s]\n"
     ]
    },
    {
     "data": {
      "text/plain": "'!¬*¨\\u202d\\u202c˗⃣¸§‰‐≤ְ⏺―\\'«⏰‛<€\"®—″−¤†”‒‘̶℃£•™“+·᾿:≈′`~∙‼?˚\\u200f⎯°ֹ₴±–̆¡¦̈\\u202a>҆́՚×´’„\\u200b;∞%/»…̂‚≥&$№⋅→›‑'"
     },
     "execution_count": 6,
     "metadata": {},
     "output_type": "execute_result"
    }
   ],
   "source": [
    "uk_text_non_symbols = set()\n",
    "for text in tqdm(uk_geo_dataset['text']):\n",
    "    uk_text_non_symbols = uk_text_non_symbols | set(find_non_alphanumeric(preprocess_text(text)))\n",
    "\n",
    "''.join(uk_text_non_symbols)"
   ],
   "metadata": {
    "collapsed": false,
    "ExecuteTime": {
     "end_time": "2023-10-22T14:11:28.936172900Z",
     "start_time": "2023-10-22T14:11:06.621724400Z"
    }
   },
   "id": "615b46198e445276"
  },
  {
   "cell_type": "markdown",
   "source": [
    "Extracting non ASCII symbols from `ru_geo_dataset` texts."
   ],
   "metadata": {
    "collapsed": false
   },
   "id": "79216eb7bfb7a584"
  },
  {
   "cell_type": "code",
   "execution_count": 7,
   "outputs": [
    {
     "name": "stderr",
     "output_type": "stream",
     "text": [
      "100%|██████████| 8028840/8028840 [03:22<00:00, 39648.83it/s]\n"
     ]
    },
    {
     "data": {
      "text/plain": "'!¬*็ु{\\u202cⒻ\\u202d]\\x0f∆‐←@،๊≡√\\x04ा®—″†”‒\\xad‘£™“\\u2060+·:\\u200c′‼˚\\u200f¿°\\x96ึ́×|้⏳̧∞⁾⁉ุ%/©ั\\\\^\\x97#↓↑$№Ⓑ→\\x98‑ો\\x01⊕⃣¯\\x03≠¸⁽؛ี≤ા―₽\\'ู÷\\x9d«¥<̀€\"[−่※•ื\\x08;Ⓔ؟`~∙?±–̆¡̈\\u202a>ิ્´’∩„\\u200b;»…\\x7f‚&}'"
     },
     "execution_count": 7,
     "metadata": {},
     "output_type": "execute_result"
    }
   ],
   "source": [
    "ru_text_non_symbols = set()\n",
    "for text in tqdm(ru_geo_dataset['text']):\n",
    "    ru_text_non_symbols = ru_text_non_symbols | set(find_non_alphanumeric(preprocess_text(text)))\n",
    "\n",
    "''.join(ru_text_non_symbols)"
   ],
   "metadata": {
    "collapsed": false,
    "ExecuteTime": {
     "end_time": "2023-10-22T14:14:51.440925100Z",
     "start_time": "2023-10-22T14:11:28.934054300Z"
    }
   },
   "id": "b2747cb83effcc90"
  },
  {
   "cell_type": "code",
   "execution_count": 8,
   "outputs": [
    {
     "data": {
      "text/plain": "'!¬*¨\\u202d็\\u202cु{Ⓕ]\\x0f§∆‐←@،ְ๊≡√\\x04⏰ा®—″†”‒‘\\xad̶£™“\\u2060+·:≈\\u200c′‼˚\\u200f¿°\\x96ึ́՚×|้⏳̧∞⁾⁉ุ%/©ั\\\\^\\x97#≥↓↑$№Ⓑ⋅→\\x98‑ો\\x01⊕˗⃣¯\\x03≠¸‰⁽؛ี≤ા⏺―₽\\'ู÷\\x9d«‛¥<̀€\"¤−[่※℃•ื\\x08;᾿Ⓔ؟`~∙?⎯ֹ₴±–̆¡¦̈\\u202a>҆ิ્´’∩„\\u200b;»…\\x7f̂‚&}›'"
     },
     "execution_count": 8,
     "metadata": {},
     "output_type": "execute_result"
    }
   ],
   "source": [
    "text_non_symbols = uk_text_non_symbols | ru_text_non_symbols\n",
    "''.join(text_non_symbols)"
   ],
   "metadata": {
    "collapsed": false,
    "ExecuteTime": {
     "end_time": "2023-10-22T14:14:51.446321100Z",
     "start_time": "2023-10-22T14:14:51.439503400Z"
    }
   },
   "id": "960862673f11de2a"
  },
  {
   "cell_type": "markdown",
   "source": [
    "### Second function to clean data"
   ],
   "metadata": {
    "collapsed": false
   },
   "id": "3794488371f7419d"
  },
  {
   "cell_type": "markdown",
   "source": [
    "Next we will use base function from LB metric computation and see what non ASCII symbols this function leave"
   ],
   "metadata": {
    "collapsed": false
   },
   "id": "45672bdcce91bec0"
  },
  {
   "cell_type": "code",
   "execution_count": 9,
   "outputs": [],
   "source": [
    "def hard_processing(text):\n",
    "    text = re.sub(r\"[{re.escape(string.punctuation)}]\", \"\", text)\n",
    "    text = re.sub(r'\\d', '', text)\n",
    "    text = re.sub(r'\\b\\w\\b\\s?', '', text)\n",
    "    text = re.sub(r'\\s+', ' ', text).strip()\n",
    "    return text.lower()"
   ],
   "metadata": {
    "collapsed": false,
    "ExecuteTime": {
     "end_time": "2023-10-22T14:14:51.458324600Z",
     "start_time": "2023-10-22T14:14:51.443435400Z"
    }
   },
   "id": "b427def491f1d842"
  },
  {
   "cell_type": "code",
   "execution_count": 10,
   "outputs": [
    {
     "name": "stderr",
     "output_type": "stream",
     "text": [
      "100%|██████████| 1010000/1010000 [00:11<00:00, 91474.88it/s]\n"
     ]
    },
    {
     "data": {
      "text/plain": "'!¬✊*¨\\u202d\\u202c✨§│‐\\uf06e╓ְ❌⛔⏰☮®—″◈\\uf0fc†”️‒‘̶♀£™\\uf02d“+❤·⚪:≈′̇‼♦˚\\ue06e￼➡\\u200f°⬇́՚×（▶∞%/☀⠀\\uf701╖≥$№⋅→‑⚖✈˗⃣\\ue56b⚫¸\\u200d‰╢≤╤☣⏺⚡―\\'☝▪«‛<€\\uf0a7\"¤−℃•❓᾿\\ufeff`~∙❗?⎯ֹ₴±–̆¡─¦̈\\u202a✔>҆⚠✅´’„\\u200b;»…\\ue02d̂╥‚&♂›'"
     },
     "execution_count": 10,
     "metadata": {},
     "output_type": "execute_result"
    }
   ],
   "source": [
    "uk_text_non_symbols = set()\n",
    "for text in tqdm(uk_geo_dataset['text']):\n",
    "    uk_text_non_symbols = uk_text_non_symbols | set(find_non_alphanumeric(hard_processing(text)))\n",
    "\n",
    "''.join(uk_text_non_symbols)"
   ],
   "metadata": {
    "collapsed": false,
    "ExecuteTime": {
     "end_time": "2023-10-22T14:15:02.499720700Z",
     "start_time": "2023-10-22T14:14:51.447325500Z"
    }
   },
   "id": "22a39b720455d64b"
  },
  {
   "cell_type": "code",
   "execution_count": 12,
   "outputs": [
    {
     "name": "stderr",
     "output_type": "stream",
     "text": [
      "100%|██████████| 8028840/8028840 [02:01<00:00, 66279.59it/s]\n"
     ]
    },
    {
     "data": {
      "text/plain": "'👨📷✊♏💅🐰🦋😳🤫∆🏻ⓑ👙🏼🙋❌🌙🛒☔🌿💡🍅🎇️♓🙃🛁♀£😜💉🚼⛰+🌅💚🔥:̇💪˚👣🇸🤯🎊🌏🎵🍉\\uf0e8🍆🍴🍍😽∞☀♑👀🦍\\x98🐊💩🐾🚿►✈✒🐒¯\\x03⚫≠😆\\u200d\\uf60e﹏🍮🙆👞🖕🌞🔴💕―🇹\\'「🎙🌳▪🌷÷💔😨💊🤩\\x9d👻🇭🔵\\uf0ff※❄🎅😼;`🐱💦◕∙🐼📻🙌̆🤭>🥇🐢🚲」્´👋∩🇨🥈🌌…\\x7f🎉🦈😰😂📲🇮‚&👒♂ⓡ🙇¬*🌈ु🏊✨ⓝ🚗🇿😥@🍕💣💐☁。☑📆👓๊🌾ⓢ💭💗✌😡🛵👅″😫”😃\\xad🐖™🌎😝♡❤⚪👌😁\\u200c🍒🇰🏝￼\\u200f🎪👯🚨🌵🏄📿́🤦💜😍|🗣⏳🤲̧🎆⁉ุ🔑💧ั/💸🍜©^☺🌥#😩\\x01💰🚬🍁・🐴؛🎶🤵🤼🐺😶🎃≤\\ue512⭐💍👽🌊🚀₽👩☇♛🚽«🔻¥🏿🇽🎤\"🍾💿−📖่\\U000fe327🐻👗🙈♉🤟🏾🏃؟🦄❗?⭕🌺👎🔊🐶💘–🐣¡─⚜\\u202a〜🚺😑🇦„😛🎂🚢😀🌠🐓🤘🎥🌍!🙏♈🐬ⓣ]😮🇯🏂👆♪\\x0f🎭😈‐🌕💎◠🎨🔜\\U000fe512🤗🦀≡💋🐽🌼\\x04🤤ा💙—†‒🍩🚂？👍🍪🌴🏽😖🤢😘♝🍬⚓🍿📺¿°🏆🏒📣👶😬⚽×⚔🚑🍔💓👼้⬅😢💀⁾🍫%👇⠀$№😌‑🐇🌟🌹🖤🙉⊕🥰♌⃣♜¸⁽🍼🚩🚫🧐☠🖖ા🍑🌩👏🔪ู☘🎁🎀😐🍹！<🤣€💇😴🏌🐚ื🇺👿❣🙀\\ufeff😉😋🇲♥🐳🙄😒✴🥋☄✔♐’;🇱👉💟»😅👸♞💁👊🇪\\uf0fe🤔ⓔ็\\u202d\\u202c〰✵🐔🇳\\uf0eb📸🦁🏳←،😸🤠🔫🤙🐅🇷√🌝😓😻🎄🦊🎈🐠®📍‘🎬♚🗼“\\u2060🤪·💥🔌🎼′‼🦅➡🕊⬆🕺\\x96🎩👠ึ🔸🌧🇩🙊💖🍦\\\\😎\\x97👈⚰↓↑🕶ⓕ→😊😏ો💫☎🐈😱🏨🤷👮👰ⓞ💃ี🍟🌸⚡💞☝💄🏺̀🤞[💝🤨•\\x08😯🍀😦🐍🍓💌~🔨🔝🇵😇🥊±̈、👧🙅😹🏋ิ🐿\\u200b😭😄💛👑✿🏔💯☕👟'"
     },
     "execution_count": 12,
     "metadata": {},
     "output_type": "execute_result"
    }
   ],
   "source": [
    "ru_text_non_symbols = set()\n",
    "for text in tqdm(ru_geo_dataset['text']):\n",
    "    ru_text_non_symbols = ru_text_non_symbols | set(find_non_alphanumeric(hard_processing(text)))\n",
    "\n",
    "''.join(ru_text_non_symbols)"
   ],
   "metadata": {
    "collapsed": false,
    "ExecuteTime": {
     "end_time": "2023-10-22T14:29:31.429868700Z",
     "start_time": "2023-10-22T14:27:30.288149400Z"
    }
   },
   "id": "190da169b0367dbb"
  },
  {
   "cell_type": "code",
   "execution_count": 13,
   "outputs": [
    {
     "data": {
      "text/plain": "'👨✊📷♏💅🐰🦋😳🤫∆🏻ⓑ👙🏼🙋❌🌙🛒☔🌿💡🍅🎇️♓🙃🛁♀£😜💉🚼⛰+🌅💚🔥:̇💪˚👣🇸🤯🎊🌏🎵🍉\\uf0e8🍆🍴🍍▶😽∞☀♑👀🦍\\x98🐊💩🐾🚿►✈✒🐒¯\\ue56b⚫\\x03≠😆\\u200d\\uf60e﹏🍮🙆👞🖕🌞🔴💕―🇹\\'「🎙🌳▪🌷÷💔😨💊🤩\\x9d👻🇭🔵\\uf0ff※❄🎅😼;`🐱💦∙◕🐼⎯📻ֹ🙌̆🤭>🥇🐢🚲」્✅´👋∩🇨🥈🌌…\\x7f🎉🦈😰😂📲🇮‚&👒♂ⓡ🙇¬*🌈ु🏊✨ⓝ🚗🇿│😥@🍕💣💐☁。☑📆👓๊🌾ⓢ💭💗✌⏰😡🛵👅″😫”😃\\xad🐖™🌎😝♡❤⚪👌😁\\u200c🍒🇰🏝♦￼\\u200f🎪👯🚨⬇🌵🏄📿́🤦💜😍|🗣⏳🤲̧🎆⁉ุ🔑💧ั/💸🍜©^☺🌥#⚖😩\\x01💰🚬🍁˗・🐴؛🎶🤵🤼🐺😶🎃≤\\ue512⭐💍👽⏺🌊🚀₽👩☇♛🚽«🔻¥🏿🇽🎤\"🍾💿−📖่\\U000fe327🐻👗🙈♉🤟🏾🏃؟🦄❗?⭕🌺👎🔊🐶💘–🐣¡─¦\\u202a⚜҆〜⚠🚺😑🇦„😛🎂🚢😀🌠🐓🤘🎥🌍!¨🙏♈🐬ⓣ]😮🇯🏂👆♪§\\x0f🎭😈‐🌕💎╓◠🎨🔜ְ\\U000fe512🤗🦀≡💋🐽🌼\\x04⛔🤤ा💙☮—\\uf0fc†‒🍩🚂？👍🍪\\uf02d🌴🏽😖🤢≈😘♝🍬⚓🍿\\ue06e📺¿°🏆🏒📣👶😬՚×⚽⚔🚑🍔💓👼้⬅😢💀⁾🍫%👇⠀╖$№⋅😌‑🐇🌟🌹🖤🙉⊕🥰♌⃣♜¸‰⁽🍼╢🚩🚫🧐☣☠🖖ા🍑🌩👏🔪ู☘🎁‛🎀😐🍹！<🤣€\\uf0a7💇😴¤🏌🐚ื❓🇺👿❣🙀\\ufeff😉😋🇲♥🐳🙄😒✴🥋☄✔♐’;🇱👉💟»😅👸♞\\ue02d💁👊╥🇪›\\uf0fe🤔ⓔ็\\u202d\\u202c〰✵🐔🇳\\uf0eb📸🦁🏳\\uf06e←،😸🤠🔫🤙🐅🇷√🌝😓😻🎄🦊🎈🐠®◈📍‘̶🎬♚🗼“\\u2060🤪·💥🔌🎼′‼🦅➡🕊⬆🕺\\x96🎩👠ึ🔸🌧（🇩🙊💖🍦\\\\\\uf701😎\\x97👈⚰↓≥↑🕶ⓕ→😊😏ો💫☎🐈😱🏨🤷👮👰ⓞ💃ี╤🍟🌸⚡💞☝💄🏺̀🤞[💝℃🤨•\\x08😯🍀᾿😦🐍🍓💌~🔨🔝🇵😇₴±🥊̈、👧🙅😹🏋ิ🐿\\u200b😭😄💛👑✿🏔̂💯☕👟'"
     },
     "execution_count": 13,
     "metadata": {},
     "output_type": "execute_result"
    }
   ],
   "source": [
    "text_non_symbols = uk_text_non_symbols | ru_text_non_symbols\n",
    "''.join(text_non_symbols)"
   ],
   "metadata": {
    "collapsed": false,
    "ExecuteTime": {
     "end_time": "2023-10-22T14:29:31.435024200Z",
     "start_time": "2023-10-22T14:29:31.429379800Z"
    }
   },
   "id": "6efa97e99799cdcf"
  },
  {
   "cell_type": "markdown",
   "source": [
    "As we see original text preprocessing function leave a lot of emojis and other Unicode symbols. \n",
    "Due to the fact that train and test data not clean enough, I prefer to use this function to clean the data before training, but for real production it better to use first preprocessing function (`process_text`)"
   ],
   "metadata": {
    "collapsed": false
   },
   "id": "68903902bca453f9"
  },
  {
   "cell_type": "markdown",
   "source": [
    "## Extracting location from texts"
   ],
   "metadata": {
    "collapsed": false
   },
   "id": "cc3817efa238ebaf"
  },
  {
   "cell_type": "markdown",
   "source": [
    "In this part we extract all location from both datasets and look what Unicode symbols we should additionally remove or how we can preprocess location markers."
   ],
   "metadata": {
    "collapsed": false
   },
   "id": "6c4ba29dd0a65cf2"
  },
  {
   "cell_type": "code",
   "execution_count": 14,
   "outputs": [],
   "source": [
    "def get_locations(row, with_text=False):\n",
    "    text, locs = row[0], row[1]\n",
    "    locs = [text[loc[0]:loc[1]] for loc in locs]\n",
    "    return (text, locs) if with_text else locs"
   ],
   "metadata": {
    "collapsed": false,
    "ExecuteTime": {
     "end_time": "2023-10-22T14:29:31.606889300Z",
     "start_time": "2023-10-22T14:29:31.432904300Z"
    }
   },
   "id": "7fd7d4fc22c6fb4f"
  },
  {
   "cell_type": "code",
   "execution_count": 15,
   "outputs": [
    {
     "data": {
      "text/plain": "45430"
     },
     "execution_count": 15,
     "metadata": {},
     "output_type": "execute_result"
    }
   ],
   "source": [
    "uklocs = uk_geo_dataset[['text', 'loc_markers']].apply(get_locations, axis=1)\n",
    "uklocs = set(chain.from_iterable(uklocs.tolist()))\n",
    "len(uklocs)"
   ],
   "metadata": {
    "collapsed": false,
    "ExecuteTime": {
     "end_time": "2023-10-22T14:29:34.972617400Z",
     "start_time": "2023-10-22T14:29:31.446892200Z"
    }
   },
   "id": "384a2458dc56e7d0"
  },
  {
   "cell_type": "code",
   "execution_count": 16,
   "outputs": [
    {
     "data": {
      "text/plain": "132589"
     },
     "execution_count": 16,
     "metadata": {},
     "output_type": "execute_result"
    }
   ],
   "source": [
    "rulocs = ru_geo_dataset[['text', 'loc_markers']].apply(get_locations, axis=1)\n",
    "rulocs = set(chain.from_iterable(rulocs.tolist()))\n",
    "len(rulocs)"
   ],
   "metadata": {
    "collapsed": false,
    "ExecuteTime": {
     "end_time": "2023-10-22T14:30:02.595346700Z",
     "start_time": "2023-10-22T14:29:34.972617400Z"
    }
   },
   "id": "eccaeee1c067b7d8"
  },
  {
   "cell_type": "code",
   "execution_count": 17,
   "outputs": [
    {
     "name": "stderr",
     "output_type": "stream",
     "text": [
      "100%|██████████| 174709/174709 [00:01<00:00, 165266.15it/s]\n"
     ]
    },
    {
     "data": {
      "text/plain": "'“!¬+\\u202d\\u202c:]′`?\\u200f‐–̆̈\\u202a\\'́|«’„\\u200b;%/»…\"\\x7f—″[¤−”‘\\xad#&№‑'"
     },
     "execution_count": 17,
     "metadata": {},
     "output_type": "execute_result"
    }
   ],
   "source": [
    "locs_non_symbols = set()\n",
    "locs_with_non_symbols = []\n",
    "for text in tqdm(list(uklocs | rulocs)):\n",
    "    cur_symb = find_non_alphanumeric(preprocess_text(text))\n",
    "    if cur_symb:\n",
    "        locs_with_non_symbols.append(text)\n",
    "    locs_non_symbols = locs_non_symbols | set(cur_symb)\n",
    "\n",
    "''.join(locs_non_symbols)"
   ],
   "metadata": {
    "collapsed": false,
    "ExecuteTime": {
     "end_time": "2023-10-22T14:30:03.690897600Z",
     "start_time": "2023-10-22T14:30:02.592992Z"
    }
   },
   "id": "9db0e566d25ec30d"
  },
  {
   "cell_type": "code",
   "execution_count": 18,
   "outputs": [
    {
     "data": {
      "text/plain": "3244"
     },
     "execution_count": 18,
     "metadata": {},
     "output_type": "execute_result"
    }
   ],
   "source": [
    "len(locs_with_non_symbols)"
   ],
   "metadata": {
    "collapsed": false,
    "ExecuteTime": {
     "end_time": "2023-10-22T14:30:03.694538200Z",
     "start_time": "2023-10-22T14:30:03.689895800Z"
    }
   },
   "id": "af8dd822539ef121"
  },
  {
   "cell_type": "code",
   "execution_count": 19,
   "outputs": [
    {
     "data": {
      "text/plain": "['Кам’янець-Подільську фортецю',\n 'ТРЦ \"Проспект\"',\n 'Невинномысского акционерного общества \"Азот\"',\n 'Національному заповіднику “Херсонес Таврійський”',\n 'вулиць «Льотчиків-Визволителів',\n 'Придністорв’ї',\n 'вул.…',\n 'парк «',\n 'Киев—Обухов',\n 'Петропавлівський в’язниці']"
     },
     "execution_count": 19,
     "metadata": {},
     "output_type": "execute_result"
    }
   ],
   "source": [
    "import random\n",
    "\n",
    "random.sample(locs_with_non_symbols, 10)"
   ],
   "metadata": {
    "collapsed": false,
    "ExecuteTime": {
     "end_time": "2023-10-22T14:30:03.708625300Z",
     "start_time": "2023-10-22T14:30:03.693539400Z"
    }
   },
   "id": "3fd9648d2a2111de"
  },
  {
   "cell_type": "markdown",
   "source": [
    "## Preprocess our datasets"
   ],
   "metadata": {
    "collapsed": false
   },
   "id": "9708c3770f58f088"
  },
  {
   "cell_type": "markdown",
   "source": [
    "This function removes unopened or unclosed brackets"
   ],
   "metadata": {
    "collapsed": false
   },
   "id": "b46e2620c16b8a08"
  },
  {
   "cell_type": "code",
   "execution_count": 20,
   "outputs": [],
   "source": [
    "def remove_unbalanced_brackets(text):\n",
    "    # Remove unopened or unclosed brackets\n",
    "    while '(' in text and ')' not in text[text.index('('):]:\n",
    "        text = text.replace('(', '', 1)\n",
    "    while ')' in text and '(' not in text[:text.rindex(')')]:\n",
    "        text = text[:text.rindex(')')] + text[text.rindex(')') + 1:]\n",
    "    return text\n"
   ],
   "metadata": {
    "collapsed": false,
    "ExecuteTime": {
     "end_time": "2023-10-22T14:30:03.708625300Z",
     "start_time": "2023-10-22T14:30:03.699729300Z"
    }
   },
   "id": "70a8ef12d63fc86"
  },
  {
   "cell_type": "markdown",
   "source": [
    "Updated preprocessing function base on previous EDA."
   ],
   "metadata": {
    "collapsed": false
   },
   "id": "44645e7771cbf12b"
  },
  {
   "cell_type": "code",
   "execution_count": 21,
   "outputs": [],
   "source": [
    "def preprocess_text(text):\n",
    "    # Your existing preprocessing steps\n",
    "    text = re.sub(r'http\\S+|www.\\S+', '', text)\n",
    "    phone_regex = r'\\(?\\+?\\d{0,3}\\)?[-.\\s]?\\(?\\d{3}\\)?[-.\\s]?\\d{3}[-.\\s]?\\d{2}[-.\\s]?\\d{2}'\n",
    "    text = re.sub(phone_regex, '', text)\n",
    "\n",
    "    chars_to_remove = ('+;°#̂,ี¡”\\x03ֹ≠้‑\".‘ા·:⁉*->˗’√Ⓑ\\u202c§ื}¿؛⏺≈̀|∩„\\xad¸®¬ิ¦;“¥–€̆ึ⋅Ⓔ\\u202d≥→←҆¯'\n",
    "                       '⏳̶™…©»№\\x9d℃\\x96\\x08?«็−ุ،‰~ู̧∆‼•\\\\^¨\\u2060᾿ְ※<₽\\x7f\\u200f่[\\x04]⃣\\x0f\\xa0'\n",
    "                       '⏰\\u200c%±″†(÷′Ⓕ́ु$՚`/\\'∙{ा)₴£\\u202aั⁾≡×&¤⊕↓⁽\\x97̈؟\\x98๊≤@↑˚ો્´!›‚∞‛\\u200b\\x01')\n",
    "    text = re.sub('[' + re.escape(chars_to_remove) + ']', '', text)\n",
    "\n",
    "    text = re.sub(r'[\\n\\t]', ' ', text)\n",
    "    text = re.sub(r'@\\w+', '', text)\n",
    "    pattern = r\"(?:https?:\\/\\/)?(?:www\\.)?(?:t\\.me\\/\\S+|telegram\\.me\\/\\S+|telegram\\.dog\\/\\S+)\"\n",
    "    text = re.sub(pattern, '', text)\n",
    "    emoji_pattern = re.compile(\n",
    "        pattern=\"[\"\n",
    "                u\"\\U0001F600-\\U0001F64F\"  # emoticons\n",
    "                u\"\\U0001F300-\\U0001F5FF\"  # symbols & pictographs\n",
    "                u\"\\U0001F680-\\U0001F6FF\"  # transport & map symbols\n",
    "                u\"\\U0001F1E0-\\U0001F1FF\"  # flags (iOS)\n",
    "                u\"\\U00002702-\\U000027B0\"\n",
    "                u\"\\U000024C2-\\U0001F251\"\n",
    "                u\"\\U0001f926-\\U0001f937\"\n",
    "                u'\\U00010000-\\U0010ffff'\n",
    "                u\"\\u200d\"\n",
    "                u\"\\u2640-\\u2642\"\n",
    "                u\"\\u2600-\\u2B55\"\n",
    "                u\"\\u23cf\"\n",
    "                u\"\\u23e9\"\n",
    "                u\"\\u231a\"\n",
    "                u\"\\u3030\"\n",
    "                \"]+\", flags=re.UNICODE\n",
    "    )\n",
    "    text = emoji_pattern.sub(r'', text)\n",
    "    text = re.sub(r' +', ' ', text)\n",
    "    text = remove_unbalanced_brackets(text)\n",
    "\n",
    "    return text"
   ],
   "metadata": {
    "collapsed": false,
    "ExecuteTime": {
     "end_time": "2023-10-22T14:30:03.791835800Z",
     "start_time": "2023-10-22T14:30:03.705627100Z"
    }
   },
   "id": "7e6ee39a2a499a15"
  },
  {
   "cell_type": "markdown",
   "source": [
    "Function to update location markers indices after texts and locations text were processed"
   ],
   "metadata": {
    "collapsed": false
   },
   "id": "ab160a14908c4ea9"
  },
  {
   "cell_type": "code",
   "execution_count": 22,
   "outputs": [],
   "source": [
    "def update_locations(row, text_processor):\n",
    "    text, locations = row\n",
    "    location_texts = get_locations((text, locations))\n",
    "    text = text_processor(text)\n",
    "\n",
    "    new_locations = []\n",
    "    offset = 0\n",
    "    for loc_text in location_texts:\n",
    "        clean_loc_text = text_processor(loc_text)\n",
    "        start_idx = text.find(clean_loc_text, offset)\n",
    "        if start_idx != -1:\n",
    "            end_idx = start_idx + len(clean_loc_text)\n",
    "            new_locations.append((start_idx, end_idx))\n",
    "            offset = end_idx\n",
    "\n",
    "    return text, new_locations"
   ],
   "metadata": {
    "collapsed": false,
    "ExecuteTime": {
     "end_time": "2023-10-22T14:30:03.794837Z",
     "start_time": "2023-10-22T14:30:03.715907300Z"
    }
   },
   "id": "ff647f23c3ead439"
  },
  {
   "cell_type": "markdown",
   "source": [
    "Finally, this function clean texts and locations text with `text_processor`, than it merge some locations that was splitted, like ['Івано', '-Франківськ'], or delete unuseful dots and dashes."
   ],
   "metadata": {
    "collapsed": false
   },
   "id": "9ad7e910fadf0624"
  },
  {
   "cell_type": "code",
   "execution_count": 23,
   "outputs": [],
   "source": [
    "def clean_text_and_locations(row, text_processor=preprocess_text):\n",
    "    index = 0\n",
    "    text, locations = update_locations(row, text_processor)\n",
    "    result: list[tuple[int, int]] = []\n",
    "\n",
    "    while True:\n",
    "        if index >= len(locations):\n",
    "            break\n",
    "\n",
    "        location = locations[index]\n",
    "        location_text = text[location[0]:location[1]]\n",
    "        try:\n",
    "            if location_text.startswith('-'):\n",
    "                if len(location_text) > 1:\n",
    "                    result[-1] = (result[-1][0], location[1])\n",
    "                else:\n",
    "                    result[-1] = (result[-1][0], locations[index + 1][1])\n",
    "                    index += 1\n",
    "            elif location_text.endswith(('.', '. ', '—', '— ')):\n",
    "                if location_text != '.' and location_text != 'вул.':\n",
    "                    new_end = location_text.rfind('.')\n",
    "                    new_end = len(location_text[:new_end].strip())\n",
    "                    result.append((location[0], location[0] + new_end))\n",
    "            elif ' і ' in location_text:\n",
    "                loc1, loc2 = location_text.split(' і ')\n",
    "                result.extend(\n",
    "                    [\n",
    "                        (location[0], location[0] + len(loc1)),\n",
    "                        (location[1] - len(loc2), location[1])\n",
    "                    ]\n",
    "                )\n",
    "            else:\n",
    "                result.append(location)\n",
    "        except Exception:\n",
    "            pass\n",
    "\n",
    "        index += 1\n",
    "    return text, result"
   ],
   "metadata": {
    "collapsed": false,
    "ExecuteTime": {
     "end_time": "2023-10-22T14:30:03.796836Z",
     "start_time": "2023-10-22T14:30:03.721658300Z"
    }
   },
   "id": "f033259fe44604b5"
  },
  {
   "cell_type": "markdown",
   "source": [
    "### Process uk dataset"
   ],
   "metadata": {
    "collapsed": false
   },
   "id": "809aefe39a00df88"
  },
  {
   "cell_type": "markdown",
   "source": [
    "Now we use all previous functions to make 'light' clean pair (`text`, `loc_marker`) and 'hard' clea pair for both `uk_geo_dataset`"
   ],
   "metadata": {
    "collapsed": false
   },
   "id": "9f84d0846fc49e46"
  },
  {
   "cell_type": "code",
   "execution_count": 24,
   "outputs": [
    {
     "data": {
      "text/plain": "(1010000, 2)"
     },
     "execution_count": 24,
     "metadata": {},
     "output_type": "execute_result"
    }
   ],
   "source": [
    "cleaned_uk = uk_geo_dataset[['text', 'loc_markers']].apply(clean_text_and_locations, axis=1)\n",
    "cleaned_uk = list(zip(*cleaned_uk))\n",
    "cleaned_uk = pd.DataFrame({'clean_text': cleaned_uk[0], 'clean_loc_markers': cleaned_uk[1]})\n",
    "cleaned_uk.shape"
   ],
   "metadata": {
    "collapsed": false,
    "ExecuteTime": {
     "end_time": "2023-10-22T14:30:42.450910600Z",
     "start_time": "2023-10-22T14:30:03.727836400Z"
    }
   },
   "id": "e0c00040000be500"
  },
  {
   "cell_type": "code",
   "execution_count": 25,
   "outputs": [
    {
     "data": {
      "text/plain": "(1010000, 2)"
     },
     "execution_count": 25,
     "metadata": {},
     "output_type": "execute_result"
    }
   ],
   "source": [
    "hard_cleaned_uk = uk_geo_dataset[['text', 'loc_markers']].apply(\n",
    "    clean_text_and_locations, axis=1, args=(hard_processing,)\n",
    ")\n",
    "hard_cleaned_uk = list(zip(*hard_cleaned_uk))\n",
    "hard_cleaned_uk = pd.DataFrame({'hard_clean_text': hard_cleaned_uk[0], 'hard_clean_loc_markers': hard_cleaned_uk[1]})\n",
    "hard_cleaned_uk.shape"
   ],
   "metadata": {
    "collapsed": false,
    "ExecuteTime": {
     "end_time": "2023-10-22T14:30:56.549286300Z",
     "start_time": "2023-10-22T14:30:42.451910300Z"
    }
   },
   "id": "797bb00ee55c2139"
  },
  {
   "cell_type": "code",
   "execution_count": 26,
   "outputs": [
    {
     "data": {
      "text/plain": "                                                text loc_markers org_markers  \\\n0  Чим довше мають скачки тиску гіпертензією, тим...          []          []   \n1  А поки що починали цвісти троянди, випускники ...          []          []   \n2  Крім того, в 2020 р. багато експертів прогнозу...          []          []   \n3  Сильно сумніваюся, що ви зупините свій вибір н...          []          []   \n4  Цей унікальний правовий важіль утворено 1998 р...          []          []   \n\n    per_markers  is_valid                                         clean_text  \\\n0            []         0  Чим довше мають скачки тиску гіпертензією тим ...   \n1  [(114, 131)]         0  А поки що починали цвісти троянди випускники с...   \n2            []         0  Крім того в 2020 р багато експертів прогнозуют...   \n3            []         0  Сильно сумніваюся що ви зупините свій вибір на...   \n4            []         0  Цей унікальний правовий важіль утворено 1998 р...   \n\n  clean_loc_markers                                    hard_clean_text  \\\n0                []  чим довше мають скачки тиску гіпертензією, тим...   \n1                []  поки що починали цвісти троянди, випускники ск...   \n2                []  крім того, багато експертів прогнозують виникн...   \n3                []  сильно сумніваюся, що ви зупините свій вибір н...   \n4                []  цей унікальний правовий важіль утворено року д...   \n\n  hard_clean_loc_markers  \n0                     []  \n1                     []  \n2                     []  \n3                     []  \n4                     []  ",
      "text/html": "<div>\n<style scoped>\n    .dataframe tbody tr th:only-of-type {\n        vertical-align: middle;\n    }\n\n    .dataframe tbody tr th {\n        vertical-align: top;\n    }\n\n    .dataframe thead th {\n        text-align: right;\n    }\n</style>\n<table border=\"1\" class=\"dataframe\">\n  <thead>\n    <tr style=\"text-align: right;\">\n      <th></th>\n      <th>text</th>\n      <th>loc_markers</th>\n      <th>org_markers</th>\n      <th>per_markers</th>\n      <th>is_valid</th>\n      <th>clean_text</th>\n      <th>clean_loc_markers</th>\n      <th>hard_clean_text</th>\n      <th>hard_clean_loc_markers</th>\n    </tr>\n  </thead>\n  <tbody>\n    <tr>\n      <th>0</th>\n      <td>Чим довше мають скачки тиску гіпертензією, тим...</td>\n      <td>[]</td>\n      <td>[]</td>\n      <td>[]</td>\n      <td>0</td>\n      <td>Чим довше мають скачки тиску гіпертензією тим ...</td>\n      <td>[]</td>\n      <td>чим довше мають скачки тиску гіпертензією, тим...</td>\n      <td>[]</td>\n    </tr>\n    <tr>\n      <th>1</th>\n      <td>А поки що починали цвісти троянди, випускники ...</td>\n      <td>[]</td>\n      <td>[]</td>\n      <td>[(114, 131)]</td>\n      <td>0</td>\n      <td>А поки що починали цвісти троянди випускники с...</td>\n      <td>[]</td>\n      <td>поки що починали цвісти троянди, випускники ск...</td>\n      <td>[]</td>\n    </tr>\n    <tr>\n      <th>2</th>\n      <td>Крім того, в 2020 р. багато експертів прогнозу...</td>\n      <td>[]</td>\n      <td>[]</td>\n      <td>[]</td>\n      <td>0</td>\n      <td>Крім того в 2020 р багато експертів прогнозуют...</td>\n      <td>[]</td>\n      <td>крім того, багато експертів прогнозують виникн...</td>\n      <td>[]</td>\n    </tr>\n    <tr>\n      <th>3</th>\n      <td>Сильно сумніваюся, що ви зупините свій вибір н...</td>\n      <td>[]</td>\n      <td>[]</td>\n      <td>[]</td>\n      <td>0</td>\n      <td>Сильно сумніваюся що ви зупините свій вибір на...</td>\n      <td>[]</td>\n      <td>сильно сумніваюся, що ви зупините свій вибір н...</td>\n      <td>[]</td>\n    </tr>\n    <tr>\n      <th>4</th>\n      <td>Цей унікальний правовий важіль утворено 1998 р...</td>\n      <td>[]</td>\n      <td>[]</td>\n      <td>[]</td>\n      <td>0</td>\n      <td>Цей унікальний правовий важіль утворено 1998 р...</td>\n      <td>[]</td>\n      <td>цей унікальний правовий важіль утворено року д...</td>\n      <td>[]</td>\n    </tr>\n  </tbody>\n</table>\n</div>"
     },
     "execution_count": 26,
     "metadata": {},
     "output_type": "execute_result"
    }
   ],
   "source": [
    "uk_geo_df = pd.concat([uk_geo_dataset, cleaned_uk, hard_cleaned_uk], axis=1)\n",
    "uk_geo_df.head()"
   ],
   "metadata": {
    "collapsed": false,
    "ExecuteTime": {
     "end_time": "2023-10-22T14:30:56.641640300Z",
     "start_time": "2023-10-22T14:30:56.548285500Z"
    }
   },
   "id": "71912e95f82c23da"
  },
  {
   "cell_type": "markdown",
   "source": [
    "Comparing the preprocessing of `uk_geo_dataset`"
   ],
   "metadata": {
    "collapsed": false
   },
   "id": "6adc650e69aa209f"
  },
  {
   "cell_type": "code",
   "execution_count": 27,
   "outputs": [
    {
     "data": {
      "text/plain": "                                  locs                         clean_locs  \\\n13                  [Великій Британії]                 [Великій Британії]   \n16      [Львові, Яворівського району]      [Львові, Яворівського раиону]   \n21                           [України]                          [України]   \n23                 [України, Білорусі]                [України, Білорусі]   \n25                           [України]                          [України]   \n42                          [Білорусі]                         [Білорусі]   \n48             [Крихівців, Опришівців]            [Крихівців, Опришівців]   \n52                            [Дніпра]                           [Дніпра]   \n55                        [Рівненщини]                       [Рівненщини]   \n70                          [Донецька]                         [Донецька]   \n79                     [Гонконга одра]                    [Гонконга одра]   \n82   [Україні, Румунії, Польщі, Росії]  [Україні, Румунії, Польщі, Росії]   \n86                          [Україною]                         [Україною]   \n87                           [Майорці]                          [Майорці]   \n96                        [Кременчука]                       [Кременчука]   \n97                           [Україна]                          [Україна]   \n101                            [Ідліб]                            [Ідліб]   \n105                [Віктора Януковича]                [Віктора Януковича]   \n106                            [Києві]                            [Києві]   \n114                     [Червоногород]                     [Червоногород]   \n\n                       hard_clean_locs  \n13                  [великій британії]  \n16      [львові, яворівського району]  \n21                           [україни]  \n23                 [україни, білорусі]  \n25                           [україни]  \n42                          [білорусі]  \n48             [крихівців, опришівців]  \n52                            [дніпра]  \n55                        [рівненщини]  \n70                          [донецька]  \n79                     [гонконга одра]  \n82   [україні, румунії, польщі, росії]  \n86                          [україною]  \n87                           [майорці]  \n96                        [кременчука]  \n97                           [україна]  \n101                            [ідліб]  \n105                [віктора януковича]  \n106                            [києві]  \n114                     [червоногород]  ",
      "text/html": "<div>\n<style scoped>\n    .dataframe tbody tr th:only-of-type {\n        vertical-align: middle;\n    }\n\n    .dataframe tbody tr th {\n        vertical-align: top;\n    }\n\n    .dataframe thead th {\n        text-align: right;\n    }\n</style>\n<table border=\"1\" class=\"dataframe\">\n  <thead>\n    <tr style=\"text-align: right;\">\n      <th></th>\n      <th>locs</th>\n      <th>clean_locs</th>\n      <th>hard_clean_locs</th>\n    </tr>\n  </thead>\n  <tbody>\n    <tr>\n      <th>13</th>\n      <td>[Великій Британії]</td>\n      <td>[Великій Британії]</td>\n      <td>[великій британії]</td>\n    </tr>\n    <tr>\n      <th>16</th>\n      <td>[Львові, Яворівського району]</td>\n      <td>[Львові, Яворівського раиону]</td>\n      <td>[львові, яворівського району]</td>\n    </tr>\n    <tr>\n      <th>21</th>\n      <td>[України]</td>\n      <td>[України]</td>\n      <td>[україни]</td>\n    </tr>\n    <tr>\n      <th>23</th>\n      <td>[України, Білорусі]</td>\n      <td>[України, Білорусі]</td>\n      <td>[україни, білорусі]</td>\n    </tr>\n    <tr>\n      <th>25</th>\n      <td>[України]</td>\n      <td>[України]</td>\n      <td>[україни]</td>\n    </tr>\n    <tr>\n      <th>42</th>\n      <td>[Білорусі]</td>\n      <td>[Білорусі]</td>\n      <td>[білорусі]</td>\n    </tr>\n    <tr>\n      <th>48</th>\n      <td>[Крихівців, Опришівців]</td>\n      <td>[Крихівців, Опришівців]</td>\n      <td>[крихівців, опришівців]</td>\n    </tr>\n    <tr>\n      <th>52</th>\n      <td>[Дніпра]</td>\n      <td>[Дніпра]</td>\n      <td>[дніпра]</td>\n    </tr>\n    <tr>\n      <th>55</th>\n      <td>[Рівненщини]</td>\n      <td>[Рівненщини]</td>\n      <td>[рівненщини]</td>\n    </tr>\n    <tr>\n      <th>70</th>\n      <td>[Донецька]</td>\n      <td>[Донецька]</td>\n      <td>[донецька]</td>\n    </tr>\n    <tr>\n      <th>79</th>\n      <td>[Гонконга одра]</td>\n      <td>[Гонконга одра]</td>\n      <td>[гонконга одра]</td>\n    </tr>\n    <tr>\n      <th>82</th>\n      <td>[Україні, Румунії, Польщі, Росії]</td>\n      <td>[Україні, Румунії, Польщі, Росії]</td>\n      <td>[україні, румунії, польщі, росії]</td>\n    </tr>\n    <tr>\n      <th>86</th>\n      <td>[Україною]</td>\n      <td>[Україною]</td>\n      <td>[україною]</td>\n    </tr>\n    <tr>\n      <th>87</th>\n      <td>[Майорці]</td>\n      <td>[Майорці]</td>\n      <td>[майорці]</td>\n    </tr>\n    <tr>\n      <th>96</th>\n      <td>[Кременчука]</td>\n      <td>[Кременчука]</td>\n      <td>[кременчука]</td>\n    </tr>\n    <tr>\n      <th>97</th>\n      <td>[Україна]</td>\n      <td>[Україна]</td>\n      <td>[україна]</td>\n    </tr>\n    <tr>\n      <th>101</th>\n      <td>[Ідліб]</td>\n      <td>[Ідліб]</td>\n      <td>[ідліб]</td>\n    </tr>\n    <tr>\n      <th>105</th>\n      <td>[Віктора Януковича]</td>\n      <td>[Віктора Януковича]</td>\n      <td>[віктора януковича]</td>\n    </tr>\n    <tr>\n      <th>106</th>\n      <td>[Києві]</td>\n      <td>[Києві]</td>\n      <td>[києві]</td>\n    </tr>\n    <tr>\n      <th>114</th>\n      <td>[Червоногород]</td>\n      <td>[Червоногород]</td>\n      <td>[червоногород]</td>\n    </tr>\n  </tbody>\n</table>\n</div>"
     },
     "execution_count": 27,
     "metadata": {},
     "output_type": "execute_result"
    }
   ],
   "source": [
    "uk_locations = pd.DataFrame(\n",
    "    {\n",
    "        'locs': uk_geo_df[uk_geo_df['loc_markers'].apply(lambda x: len(x) > 0)][['text', 'loc_markers']].apply(\n",
    "            get_locations, axis=1\n",
    "            ),\n",
    "        'clean_locs': uk_geo_df[uk_geo_df['loc_markers'].apply(lambda x: len(x) > 0)][\n",
    "            ['clean_text', 'clean_loc_markers']].apply(get_locations, axis=1),\n",
    "        'hard_clean_locs': uk_geo_df[uk_geo_df['loc_markers'].apply(lambda x: len(x) > 0)][\n",
    "            ['hard_clean_text', 'hard_clean_loc_markers']].apply(get_locations, axis=1),\n",
    "    }\n",
    ")\n",
    "uk_locations.head(20)"
   ],
   "metadata": {
    "collapsed": false,
    "ExecuteTime": {
     "end_time": "2023-10-22T14:30:59.532502200Z",
     "start_time": "2023-10-22T14:30:56.642641900Z"
    }
   },
   "id": "60a7b291a5299061"
  },
  {
   "cell_type": "code",
   "execution_count": 28,
   "outputs": [
    {
     "data": {
      "text/plain": "                                                     locs  \\\n247889                                            [Китаю]   \n675210                                           [Москви]   \n387367                                    [Сході України]   \n20587                                           [Україну]   \n989670                                   [США, Вашингтон]   \n656940                                          [Карпати]   \n329242                             [Калуші, площі Героїв]   \n346455  [Британії, Північної Ірландії, Букінгемського ...   \n333341                                          [Україні]   \n505026                      [Росії, Російській Федерації]   \n\n                                               clean_locs  \\\n247889                                            [Китаю]   \n675210                                           [Москви]   \n387367                                    [Сході України]   \n20587                                           [Україну]   \n989670                                   [США, Вашингтон]   \n656940                                          [Карпати]   \n329242                             [Калуші, площі Героїв]   \n346455  [Британії, Північної Ірландії, Букінгемського ...   \n333341                                          [Україні]   \n505026                      [Росії, Російській Федерації]   \n\n                                          hard_clean_locs  \n247889                                            [китаю]  \n675210                                           [москви]  \n387367                                    [сході україни]  \n20587                                           [україну]  \n989670                                   [сша, вашингтон]  \n656940                                          [карпати]  \n329242                             [калуші, площі героїв]  \n346455  [британії, північної ірландії, букінгемського ...  \n333341                                          [україні]  \n505026                      [росії, російській федерації]  ",
      "text/html": "<div>\n<style scoped>\n    .dataframe tbody tr th:only-of-type {\n        vertical-align: middle;\n    }\n\n    .dataframe tbody tr th {\n        vertical-align: top;\n    }\n\n    .dataframe thead th {\n        text-align: right;\n    }\n</style>\n<table border=\"1\" class=\"dataframe\">\n  <thead>\n    <tr style=\"text-align: right;\">\n      <th></th>\n      <th>locs</th>\n      <th>clean_locs</th>\n      <th>hard_clean_locs</th>\n    </tr>\n  </thead>\n  <tbody>\n    <tr>\n      <th>247889</th>\n      <td>[Китаю]</td>\n      <td>[Китаю]</td>\n      <td>[китаю]</td>\n    </tr>\n    <tr>\n      <th>675210</th>\n      <td>[Москви]</td>\n      <td>[Москви]</td>\n      <td>[москви]</td>\n    </tr>\n    <tr>\n      <th>387367</th>\n      <td>[Сході України]</td>\n      <td>[Сході України]</td>\n      <td>[сході україни]</td>\n    </tr>\n    <tr>\n      <th>20587</th>\n      <td>[Україну]</td>\n      <td>[Україну]</td>\n      <td>[україну]</td>\n    </tr>\n    <tr>\n      <th>989670</th>\n      <td>[США, Вашингтон]</td>\n      <td>[США, Вашингтон]</td>\n      <td>[сша, вашингтон]</td>\n    </tr>\n    <tr>\n      <th>656940</th>\n      <td>[Карпати]</td>\n      <td>[Карпати]</td>\n      <td>[карпати]</td>\n    </tr>\n    <tr>\n      <th>329242</th>\n      <td>[Калуші, площі Героїв]</td>\n      <td>[Калуші, площі Героїв]</td>\n      <td>[калуші, площі героїв]</td>\n    </tr>\n    <tr>\n      <th>346455</th>\n      <td>[Британії, Північної Ірландії, Букінгемського ...</td>\n      <td>[Британії, Північної Ірландії, Букінгемського ...</td>\n      <td>[британії, північної ірландії, букінгемського ...</td>\n    </tr>\n    <tr>\n      <th>333341</th>\n      <td>[Україні]</td>\n      <td>[Україні]</td>\n      <td>[україні]</td>\n    </tr>\n    <tr>\n      <th>505026</th>\n      <td>[Росії, Російській Федерації]</td>\n      <td>[Росії, Російській Федерації]</td>\n      <td>[росії, російській федерації]</td>\n    </tr>\n  </tbody>\n</table>\n</div>"
     },
     "execution_count": 28,
     "metadata": {},
     "output_type": "execute_result"
    }
   ],
   "source": [
    "uk_locations.sample(10)"
   ],
   "metadata": {
    "collapsed": false,
    "ExecuteTime": {
     "end_time": "2023-10-22T14:30:59.546470700Z",
     "start_time": "2023-10-22T14:30:59.530503700Z"
    }
   },
   "id": "727fd5e7db233a2b"
  },
  {
   "cell_type": "markdown",
   "source": [
    "### Process ru dataset"
   ],
   "metadata": {
    "collapsed": false
   },
   "id": "ae558c3fc5e7b11b"
  },
  {
   "cell_type": "markdown",
   "source": [
    "Next, we use all previous functions to make 'light' clean pair (`text`, `loc_marker`) and 'hard' clea pair for both `ru_geo_dataset`"
   ],
   "metadata": {
    "collapsed": false
   },
   "id": "93df3afab9a36f6a"
  },
  {
   "cell_type": "code",
   "execution_count": 29,
   "outputs": [
    {
     "data": {
      "text/plain": "(8028840, 2)"
     },
     "execution_count": 29,
     "metadata": {},
     "output_type": "execute_result"
    }
   ],
   "source": [
    "cleaned_ru = ru_geo_dataset[['text', 'loc_markers']].apply(clean_text_and_locations, axis=1)\n",
    "cleaned_ru = list(zip(*cleaned_ru))\n",
    "cleaned_ru = pd.DataFrame({'clean_text': cleaned_ru[0], 'clean_loc_markers': cleaned_ru[1]})\n",
    "cleaned_ru.shape"
   ],
   "metadata": {
    "collapsed": false,
    "ExecuteTime": {
     "end_time": "2023-10-22T14:36:48.241843500Z",
     "start_time": "2023-10-22T14:30:59.544469300Z"
    }
   },
   "id": "fb80d5e719ffc4fb"
  },
  {
   "cell_type": "code",
   "execution_count": 30,
   "outputs": [
    {
     "data": {
      "text/plain": "(8028840, 2)"
     },
     "execution_count": 30,
     "metadata": {},
     "output_type": "execute_result"
    }
   ],
   "source": [
    "hard_cleaned_ru = ru_geo_dataset[['text', 'loc_markers']].apply(\n",
    "    clean_text_and_locations, axis=1,\n",
    "    args=(hard_processing,)\n",
    "    )\n",
    "hard_cleaned_ru = list(zip(*hard_cleaned_ru))\n",
    "hard_cleaned_ru = pd.DataFrame({'hard_clean_text': hard_cleaned_ru[0], 'hard_clean_loc_markers': hard_cleaned_ru[1]})\n",
    "hard_cleaned_ru.shape"
   ],
   "metadata": {
    "collapsed": false,
    "ExecuteTime": {
     "end_time": "2023-10-22T14:38:56.797922Z",
     "start_time": "2023-10-22T14:36:48.239844Z"
    }
   },
   "id": "799635e745127503"
  },
  {
   "cell_type": "code",
   "execution_count": 31,
   "outputs": [
    {
     "data": {
      "text/plain": "                                                text  \\\n0  Вице-премьер по социальным вопросам Татьяна Го...   \n1  По словам Голиковой, чаще всего онкологические...   \n2  Вице-премьер напомнила, что главные факторы см...   \n3  В начале года стало известно, что смертность о...   \n4  По данным Росстата, в 2017 году от рака умерли...   \n\n                                         loc_markers   org_markers  \\\n0                                         [(82, 88)]  [(149, 160)]   \n1  [(89, 98), (100, 108), (110, 118), (121, 139),...            []   \n2                                         [(57, 63)]            []   \n3                                                 []            []   \n4                                                 []    [(10, 18)]   \n\n  per_markers  doc_id  sent_id  \\\n0  [(36, 52)]       0        0   \n1  [(10, 19)]       0        1   \n2          []       0        2   \n3          []       0        3   \n4          []       0        4   \n\n                                          clean_text  \\\n0  Вицепремьер по социальным вопросам Татьяна Гол...   \n1  По словам Голиковой чаще всего онкологические ...   \n2  Вицепремьер напомнила что главные факторы смер...   \n3  В начале года стало известно что смертность от...   \n4  По данным Росстата в 2017 году от рака умерли ...   \n\n                                   clean_loc_markers  \\\n0                                         [(80, 86)]   \n1  [(88, 97), (98, 106), (107, 115), (118, 136), ...   \n2                                         [(55, 61)]   \n3                                                 []   \n4                                                 []   \n\n                                     hard_clean_text  \\\n0  вице-премьер по социальным вопросам татьяна го...   \n1  по словам голиковой, чаще всего онкологические...   \n2  вице-премьер напомнила, что главные факторы см...   \n3  начале года стало известно, что смертность от ...   \n4  по данным росстата, году от рака умерли тысяч ...   \n\n                              hard_clean_loc_markers  \n0                                         [(80, 86)]  \n1  [(87, 96), (98, 106), (108, 116), (117, 135), ...  \n2                                         [(55, 61)]  \n3                                                 []  \n4                                                 []  ",
      "text/html": "<div>\n<style scoped>\n    .dataframe tbody tr th:only-of-type {\n        vertical-align: middle;\n    }\n\n    .dataframe tbody tr th {\n        vertical-align: top;\n    }\n\n    .dataframe thead th {\n        text-align: right;\n    }\n</style>\n<table border=\"1\" class=\"dataframe\">\n  <thead>\n    <tr style=\"text-align: right;\">\n      <th></th>\n      <th>text</th>\n      <th>loc_markers</th>\n      <th>org_markers</th>\n      <th>per_markers</th>\n      <th>doc_id</th>\n      <th>sent_id</th>\n      <th>clean_text</th>\n      <th>clean_loc_markers</th>\n      <th>hard_clean_text</th>\n      <th>hard_clean_loc_markers</th>\n    </tr>\n  </thead>\n  <tbody>\n    <tr>\n      <th>0</th>\n      <td>Вице-премьер по социальным вопросам Татьяна Го...</td>\n      <td>[(82, 88)]</td>\n      <td>[(149, 160)]</td>\n      <td>[(36, 52)]</td>\n      <td>0</td>\n      <td>0</td>\n      <td>Вицепремьер по социальным вопросам Татьяна Гол...</td>\n      <td>[(80, 86)]</td>\n      <td>вице-премьер по социальным вопросам татьяна го...</td>\n      <td>[(80, 86)]</td>\n    </tr>\n    <tr>\n      <th>1</th>\n      <td>По словам Голиковой, чаще всего онкологические...</td>\n      <td>[(89, 98), (100, 108), (110, 118), (121, 139),...</td>\n      <td>[]</td>\n      <td>[(10, 19)]</td>\n      <td>0</td>\n      <td>1</td>\n      <td>По словам Голиковой чаще всего онкологические ...</td>\n      <td>[(88, 97), (98, 106), (107, 115), (118, 136), ...</td>\n      <td>по словам голиковой, чаще всего онкологические...</td>\n      <td>[(87, 96), (98, 106), (108, 116), (117, 135), ...</td>\n    </tr>\n    <tr>\n      <th>2</th>\n      <td>Вице-премьер напомнила, что главные факторы см...</td>\n      <td>[(57, 63)]</td>\n      <td>[]</td>\n      <td>[]</td>\n      <td>0</td>\n      <td>2</td>\n      <td>Вицепремьер напомнила что главные факторы смер...</td>\n      <td>[(55, 61)]</td>\n      <td>вице-премьер напомнила, что главные факторы см...</td>\n      <td>[(55, 61)]</td>\n    </tr>\n    <tr>\n      <th>3</th>\n      <td>В начале года стало известно, что смертность о...</td>\n      <td>[]</td>\n      <td>[]</td>\n      <td>[]</td>\n      <td>0</td>\n      <td>3</td>\n      <td>В начале года стало известно что смертность от...</td>\n      <td>[]</td>\n      <td>начале года стало известно, что смертность от ...</td>\n      <td>[]</td>\n    </tr>\n    <tr>\n      <th>4</th>\n      <td>По данным Росстата, в 2017 году от рака умерли...</td>\n      <td>[]</td>\n      <td>[(10, 18)]</td>\n      <td>[]</td>\n      <td>0</td>\n      <td>4</td>\n      <td>По данным Росстата в 2017 году от рака умерли ...</td>\n      <td>[]</td>\n      <td>по данным росстата, году от рака умерли тысяч ...</td>\n      <td>[]</td>\n    </tr>\n  </tbody>\n</table>\n</div>"
     },
     "execution_count": 31,
     "metadata": {},
     "output_type": "execute_result"
    }
   ],
   "source": [
    "ru_geo_df = pd.concat([ru_geo_dataset, cleaned_ru, hard_cleaned_ru], axis=1)\n",
    "ru_geo_df.head()"
   ],
   "metadata": {
    "collapsed": false,
    "ExecuteTime": {
     "end_time": "2023-10-22T14:38:57.426513200Z",
     "start_time": "2023-10-22T14:38:56.796921500Z"
    }
   },
   "id": "c9c14a67ca5ab9d"
  },
  {
   "cell_type": "markdown",
   "source": [
    "Comparing the preprocessing of `uk_geo_dataset`"
   ],
   "metadata": {
    "collapsed": false
   },
   "id": "d1dbd90d6489cb80"
  },
  {
   "cell_type": "code",
   "execution_count": 32,
   "outputs": [
    {
     "data": {
      "text/plain": "                                                 locs  \\\n0                                            [России]   \n1   [Псковской, Тверской, Тульской, Орловской обла...   \n2                                            [России]   \n6                                       [Австрийские]   \n7                                      [России, Вене]   \n12                              [России, Хохфильцене]   \n14                                      [Обертиллахе]   \n16                                          [Австрии]   \n20                   [Диснейленд, Токио, Диснейленда]   \n25                                         [Исландия]   \n26                                              [США]   \n27                                              [США]   \n30                                              [США]   \n31                                              [США]   \n33                                          [Россией]   \n34                                [Кремль, Белый дом]   \n35                                      [Россию, США]   \n37                                              [США]   \n40                                   [Великобритании]   \n41                                            [Крыму]   \n\n                                           clean_locs  \\\n0                                            [России]   \n1   [Псковской, Тверской, Тульской, Орловской обла...   \n2                                            [России]   \n6                                       [Австрийские]   \n7                                      [России, Вене]   \n12                              [России, Хохфильцене]   \n14                                      [Обертиллахе]   \n16                                          [Австрии]   \n20                   [Диснейленд, Токио, Диснейленда]   \n25                                         [Исландия]   \n26                                              [США]   \n27                                              [США]   \n30                                              [США]   \n31                                              [США]   \n33                                          [Россией]   \n34                                [Кремль, Белый дом]   \n35                                      [Россию, США]   \n37                                              [США]   \n40                                   [Великобритании]   \n41                                            [Крыму]   \n\n                                      hard_clean_locs  \n0                                            [россии]  \n1   [псковской, тверской, тульской, орловской обла...  \n2                                            [россии]  \n6                                       [австрийские]  \n7                                      [россии, вене]  \n12                              [россии, хохфильцене]  \n14                                      [обертиллахе]  \n16                                          [австрии]  \n20                   [диснейленд, токио, диснейленда]  \n25                                         [исландия]  \n26                                              [сша]  \n27                                              [сша]  \n30                                              [сша]  \n31                                              [сша]  \n33                                          [россией]  \n34                                [кремль, белый дом]  \n35                                      [россию, сша]  \n37                                              [сша]  \n40                                   [великобритании]  \n41                                            [крыму]  ",
      "text/html": "<div>\n<style scoped>\n    .dataframe tbody tr th:only-of-type {\n        vertical-align: middle;\n    }\n\n    .dataframe tbody tr th {\n        vertical-align: top;\n    }\n\n    .dataframe thead th {\n        text-align: right;\n    }\n</style>\n<table border=\"1\" class=\"dataframe\">\n  <thead>\n    <tr style=\"text-align: right;\">\n      <th></th>\n      <th>locs</th>\n      <th>clean_locs</th>\n      <th>hard_clean_locs</th>\n    </tr>\n  </thead>\n  <tbody>\n    <tr>\n      <th>0</th>\n      <td>[России]</td>\n      <td>[России]</td>\n      <td>[россии]</td>\n    </tr>\n    <tr>\n      <th>1</th>\n      <td>[Псковской, Тверской, Тульской, Орловской обла...</td>\n      <td>[Псковской, Тверской, Тульской, Орловской обла...</td>\n      <td>[псковской, тверской, тульской, орловской обла...</td>\n    </tr>\n    <tr>\n      <th>2</th>\n      <td>[России]</td>\n      <td>[России]</td>\n      <td>[россии]</td>\n    </tr>\n    <tr>\n      <th>6</th>\n      <td>[Австрийские]</td>\n      <td>[Австрийские]</td>\n      <td>[австрийские]</td>\n    </tr>\n    <tr>\n      <th>7</th>\n      <td>[России, Вене]</td>\n      <td>[России, Вене]</td>\n      <td>[россии, вене]</td>\n    </tr>\n    <tr>\n      <th>12</th>\n      <td>[России, Хохфильцене]</td>\n      <td>[России, Хохфильцене]</td>\n      <td>[россии, хохфильцене]</td>\n    </tr>\n    <tr>\n      <th>14</th>\n      <td>[Обертиллахе]</td>\n      <td>[Обертиллахе]</td>\n      <td>[обертиллахе]</td>\n    </tr>\n    <tr>\n      <th>16</th>\n      <td>[Австрии]</td>\n      <td>[Австрии]</td>\n      <td>[австрии]</td>\n    </tr>\n    <tr>\n      <th>20</th>\n      <td>[Диснейленд, Токио, Диснейленда]</td>\n      <td>[Диснейленд, Токио, Диснейленда]</td>\n      <td>[диснейленд, токио, диснейленда]</td>\n    </tr>\n    <tr>\n      <th>25</th>\n      <td>[Исландия]</td>\n      <td>[Исландия]</td>\n      <td>[исландия]</td>\n    </tr>\n    <tr>\n      <th>26</th>\n      <td>[США]</td>\n      <td>[США]</td>\n      <td>[сша]</td>\n    </tr>\n    <tr>\n      <th>27</th>\n      <td>[США]</td>\n      <td>[США]</td>\n      <td>[сша]</td>\n    </tr>\n    <tr>\n      <th>30</th>\n      <td>[США]</td>\n      <td>[США]</td>\n      <td>[сша]</td>\n    </tr>\n    <tr>\n      <th>31</th>\n      <td>[США]</td>\n      <td>[США]</td>\n      <td>[сша]</td>\n    </tr>\n    <tr>\n      <th>33</th>\n      <td>[Россией]</td>\n      <td>[Россией]</td>\n      <td>[россией]</td>\n    </tr>\n    <tr>\n      <th>34</th>\n      <td>[Кремль, Белый дом]</td>\n      <td>[Кремль, Белый дом]</td>\n      <td>[кремль, белый дом]</td>\n    </tr>\n    <tr>\n      <th>35</th>\n      <td>[Россию, США]</td>\n      <td>[Россию, США]</td>\n      <td>[россию, сша]</td>\n    </tr>\n    <tr>\n      <th>37</th>\n      <td>[США]</td>\n      <td>[США]</td>\n      <td>[сша]</td>\n    </tr>\n    <tr>\n      <th>40</th>\n      <td>[Великобритании]</td>\n      <td>[Великобритании]</td>\n      <td>[великобритании]</td>\n    </tr>\n    <tr>\n      <th>41</th>\n      <td>[Крыму]</td>\n      <td>[Крыму]</td>\n      <td>[крыму]</td>\n    </tr>\n  </tbody>\n</table>\n</div>"
     },
     "execution_count": 32,
     "metadata": {},
     "output_type": "execute_result"
    }
   ],
   "source": [
    "ru_locations = pd.DataFrame(\n",
    "    {\n",
    "        'locs': ru_geo_df[ru_geo_df['loc_markers'].apply(lambda x: len(x) > 0)][['text', 'loc_markers']].apply(\n",
    "            get_locations, axis=1\n",
    "        ),\n",
    "        'clean_locs': ru_geo_df[ru_geo_df['loc_markers'].apply(lambda x: len(x) > 0)][\n",
    "            ['clean_text', 'clean_loc_markers']].apply(get_locations, axis=1),\n",
    "        'hard_clean_locs': ru_geo_df[ru_geo_df['loc_markers'].apply(lambda x: len(x) > 0)][\n",
    "            ['hard_clean_text', 'hard_clean_loc_markers']].apply(get_locations, axis=1),\n",
    "    }\n",
    ")\n",
    "ru_locations.head(20)"
   ],
   "metadata": {
    "collapsed": false,
    "ExecuteTime": {
     "end_time": "2023-10-22T14:39:27.251706500Z",
     "start_time": "2023-10-22T14:38:57.426513200Z"
    }
   },
   "id": "3070d2e74d61bee9"
  },
  {
   "cell_type": "code",
   "execution_count": 33,
   "outputs": [
    {
     "data": {
      "text/plain": "                                            locs  \\\n6050538                                 [Гусева]   \n5894143                              [Туркмении]   \n7064432                                    [США]   \n7267665                                 [России]   \n1556632                                [Украины]   \n513079                                   [Сирии]   \n3573462                      [Айхберг, Eichberg]   \n6533715                                   [Иран]   \n2379005                                  [Китае]   \n3847692  [Центрального административного округа]   \n\n                                      clean_locs  \\\n6050538                                 [Гусева]   \n5894143                              [Туркмении]   \n7064432                                    [США]   \n7267665                                 [России]   \n1556632                                [Украины]   \n513079                                   [Сирии]   \n3573462                      [Айхберг, Eichberg]   \n6533715                                   [Иран]   \n2379005                                  [Китае]   \n3847692  [Центрального административного округа]   \n\n                                 hard_clean_locs  \n6050538                                 [гусева]  \n5894143                              [туркмении]  \n7064432                                    [сша]  \n7267665                                 [россии]  \n1556632                                [украины]  \n513079                                   [сирии]  \n3573462                           [айхберг, ehb]  \n6533715                                   [иран]  \n2379005                                  [китае]  \n3847692  [центрального административного округа]  ",
      "text/html": "<div>\n<style scoped>\n    .dataframe tbody tr th:only-of-type {\n        vertical-align: middle;\n    }\n\n    .dataframe tbody tr th {\n        vertical-align: top;\n    }\n\n    .dataframe thead th {\n        text-align: right;\n    }\n</style>\n<table border=\"1\" class=\"dataframe\">\n  <thead>\n    <tr style=\"text-align: right;\">\n      <th></th>\n      <th>locs</th>\n      <th>clean_locs</th>\n      <th>hard_clean_locs</th>\n    </tr>\n  </thead>\n  <tbody>\n    <tr>\n      <th>6050538</th>\n      <td>[Гусева]</td>\n      <td>[Гусева]</td>\n      <td>[гусева]</td>\n    </tr>\n    <tr>\n      <th>5894143</th>\n      <td>[Туркмении]</td>\n      <td>[Туркмении]</td>\n      <td>[туркмении]</td>\n    </tr>\n    <tr>\n      <th>7064432</th>\n      <td>[США]</td>\n      <td>[США]</td>\n      <td>[сша]</td>\n    </tr>\n    <tr>\n      <th>7267665</th>\n      <td>[России]</td>\n      <td>[России]</td>\n      <td>[россии]</td>\n    </tr>\n    <tr>\n      <th>1556632</th>\n      <td>[Украины]</td>\n      <td>[Украины]</td>\n      <td>[украины]</td>\n    </tr>\n    <tr>\n      <th>513079</th>\n      <td>[Сирии]</td>\n      <td>[Сирии]</td>\n      <td>[сирии]</td>\n    </tr>\n    <tr>\n      <th>3573462</th>\n      <td>[Айхберг, Eichberg]</td>\n      <td>[Айхберг, Eichberg]</td>\n      <td>[айхберг, ehb]</td>\n    </tr>\n    <tr>\n      <th>6533715</th>\n      <td>[Иран]</td>\n      <td>[Иран]</td>\n      <td>[иран]</td>\n    </tr>\n    <tr>\n      <th>2379005</th>\n      <td>[Китае]</td>\n      <td>[Китае]</td>\n      <td>[китае]</td>\n    </tr>\n    <tr>\n      <th>3847692</th>\n      <td>[Центрального административного округа]</td>\n      <td>[Центрального административного округа]</td>\n      <td>[центрального административного округа]</td>\n    </tr>\n  </tbody>\n</table>\n</div>"
     },
     "execution_count": 33,
     "metadata": {},
     "output_type": "execute_result"
    }
   ],
   "source": [
    "ru_locations.sample(10)"
   ],
   "metadata": {
    "collapsed": false,
    "ExecuteTime": {
     "end_time": "2023-10-22T14:39:27.328238100Z",
     "start_time": "2023-10-22T14:39:27.250705600Z"
    }
   },
   "id": "c0dbd04ba6aec4"
  },
  {
   "cell_type": "markdown",
   "source": [
    "## Look for distributions of number of locations and text lenghths "
   ],
   "metadata": {
    "collapsed": false
   },
   "id": "ef65dd5c6089ae3"
  },
  {
   "cell_type": "code",
   "execution_count": 34,
   "outputs": [],
   "source": [
    "uk_geo_df['number_of_locations'] = uk_geo_df['clean_loc_markers'].apply(len)\n",
    "ru_geo_df['number_of_locations'] = ru_geo_df['clean_loc_markers'].apply(len)"
   ],
   "metadata": {
    "collapsed": false,
    "ExecuteTime": {
     "end_time": "2023-10-22T14:39:28.561627500Z",
     "start_time": "2023-10-22T14:39:27.308236800Z"
    }
   },
   "id": "82d931cfd7c76f14"
  },
  {
   "cell_type": "markdown",
   "source": [
    "As in lecture we make `stratify_col`, to split our datasets in future"
   ],
   "metadata": {
    "collapsed": false
   },
   "id": "5434ea80740441b0"
  },
  {
   "cell_type": "code",
   "execution_count": 35,
   "outputs": [],
   "source": [
    "uk_geo_df[\"stratify_col\"] = uk_geo_df[\"number_of_locations\"]\n",
    "uk_geo_df.loc[uk_geo_df[\"number_of_locations\"] >= 14, \"stratify_col\"] = -1\n",
    "\n",
    "ru_geo_df[\"stratify_col\"] = ru_geo_df[\"number_of_locations\"]\n",
    "ru_geo_df.loc[ru_geo_df[\"number_of_locations\"] >= 14, \"stratify_col\"] = -1"
   ],
   "metadata": {
    "collapsed": false,
    "ExecuteTime": {
     "end_time": "2023-10-22T14:39:28.616088300Z",
     "start_time": "2023-10-22T14:39:28.562627300Z"
    }
   },
   "id": "82bb91332777f8b5"
  },
  {
   "cell_type": "code",
   "execution_count": 36,
   "outputs": [
    {
     "data": {
      "text/plain": "<Axes: xlabel='stratify_col', ylabel='Count'>"
     },
     "execution_count": 36,
     "metadata": {},
     "output_type": "execute_result"
    },
    {
     "data": {
      "text/plain": "<Figure size 640x480 with 1 Axes>",
      "image/png": "[encoded data removed]"
     },
     "metadata": {},
     "output_type": "display_data"
    }
   ],
   "source": [
    "sns.histplot(uk_geo_df[uk_geo_df['number_of_locations'] > 0], x='stratify_col', hue='is_valid', bins=40)"
   ],
   "metadata": {
    "collapsed": false,
    "ExecuteTime": {
     "end_time": "2023-10-22T14:39:29.027172700Z",
     "start_time": "2023-10-22T14:39:28.603088700Z"
    }
   },
   "id": "fa1d903c9038076"
  },
  {
   "cell_type": "code",
   "execution_count": 37,
   "outputs": [
    {
     "data": {
      "text/plain": "<Axes: xlabel='stratify_col', ylabel='Count'>"
     },
     "execution_count": 37,
     "metadata": {},
     "output_type": "execute_result"
    },
    {
     "data": {
      "text/plain": "<Figure size 640x480 with 1 Axes>",
      "image/png": "[encoded data removed]"
     },
     "metadata": {},
     "output_type": "display_data"
    }
   ],
   "source": [
    "sns.histplot(ru_geo_df[ru_geo_df['number_of_locations'] > 0], x='stratify_col', bins=40)"
   ],
   "metadata": {
    "collapsed": false,
    "ExecuteTime": {
     "end_time": "2023-10-22T14:39:30.124916900Z",
     "start_time": "2023-10-22T14:39:29.025173500Z"
    }
   },
   "id": "f9a9ee7920de76c3"
  },
  {
   "cell_type": "markdown",
   "source": [
    "As we above, `uk_geo_dataset` and `ru_geo_dataset` have the same distribution of number of location.\n",
    "\n",
    "Next we will look for distribution of text lengths:"
   ],
   "metadata": {
    "collapsed": false
   },
   "id": "7980f906460dc3ec"
  },
  {
   "cell_type": "code",
   "execution_count": 38,
   "outputs": [],
   "source": [
    "import spacy\n",
    "\n",
    "tokenizer = spacy.load(\"xx_ent_wiki_sm\", disable=[\"tagger\", \"parser\", \"ner\", \"textcat\"])"
   ],
   "metadata": {
    "collapsed": false,
    "ExecuteTime": {
     "end_time": "2023-10-22T14:39:31.301000600Z",
     "start_time": "2023-10-22T14:39:30.122914300Z"
    }
   },
   "id": "530751fd548cd123"
  },
  {
   "cell_type": "code",
   "execution_count": 39,
   "outputs": [
    {
     "data": {
      "text/plain": "<Axes: xlabel='hard_clean_text', ylabel='Count'>"
     },
     "execution_count": 39,
     "metadata": {},
     "output_type": "execute_result"
    },
    {
     "data": {
      "text/plain": "<Figure size 640x480 with 1 Axes>",
      "image/png": "[encoded data removed]"
     },
     "metadata": {},
     "output_type": "display_data"
    }
   ],
   "source": [
    "sns.histplot(uk_geo_df['hard_clean_text'].apply(lambda x: len(tokenizer(x))))"
   ],
   "metadata": {
    "collapsed": false,
    "ExecuteTime": {
     "end_time": "2023-10-22T14:40:04.924817100Z",
     "start_time": "2023-10-22T14:39:31.302000500Z"
    }
   },
   "id": "7db40635d914dd59"
  },
  {
   "cell_type": "code",
   "execution_count": 40,
   "outputs": [
    {
     "data": {
      "text/plain": "<Axes: xlabel='hard_clean_text', ylabel='Count'>"
     },
     "execution_count": 40,
     "metadata": {},
     "output_type": "execute_result"
    },
    {
     "data": {
      "text/plain": "<Figure size 640x480 with 1 Axes>",
      "image/png": "[encoded data removed]"
     },
     "metadata": {},
     "output_type": "display_data"
    }
   ],
   "source": [
    "sns.histplot(ru_geo_df['hard_clean_text'].apply(lambda x: len(tokenizer(x))))"
   ],
   "metadata": {
    "collapsed": false,
    "ExecuteTime": {
     "end_time": "2023-10-22T14:43:30.543619300Z",
     "start_time": "2023-10-22T14:40:04.922817900Z"
    }
   },
   "id": "36894cdcd4099538"
  },
  {
   "cell_type": "markdown",
   "source": [
    "These distributions look similar, but in `ru_geo_df` more gaps in distribution.\n",
    "Also, we can see, that in `ru_geo_df` there are some outliers in data (too long sentences), thats why I decided to remove them:"
   ],
   "metadata": {
    "collapsed": false
   },
   "id": "4f1e9c178dbaa893"
  },
  {
   "cell_type": "code",
   "execution_count": 44,
   "outputs": [
    {
     "data": {
      "text/plain": "(516, 12)"
     },
     "execution_count": 44,
     "metadata": {},
     "output_type": "execute_result"
    }
   ],
   "source": [
    "too_long_indices = ru_geo_df['hard_clean_text'].apply(lambda x: len(tokenizer(x))) >= 100\n",
    "ru_geo_df[too_long_indices].shape"
   ],
   "metadata": {
    "collapsed": false,
    "ExecuteTime": {
     "end_time": "2023-10-22T14:50:16.579517300Z",
     "start_time": "2023-10-22T14:47:34.281596800Z"
    }
   },
   "id": "974024ee4340fc62"
  },
  {
   "cell_type": "code",
   "execution_count": 45,
   "outputs": [
    {
     "data": {
      "text/plain": "(8028324, 12)"
     },
     "execution_count": 45,
     "metadata": {},
     "output_type": "execute_result"
    }
   ],
   "source": [
    "ru_geo_df = ru_geo_df[~too_long_indices].reset_index(drop=True)\n",
    "ru_geo_df.shape"
   ],
   "metadata": {
    "collapsed": false,
    "ExecuteTime": {
     "end_time": "2023-10-22T14:50:21.204667200Z",
     "start_time": "2023-10-22T14:50:16.579517300Z"
    }
   },
   "id": "bc13e801576a8a85"
  },
  {
   "cell_type": "markdown",
   "source": [
    "Finally, we look at the distribution of text lengths in test dataset:"
   ],
   "metadata": {
    "collapsed": false
   },
   "id": "9209850eec198fc3"
  },
  {
   "cell_type": "code",
   "execution_count": 46,
   "outputs": [
    {
     "data": {
      "text/plain": "<Axes: xlabel='text', ylabel='Count'>"
     },
     "execution_count": 46,
     "metadata": {},
     "output_type": "execute_result"
    },
    {
     "data": {
      "text/plain": "<Figure size 640x480 with 1 Axes>",
      "image/png": "[encoded data removed]"
     },
     "metadata": {},
     "output_type": "display_data"
    }
   ],
   "source": [
    "test = pd.read_csv('datasets/test.csv')\n",
    "sns.histplot(test['text'].apply(lambda x: len(tokenizer(hard_processing(x)))))"
   ],
   "metadata": {
    "collapsed": false,
    "ExecuteTime": {
     "end_time": "2023-10-22T14:50:21.440136800Z",
     "start_time": "2023-10-22T14:50:21.204667200Z"
    }
   },
   "id": "9865496ba138eaac"
  },
  {
   "cell_type": "markdown",
   "source": [
    "## Concatenate the datasets\n",
    "### Split `ru_geo_df` on train/test(valid) groups "
   ],
   "metadata": {
    "collapsed": false
   },
   "id": "d38ba9dfc88881b0"
  },
  {
   "cell_type": "code",
   "execution_count": 47,
   "outputs": [
    {
     "data": {
      "text/plain": "                                                text loc_markers  \\\n0  Верховный суд США запретил психически больным ...  [(14, 17)]   \n1        «Может быть, на благотворительном концерте?          []   \n2  Задержанного уже этапировали в регион совершен...  [(66, 72)]   \n3  В само жюри вошли известные журналисты, руково...          []   \n4  В частности, ВВС страны используют боеприпасы ...          []   \n\n             org_markers per_markers  doc_id  sent_id  \\\n0  [(0, 13), (118, 137)]          []  505031        0   \n1                     []          []  275352        2   \n2                     []          []  293456        5   \n3                     []          []  596815        3   \n4             [(13, 16)]          []  290177        6   \n\n                                          clean_text clean_loc_markers  \\\n0  Верховный суд США запретил психически больным ...        [(14, 17)]   \n1           Может быть на благотворительном концерте                []   \n2  Задержанного уже этапировали в регион совершен...        [(64, 70)]   \n3  В само жюри вошли известные журналисты руковод...                []   \n4  В частности ВВС страны используют боеприпасы A...                []   \n\n                                     hard_clean_text hard_clean_loc_markers  \\\n0  верховный суд сша запретил психически больным ...             [(14, 17)]   \n1        «может быть, на благотворительном концерте?                     []   \n2  задержанного уже этапировали регион совершения...             [(62, 68)]   \n3  само жюри вошли известные журналисты, руководи...                     []   \n4  частности, ввс страны используют боеприпасы ai...                     []   \n\n   number_of_locations  stratify_col  is_valid  \n0                    1             1         0  \n1                    0             0         0  \n2                    1             1         0  \n3                    0             0         0  \n4                    0             0         0  ",
      "text/html": "<div>\n<style scoped>\n    .dataframe tbody tr th:only-of-type {\n        vertical-align: middle;\n    }\n\n    .dataframe tbody tr th {\n        vertical-align: top;\n    }\n\n    .dataframe thead th {\n        text-align: right;\n    }\n</style>\n<table border=\"1\" class=\"dataframe\">\n  <thead>\n    <tr style=\"text-align: right;\">\n      <th></th>\n      <th>text</th>\n      <th>loc_markers</th>\n      <th>org_markers</th>\n      <th>per_markers</th>\n      <th>doc_id</th>\n      <th>sent_id</th>\n      <th>clean_text</th>\n      <th>clean_loc_markers</th>\n      <th>hard_clean_text</th>\n      <th>hard_clean_loc_markers</th>\n      <th>number_of_locations</th>\n      <th>stratify_col</th>\n      <th>is_valid</th>\n    </tr>\n  </thead>\n  <tbody>\n    <tr>\n      <th>0</th>\n      <td>Верховный суд США запретил психически больным ...</td>\n      <td>[(14, 17)]</td>\n      <td>[(0, 13), (118, 137)]</td>\n      <td>[]</td>\n      <td>505031</td>\n      <td>0</td>\n      <td>Верховный суд США запретил психически больным ...</td>\n      <td>[(14, 17)]</td>\n      <td>верховный суд сша запретил психически больным ...</td>\n      <td>[(14, 17)]</td>\n      <td>1</td>\n      <td>1</td>\n      <td>0</td>\n    </tr>\n    <tr>\n      <th>1</th>\n      <td>«Может быть, на благотворительном концерте?</td>\n      <td>[]</td>\n      <td>[]</td>\n      <td>[]</td>\n      <td>275352</td>\n      <td>2</td>\n      <td>Может быть на благотворительном концерте</td>\n      <td>[]</td>\n      <td>«может быть, на благотворительном концерте?</td>\n      <td>[]</td>\n      <td>0</td>\n      <td>0</td>\n      <td>0</td>\n    </tr>\n    <tr>\n      <th>2</th>\n      <td>Задержанного уже этапировали в регион совершен...</td>\n      <td>[(66, 72)]</td>\n      <td>[]</td>\n      <td>[]</td>\n      <td>293456</td>\n      <td>5</td>\n      <td>Задержанного уже этапировали в регион совершен...</td>\n      <td>[(64, 70)]</td>\n      <td>задержанного уже этапировали регион совершения...</td>\n      <td>[(62, 68)]</td>\n      <td>1</td>\n      <td>1</td>\n      <td>0</td>\n    </tr>\n    <tr>\n      <th>3</th>\n      <td>В само жюри вошли известные журналисты, руково...</td>\n      <td>[]</td>\n      <td>[]</td>\n      <td>[]</td>\n      <td>596815</td>\n      <td>3</td>\n      <td>В само жюри вошли известные журналисты руковод...</td>\n      <td>[]</td>\n      <td>само жюри вошли известные журналисты, руководи...</td>\n      <td>[]</td>\n      <td>0</td>\n      <td>0</td>\n      <td>0</td>\n    </tr>\n    <tr>\n      <th>4</th>\n      <td>В частности, ВВС страны используют боеприпасы ...</td>\n      <td>[]</td>\n      <td>[(13, 16)]</td>\n      <td>[]</td>\n      <td>290177</td>\n      <td>6</td>\n      <td>В частности ВВС страны используют боеприпасы A...</td>\n      <td>[]</td>\n      <td>частности, ввс страны используют боеприпасы ai...</td>\n      <td>[]</td>\n      <td>0</td>\n      <td>0</td>\n      <td>0</td>\n    </tr>\n  </tbody>\n</table>\n</div>"
     },
     "execution_count": 47,
     "metadata": {},
     "output_type": "execute_result"
    }
   ],
   "source": [
    "from sklearn.model_selection import train_test_split\n",
    "\n",
    "ru_geo_df_train, ru_geo_df_test = train_test_split(\n",
    "    ru_geo_df, test_size=uk_geo_df['is_valid'].sum() / uk_geo_df.shape[0], stratify=ru_geo_df[\n",
    "        'stratify_col']\n",
    "    )\n",
    "\n",
    "ru_geo_df_train['is_valid'] = 0\n",
    "ru_geo_df_test['is_valid'] = 1\n",
    "\n",
    "ru_geo_df = pd.concat([ru_geo_df_train, ru_geo_df_test]).reset_index(drop=True)\n",
    "ru_geo_df.head()"
   ],
   "metadata": {
    "collapsed": false,
    "ExecuteTime": {
     "end_time": "2023-10-22T14:50:35.429958400Z",
     "start_time": "2023-10-22T14:50:21.440136800Z"
    }
   },
   "id": "e02df5e0538261fc"
  },
  {
   "cell_type": "markdown",
   "source": [
    "### Merging ru and ua datasets"
   ],
   "metadata": {
    "collapsed": false
   },
   "id": "6849c97d03ba4d5"
  },
  {
   "cell_type": "code",
   "execution_count": 48,
   "outputs": [
    {
     "data": {
      "text/plain": "                                                text loc_markers org_markers  \\\n0  Чим довше мають скачки тиску гіпертензією, тим...          []          []   \n1  А поки що починали цвісти троянди, випускники ...          []          []   \n2  Крім того, в 2020 р. багато експертів прогнозу...          []          []   \n3  Сильно сумніваюся, що ви зупините свій вибір н...          []          []   \n4  Цей унікальний правовий важіль утворено 1998 р...          []          []   \n\n    per_markers  is_valid                                         clean_text  \\\n0            []         0  Чим довше мають скачки тиску гіпертензією тим ...   \n1  [(114, 131)]         0  А поки що починали цвісти троянди випускники с...   \n2            []         0  Крім того в 2020 р багато експертів прогнозуют...   \n3            []         0  Сильно сумніваюся що ви зупините свій вибір на...   \n4            []         0  Цей унікальний правовий важіль утворено 1998 р...   \n\n  clean_loc_markers                                    hard_clean_text  \\\n0                []  чим довше мають скачки тиску гіпертензією, тим...   \n1                []  поки що починали цвісти троянди, випускники ск...   \n2                []  крім того, багато експертів прогнозують виникн...   \n3                []  сильно сумніваюся, що ви зупините свій вибір н...   \n4                []  цей унікальний правовий важіль утворено року д...   \n\n  hard_clean_loc_markers  number_of_locations  stratify_col language  doc_id  \\\n0                     []                    0             0       ua     NaN   \n1                     []                    0             0       ua     NaN   \n2                     []                    0             0       ua     NaN   \n3                     []                    0             0       ua     NaN   \n4                     []                    0             0       ua     NaN   \n\n   sent_id  \n0      NaN  \n1      NaN  \n2      NaN  \n3      NaN  \n4      NaN  ",
      "text/html": "<div>\n<style scoped>\n    .dataframe tbody tr th:only-of-type {\n        vertical-align: middle;\n    }\n\n    .dataframe tbody tr th {\n        vertical-align: top;\n    }\n\n    .dataframe thead th {\n        text-align: right;\n    }\n</style>\n<table border=\"1\" class=\"dataframe\">\n  <thead>\n    <tr style=\"text-align: right;\">\n      <th></th>\n      <th>text</th>\n      <th>loc_markers</th>\n      <th>org_markers</th>\n      <th>per_markers</th>\n      <th>is_valid</th>\n      <th>clean_text</th>\n      <th>clean_loc_markers</th>\n      <th>hard_clean_text</th>\n      <th>hard_clean_loc_markers</th>\n      <th>number_of_locations</th>\n      <th>stratify_col</th>\n      <th>language</th>\n      <th>doc_id</th>\n      <th>sent_id</th>\n    </tr>\n  </thead>\n  <tbody>\n    <tr>\n      <th>0</th>\n      <td>Чим довше мають скачки тиску гіпертензією, тим...</td>\n      <td>[]</td>\n      <td>[]</td>\n      <td>[]</td>\n      <td>0</td>\n      <td>Чим довше мають скачки тиску гіпертензією тим ...</td>\n      <td>[]</td>\n      <td>чим довше мають скачки тиску гіпертензією, тим...</td>\n      <td>[]</td>\n      <td>0</td>\n      <td>0</td>\n      <td>ua</td>\n      <td>NaN</td>\n      <td>NaN</td>\n    </tr>\n    <tr>\n      <th>1</th>\n      <td>А поки що починали цвісти троянди, випускники ...</td>\n      <td>[]</td>\n      <td>[]</td>\n      <td>[(114, 131)]</td>\n      <td>0</td>\n      <td>А поки що починали цвісти троянди випускники с...</td>\n      <td>[]</td>\n      <td>поки що починали цвісти троянди, випускники ск...</td>\n      <td>[]</td>\n      <td>0</td>\n      <td>0</td>\n      <td>ua</td>\n      <td>NaN</td>\n      <td>NaN</td>\n    </tr>\n    <tr>\n      <th>2</th>\n      <td>Крім того, в 2020 р. багато експертів прогнозу...</td>\n      <td>[]</td>\n      <td>[]</td>\n      <td>[]</td>\n      <td>0</td>\n      <td>Крім того в 2020 р багато експертів прогнозуют...</td>\n      <td>[]</td>\n      <td>крім того, багато експертів прогнозують виникн...</td>\n      <td>[]</td>\n      <td>0</td>\n      <td>0</td>\n      <td>ua</td>\n      <td>NaN</td>\n      <td>NaN</td>\n    </tr>\n    <tr>\n      <th>3</th>\n      <td>Сильно сумніваюся, що ви зупините свій вибір н...</td>\n      <td>[]</td>\n      <td>[]</td>\n      <td>[]</td>\n      <td>0</td>\n      <td>Сильно сумніваюся що ви зупините свій вибір на...</td>\n      <td>[]</td>\n      <td>сильно сумніваюся, що ви зупините свій вибір н...</td>\n      <td>[]</td>\n      <td>0</td>\n      <td>0</td>\n      <td>ua</td>\n      <td>NaN</td>\n      <td>NaN</td>\n    </tr>\n    <tr>\n      <th>4</th>\n      <td>Цей унікальний правовий важіль утворено 1998 р...</td>\n      <td>[]</td>\n      <td>[]</td>\n      <td>[]</td>\n      <td>0</td>\n      <td>Цей унікальний правовий важіль утворено 1998 р...</td>\n      <td>[]</td>\n      <td>цей унікальний правовий важіль утворено року д...</td>\n      <td>[]</td>\n      <td>0</td>\n      <td>0</td>\n      <td>ua</td>\n      <td>NaN</td>\n      <td>NaN</td>\n    </tr>\n  </tbody>\n</table>\n</div>"
     },
     "execution_count": 48,
     "metadata": {},
     "output_type": "execute_result"
    }
   ],
   "source": [
    "uk_geo_df['language'] = 'ua'\n",
    "ru_geo_df['language'] = 'ru'\n",
    "\n",
    "df = pd.concat([uk_geo_df, ru_geo_df]).reset_index(drop=True)\n",
    "df.head()"
   ],
   "metadata": {
    "collapsed": false,
    "ExecuteTime": {
     "end_time": "2023-10-22T14:50:43.126198400Z",
     "start_time": "2023-10-22T14:50:35.429958400Z"
    }
   },
   "id": "f01e9e8d42ae3f8c"
  },
  {
   "cell_type": "markdown",
   "source": [
    "Delete all too short text:"
   ],
   "metadata": {
    "collapsed": false
   },
   "id": "a545c513dda61bcb"
  },
  {
   "cell_type": "code",
   "execution_count": 49,
   "outputs": [
    {
     "data": {
      "text/plain": "                        text loc_markers org_markers per_markers  is_valid  \\\n1011061  Андре Агасси, США8.  [(14, 17)]          []   [(0, 12)]         0   \n1018100             Франция!    [(0, 7)]          []          []         0   \n1018724            Лиссабон;    [(0, 8)]          []          []         0   \n1038075     \"Почему Украина?   [(8, 15)]          []          []         0   \n1047357       Народ Украины!   [(6, 13)]          []          []         0   \n...                      ...         ...         ...         ...       ...   \n9022331    Хорватия - 11428.    [(0, 8)]          []          []         1   \n9025927     обсерватории Кек  [(13, 16)]          []          []         1   \n9032347               «Киев.    [(1, 6)]          []          []         1   \n9036640    Германия – 13397.    [(0, 8)]          []          []         1   \n9037012            Париж, 2.    [(0, 5)]          []          []         1   \n\n                clean_text clean_loc_markers    hard_clean_text  \\\n1011061  Андре Агасси США8        [(13, 16)]  андре агасси, сша   \n1018100            Франция          [(0, 7)]           франция!   \n1018724           Лиссабон          [(0, 8)]          лиссабон;   \n1038075     Почему Украина         [(7, 14)]   \"почему украина?   \n1047357      Народ Украины         [(6, 13)]     народ украины!   \n...                    ...               ...                ...   \n9022331     Хорватия 11428          [(0, 8)]         хорватия -   \n9025927   обсерватории Кек        [(13, 16)]   обсерватории кек   \n9032347               Киев          [(0, 4)]              «киев   \n9036640     Германия 13397          [(0, 8)]         германия –   \n9037012            Париж 2          [(0, 5)]             париж,   \n\n        hard_clean_loc_markers  number_of_locations  stratify_col language  \\\n1011061             [(14, 17)]                    1             1       ru   \n1018100               [(0, 7)]                    1             1       ru   \n1018724               [(0, 8)]                    1             1       ru   \n1038075              [(8, 15)]                    1             1       ru   \n1047357              [(6, 13)]                    1             1       ru   \n...                        ...                  ...           ...      ...   \n9022331               [(0, 8)]                    1             1       ru   \n9025927             [(13, 16)]                    1             1       ru   \n9032347               [(1, 5)]                    1             1       ru   \n9036640               [(0, 8)]                    1             1       ru   \n9037012               [(0, 5)]                    1             1       ru   \n\n           doc_id  sent_id  \n1011061  610608.0     53.0  \n1018100   75311.0      6.0  \n1018724  518611.0      5.0  \n1038075  303006.0      2.0  \n1047357  424143.0     79.0  \n...           ...      ...  \n9022331  478681.0     19.0  \n9025927  633647.0      0.0  \n9032347   72459.0      4.0  \n9036640  570667.0     13.0  \n9037012  518611.0     35.0  \n\n[1356 rows x 14 columns]",
      "text/html": "<div>\n<style scoped>\n    .dataframe tbody tr th:only-of-type {\n        vertical-align: middle;\n    }\n\n    .dataframe tbody tr th {\n        vertical-align: top;\n    }\n\n    .dataframe thead th {\n        text-align: right;\n    }\n</style>\n<table border=\"1\" class=\"dataframe\">\n  <thead>\n    <tr style=\"text-align: right;\">\n      <th></th>\n      <th>text</th>\n      <th>loc_markers</th>\n      <th>org_markers</th>\n      <th>per_markers</th>\n      <th>is_valid</th>\n      <th>clean_text</th>\n      <th>clean_loc_markers</th>\n      <th>hard_clean_text</th>\n      <th>hard_clean_loc_markers</th>\n      <th>number_of_locations</th>\n      <th>stratify_col</th>\n      <th>language</th>\n      <th>doc_id</th>\n      <th>sent_id</th>\n    </tr>\n  </thead>\n  <tbody>\n    <tr>\n      <th>1011061</th>\n      <td>Андре Агасси, США8.</td>\n      <td>[(14, 17)]</td>\n      <td>[]</td>\n      <td>[(0, 12)]</td>\n      <td>0</td>\n      <td>Андре Агасси США8</td>\n      <td>[(13, 16)]</td>\n      <td>андре агасси, сша</td>\n      <td>[(14, 17)]</td>\n      <td>1</td>\n      <td>1</td>\n      <td>ru</td>\n      <td>610608.0</td>\n      <td>53.0</td>\n    </tr>\n    <tr>\n      <th>1018100</th>\n      <td>Франция!</td>\n      <td>[(0, 7)]</td>\n      <td>[]</td>\n      <td>[]</td>\n      <td>0</td>\n      <td>Франция</td>\n      <td>[(0, 7)]</td>\n      <td>франция!</td>\n      <td>[(0, 7)]</td>\n      <td>1</td>\n      <td>1</td>\n      <td>ru</td>\n      <td>75311.0</td>\n      <td>6.0</td>\n    </tr>\n    <tr>\n      <th>1018724</th>\n      <td>Лиссабон;</td>\n      <td>[(0, 8)]</td>\n      <td>[]</td>\n      <td>[]</td>\n      <td>0</td>\n      <td>Лиссабон</td>\n      <td>[(0, 8)]</td>\n      <td>лиссабон;</td>\n      <td>[(0, 8)]</td>\n      <td>1</td>\n      <td>1</td>\n      <td>ru</td>\n      <td>518611.0</td>\n      <td>5.0</td>\n    </tr>\n    <tr>\n      <th>1038075</th>\n      <td>\"Почему Украина?</td>\n      <td>[(8, 15)]</td>\n      <td>[]</td>\n      <td>[]</td>\n      <td>0</td>\n      <td>Почему Украина</td>\n      <td>[(7, 14)]</td>\n      <td>\"почему украина?</td>\n      <td>[(8, 15)]</td>\n      <td>1</td>\n      <td>1</td>\n      <td>ru</td>\n      <td>303006.0</td>\n      <td>2.0</td>\n    </tr>\n    <tr>\n      <th>1047357</th>\n      <td>Народ Украины!</td>\n      <td>[(6, 13)]</td>\n      <td>[]</td>\n      <td>[]</td>\n      <td>0</td>\n      <td>Народ Украины</td>\n      <td>[(6, 13)]</td>\n      <td>народ украины!</td>\n      <td>[(6, 13)]</td>\n      <td>1</td>\n      <td>1</td>\n      <td>ru</td>\n      <td>424143.0</td>\n      <td>79.0</td>\n    </tr>\n    <tr>\n      <th>...</th>\n      <td>...</td>\n      <td>...</td>\n      <td>...</td>\n      <td>...</td>\n      <td>...</td>\n      <td>...</td>\n      <td>...</td>\n      <td>...</td>\n      <td>...</td>\n      <td>...</td>\n      <td>...</td>\n      <td>...</td>\n      <td>...</td>\n      <td>...</td>\n    </tr>\n    <tr>\n      <th>9022331</th>\n      <td>Хорватия - 11428.</td>\n      <td>[(0, 8)]</td>\n      <td>[]</td>\n      <td>[]</td>\n      <td>1</td>\n      <td>Хорватия 11428</td>\n      <td>[(0, 8)]</td>\n      <td>хорватия -</td>\n      <td>[(0, 8)]</td>\n      <td>1</td>\n      <td>1</td>\n      <td>ru</td>\n      <td>478681.0</td>\n      <td>19.0</td>\n    </tr>\n    <tr>\n      <th>9025927</th>\n      <td>обсерватории Кек</td>\n      <td>[(13, 16)]</td>\n      <td>[]</td>\n      <td>[]</td>\n      <td>1</td>\n      <td>обсерватории Кек</td>\n      <td>[(13, 16)]</td>\n      <td>обсерватории кек</td>\n      <td>[(13, 16)]</td>\n      <td>1</td>\n      <td>1</td>\n      <td>ru</td>\n      <td>633647.0</td>\n      <td>0.0</td>\n    </tr>\n    <tr>\n      <th>9032347</th>\n      <td>«Киев.</td>\n      <td>[(1, 6)]</td>\n      <td>[]</td>\n      <td>[]</td>\n      <td>1</td>\n      <td>Киев</td>\n      <td>[(0, 4)]</td>\n      <td>«киев</td>\n      <td>[(1, 5)]</td>\n      <td>1</td>\n      <td>1</td>\n      <td>ru</td>\n      <td>72459.0</td>\n      <td>4.0</td>\n    </tr>\n    <tr>\n      <th>9036640</th>\n      <td>Германия – 13397.</td>\n      <td>[(0, 8)]</td>\n      <td>[]</td>\n      <td>[]</td>\n      <td>1</td>\n      <td>Германия 13397</td>\n      <td>[(0, 8)]</td>\n      <td>германия –</td>\n      <td>[(0, 8)]</td>\n      <td>1</td>\n      <td>1</td>\n      <td>ru</td>\n      <td>570667.0</td>\n      <td>13.0</td>\n    </tr>\n    <tr>\n      <th>9037012</th>\n      <td>Париж, 2.</td>\n      <td>[(0, 5)]</td>\n      <td>[]</td>\n      <td>[]</td>\n      <td>1</td>\n      <td>Париж 2</td>\n      <td>[(0, 5)]</td>\n      <td>париж,</td>\n      <td>[(0, 5)]</td>\n      <td>1</td>\n      <td>1</td>\n      <td>ru</td>\n      <td>518611.0</td>\n      <td>35.0</td>\n    </tr>\n  </tbody>\n</table>\n<p>1356 rows × 14 columns</p>\n</div>"
     },
     "execution_count": 49,
     "metadata": {},
     "output_type": "execute_result"
    }
   ],
   "source": [
    "df[(df['text'].apply(len) < 20) & (df['number_of_locations'] != 0)]"
   ],
   "metadata": {
    "collapsed": false,
    "ExecuteTime": {
     "end_time": "2023-10-22T14:50:44.881759400Z",
     "start_time": "2023-10-22T14:50:43.124198Z"
    }
   },
   "id": "c900ae4a07210392"
  },
  {
   "cell_type": "code",
   "execution_count": 50,
   "outputs": [
    {
     "data": {
      "text/plain": "(9008516, 14)"
     },
     "execution_count": 50,
     "metadata": {},
     "output_type": "execute_result"
    }
   ],
   "source": [
    "df = df[(df['text'].apply(len) >= 20)]\n",
    "df.shape"
   ],
   "metadata": {
    "collapsed": false,
    "ExecuteTime": {
     "end_time": "2023-10-22T14:50:48.240447500Z",
     "start_time": "2023-10-22T14:50:44.879759300Z"
    }
   },
   "id": "ade5910d3c950240"
  },
  {
   "cell_type": "markdown",
   "source": [
    "## Building subdatasets"
   ],
   "metadata": {
    "collapsed": false
   },
   "id": "6e9f3f46f10ee3ee"
  },
  {
   "cell_type": "code",
   "execution_count": 51,
   "outputs": [
    {
     "data": {
      "text/plain": "((100000, 14), (1000000, 14))"
     },
     "execution_count": 51,
     "metadata": {},
     "output_type": "execute_result"
    }
   ],
   "source": [
    "_, small_df = train_test_split(df, test_size=1e5 / df.shape[0], stratify=df['is_valid'])\n",
    "_, medium_df = train_test_split(df, test_size=1e6 / df.shape[0], stratify=df['is_valid'])\n",
    "\n",
    "small_df = small_df.reset_index(drop=True)\n",
    "medium_df = medium_df.reset_index(drop=True)\n",
    "\n",
    "small_df.shape, medium_df.shape"
   ],
   "metadata": {
    "collapsed": false,
    "ExecuteTime": {
     "end_time": "2023-10-22T14:50:59.271125600Z",
     "start_time": "2023-10-22T14:50:48.241447400Z"
    }
   },
   "id": "d93bed0aacbc1529"
  },
  {
   "cell_type": "code",
   "execution_count": 52,
   "outputs": [],
   "source": [
    "small_df.to_csv('datasets/small_dataset.csv', index=False)\n",
    "medium_df.to_csv('datasets/medium_dataset.csv', index=False)\n",
    "df.to_csv('datasets/big_dataset.csv', index=False)"
   ],
   "metadata": {
    "collapsed": false,
    "ExecuteTime": {
     "end_time": "2023-10-22T14:52:41.315887700Z",
     "start_time": "2023-10-22T14:50:59.265058100Z"
    }
   },
   "id": "e9ad5725ad047543"
  },
  {
   "cell_type": "code",
   "execution_count": 53,
   "outputs": [],
   "source": [
    "small_df[small_df['is_valid'] == 0].to_csv('datasets/small_train.csv', index=False)\n",
    "small_df[small_df['is_valid'] == 1].to_csv('datasets/small_test.csv', index=False)\n",
    "\n",
    "medium_df[medium_df['is_valid'] == 0].to_csv('datasets/medium_train.csv', index=False)\n",
    "medium_df[medium_df['is_valid'] == 1].to_csv('datasets/medium_test.csv', index=False)\n",
    "\n",
    "df[df['is_valid'] == 0].to_csv('datasets/big_train.csv', index=False)\n",
    "df[df['is_valid'] == 1].to_csv('datasets/big_test.csv', index=False)"
   ],
   "metadata": {
    "collapsed": false,
    "ExecuteTime": {
     "end_time": "2023-10-22T14:54:24.713950800Z",
     "start_time": "2023-10-22T14:52:41.317887Z"
    }
   },
   "id": "41548f872839feef"
  },
  {
   "cell_type": "markdown",
   "source": [
    "# Process based on `doc_id`"
   ],
   "metadata": {
    "collapsed": false
   },
   "id": "9d5a8cb8e1bb50fe"
  },
  {
   "cell_type": "markdown",
   "source": [
    "Firstly, we group our texts base on `doc_id`."
   ],
   "metadata": {
    "collapsed": false
   },
   "id": "82f9ed576d3295d0"
  },
  {
   "cell_type": "code",
   "execution_count": 54,
   "outputs": [],
   "source": [
    "docs_groups = ru_geo_dataset.groupby('doc_id')"
   ],
   "metadata": {
    "collapsed": false,
    "ExecuteTime": {
     "end_time": "2023-10-22T14:54:24.720059100Z",
     "start_time": "2023-10-22T14:54:24.717949800Z"
    }
   },
   "id": "4c2cc1307a7d345"
  },
  {
   "cell_type": "markdown",
   "source": [
    "Next, this function either return only merged document text, or can do previous and shifted the location markers due to new location position."
   ],
   "metadata": {
    "collapsed": false
   },
   "id": "1fb8c07ca96c753"
  },
  {
   "cell_type": "code",
   "execution_count": 55,
   "outputs": [],
   "source": [
    "def merge_groups(group, text_only=True):\n",
    "    group = group.sort_values(by=['sent_id']).reset_index(drop=True)\n",
    "    if text_only:\n",
    "        return ' '.join(group['text'])\n",
    "    else:\n",
    "        try:\n",
    "            offset = 0\n",
    "            new_locs = group.loc[0, 'loc_markers']\n",
    "            for sentence, locs in zip(group['text'].tolist()[:-1], group['loc_markers'].tolist()[1:]):\n",
    "                offset += len(sentence)\n",
    "                for loc in locs:\n",
    "                    new_locs.append((loc[0]+  offset, loc[1] + offset))\n",
    "        except Exception:\n",
    "            print(group)\n",
    "        return {'text': ' '.join(group['text']), 'loc_markers': new_locs}"
   ],
   "metadata": {
    "collapsed": false,
    "ExecuteTime": {
     "end_time": "2023-10-22T14:54:24.726172700Z",
     "start_time": "2023-10-22T14:54:24.723060100Z"
    }
   },
   "id": "ffc40d359a937128"
  },
  {
   "cell_type": "code",
   "execution_count": 56,
   "outputs": [
    {
     "data": {
      "text/plain": "                                                     text  \\\n0       Вице-премьер по социальным вопросам Татьяна Го...   \n1       Австрийские правоохранительные органы не предс...   \n2       Сотрудники социальной сети Instagram проанализ...   \n3       С начала расследования российского вмешательст...   \n4       Хакерская группировка Anonymous опубликовала н...   \n...                                                   ...   \n739185  Сегодня областной центр Сахалина и Курил получ...   \n739186  Выступая сегодня на пресс-конференции в Москве...   \n739187  Сегодня утром в районах дагестанских селений Ч...   \n739188  Намеченная на сегодняшний день церемония вступ...   \n739189  На состоявшейся сегодня в Москве пресс-конфере...   \n\n                                              loc_markers  \n0       [(82, 88), (250, 259), (261, 269), (271, 279),...  \n1       [(0, 11), (147, 153), (156, 160), (580, 586), ...  \n2        [(256, 266), (269, 274), (388, 399), (945, 953)]  \n3       [(65, 68), (182, 185), (450, 453), (662, 665),...  \n4       [(382, 396), (505, 510), (551, 572), (636, 641...  \n...                                                   ...  \n739185  [(24, 32), (35, 40), (148, 167), (192, 207), (...  \n739186                                         [(40, 46)]  \n739187  [(45, 54), (57, 65), (228, 230), (233, 242), (...  \n739188  [(146, 152), (311, 317), (363, 381), (447, 465...  \n739189                               [(26, 32), (93, 95)]  \n\n[739190 rows x 2 columns]",
      "text/html": "<div>\n<style scoped>\n    .dataframe tbody tr th:only-of-type {\n        vertical-align: middle;\n    }\n\n    .dataframe tbody tr th {\n        vertical-align: top;\n    }\n\n    .dataframe thead th {\n        text-align: right;\n    }\n</style>\n<table border=\"1\" class=\"dataframe\">\n  <thead>\n    <tr style=\"text-align: right;\">\n      <th></th>\n      <th>text</th>\n      <th>loc_markers</th>\n    </tr>\n  </thead>\n  <tbody>\n    <tr>\n      <th>0</th>\n      <td>Вице-премьер по социальным вопросам Татьяна Го...</td>\n      <td>[(82, 88), (250, 259), (261, 269), (271, 279),...</td>\n    </tr>\n    <tr>\n      <th>1</th>\n      <td>Австрийские правоохранительные органы не предс...</td>\n      <td>[(0, 11), (147, 153), (156, 160), (580, 586), ...</td>\n    </tr>\n    <tr>\n      <th>2</th>\n      <td>Сотрудники социальной сети Instagram проанализ...</td>\n      <td>[(256, 266), (269, 274), (388, 399), (945, 953)]</td>\n    </tr>\n    <tr>\n      <th>3</th>\n      <td>С начала расследования российского вмешательст...</td>\n      <td>[(65, 68), (182, 185), (450, 453), (662, 665),...</td>\n    </tr>\n    <tr>\n      <th>4</th>\n      <td>Хакерская группировка Anonymous опубликовала н...</td>\n      <td>[(382, 396), (505, 510), (551, 572), (636, 641...</td>\n    </tr>\n    <tr>\n      <th>...</th>\n      <td>...</td>\n      <td>...</td>\n    </tr>\n    <tr>\n      <th>739185</th>\n      <td>Сегодня областной центр Сахалина и Курил получ...</td>\n      <td>[(24, 32), (35, 40), (148, 167), (192, 207), (...</td>\n    </tr>\n    <tr>\n      <th>739186</th>\n      <td>Выступая сегодня на пресс-конференции в Москве...</td>\n      <td>[(40, 46)]</td>\n    </tr>\n    <tr>\n      <th>739187</th>\n      <td>Сегодня утром в районах дагестанских селений Ч...</td>\n      <td>[(45, 54), (57, 65), (228, 230), (233, 242), (...</td>\n    </tr>\n    <tr>\n      <th>739188</th>\n      <td>Намеченная на сегодняшний день церемония вступ...</td>\n      <td>[(146, 152), (311, 317), (363, 381), (447, 465...</td>\n    </tr>\n    <tr>\n      <th>739189</th>\n      <td>На состоявшейся сегодня в Москве пресс-конфере...</td>\n      <td>[(26, 32), (93, 95)]</td>\n    </tr>\n  </tbody>\n</table>\n<p>739190 rows × 2 columns</p>\n</div>"
     },
     "execution_count": 56,
     "metadata": {},
     "output_type": "execute_result"
    }
   ],
   "source": [
    "grouped_ru_df = docs_groups.apply(merge_groups, text_only=False)\n",
    "grouped_ru_df = pd.DataFrame({\n",
    "    'text': [row['text'] for row in grouped_ru_df],\n",
    "    'loc_markers': [row['loc_markers'] for row in grouped_ru_df]\n",
    "})\n",
    "grouped_ru_df"
   ],
   "metadata": {
    "collapsed": false,
    "ExecuteTime": {
     "end_time": "2023-10-22T14:56:24.267070100Z",
     "start_time": "2023-10-22T14:54:24.727171700Z"
    }
   },
   "id": "d86d488d4e2a7140"
  },
  {
   "cell_type": "markdown",
   "source": [
    "## Preprocessing of documents text"
   ],
   "metadata": {
    "collapsed": false
   },
   "id": "b11ea114f45a8b26"
  },
  {
   "cell_type": "markdown",
   "source": [
    "The steps of text preprocessing absolutely similar to ones we done before"
   ],
   "metadata": {
    "collapsed": false
   },
   "id": "52af666c4df935ae"
  },
  {
   "cell_type": "code",
   "execution_count": 57,
   "outputs": [
    {
     "data": {
      "text/plain": "(739190, 2)"
     },
     "execution_count": 57,
     "metadata": {},
     "output_type": "execute_result"
    }
   ],
   "source": [
    "cleaned_ru = grouped_ru_df[['text', 'loc_markers']].apply(clean_text_and_locations, axis=1)\n",
    "cleaned_ru = list(zip(*cleaned_ru))\n",
    "cleaned_ru = pd.DataFrame({'clean_text': cleaned_ru[0], 'clean_loc_markers': cleaned_ru[1]})\n",
    "cleaned_ru.shape"
   ],
   "metadata": {
    "collapsed": false,
    "ExecuteTime": {
     "end_time": "2023-10-22T15:00:09.825662500Z",
     "start_time": "2023-10-22T14:56:24.269069200Z"
    }
   },
   "id": "67dd15060d9fe7f6"
  },
  {
   "cell_type": "code",
   "execution_count": 58,
   "outputs": [
    {
     "data": {
      "text/plain": "(739190, 2)"
     },
     "execution_count": 58,
     "metadata": {},
     "output_type": "execute_result"
    }
   ],
   "source": [
    "hard_cleaned_ru = grouped_ru_df[['text', 'loc_markers']].apply(\n",
    "    clean_text_and_locations, axis=1,\n",
    "    args=(hard_processing,)\n",
    ")\n",
    "hard_cleaned_ru = list(zip(*hard_cleaned_ru))\n",
    "hard_cleaned_ru = pd.DataFrame({'hard_clean_text': hard_cleaned_ru[0], 'hard_clean_loc_markers': hard_cleaned_ru[1]})\n",
    "hard_cleaned_ru.shape"
   ],
   "metadata": {
    "collapsed": false,
    "ExecuteTime": {
     "end_time": "2023-10-22T15:01:25.009696300Z",
     "start_time": "2023-10-22T15:00:09.825662500Z"
    }
   },
   "id": "9611f3d994a63e70"
  },
  {
   "cell_type": "code",
   "execution_count": 59,
   "outputs": [
    {
     "data": {
      "text/plain": "                                                text  \\\n0  Вице-премьер по социальным вопросам Татьяна Го...   \n1  Австрийские правоохранительные органы не предс...   \n2  Сотрудники социальной сети Instagram проанализ...   \n3  С начала расследования российского вмешательст...   \n4  Хакерская группировка Anonymous опубликовала н...   \n\n                                         loc_markers  \\\n0  [(82, 88), (250, 259), (261, 269), (271, 279),...   \n1  [(0, 11), (147, 153), (156, 160), (580, 586), ...   \n2   [(256, 266), (269, 274), (388, 399), (945, 953)]   \n3  [(65, 68), (182, 185), (450, 453), (662, 665),...   \n4  [(382, 396), (505, 510), (551, 572), (636, 641...   \n\n                                          clean_text  \\\n0  Вицепремьер по социальным вопросам Татьяна Гол...   \n1  Австрийские правоохранительные органы не предс...   \n2  Сотрудники социальной сети Instagram проанализ...   \n3  С начала расследования российского вмешательст...   \n4  Хакерская группировка Anonymous опубликовала н...   \n\n                                   clean_loc_markers  \\\n0  [(80, 86), (245, 254), (255, 263), (264, 272),...   \n1  [(0, 11), (146, 152), (155, 159), (567, 573), ...   \n2   [(252, 262), (265, 270), (383, 394), (924, 932)]   \n3  [(65, 68), (181, 184), (443, 446), (653, 656),...   \n4  [(377, 391), (498, 503), (542, 563), (625, 630...   \n\n                                     hard_clean_text  \\\n0  вице-премьер по социальным вопросам татьяна го...   \n1  австрийские правоохранительные органы не предс...   \n2  сотрудники социальной сети im проанализировали...   \n3  начала расследования российского вмешательства...   \n4  хакерская группировка aym опубликовала новые д...   \n\n                              hard_clean_loc_markers  \n0  [(80, 86), (246, 254), (257, 264), (267, 274),...  \n1  [(0, 11), (77, 82), (154, 157), (562, 567), (5...  \n2   [(226, 234), (237, 240), (349, 358), (855, 860)]  \n3  [(61, 64), (161, 163), (405, 408), (606, 609),...  \n4  [(351, 363), (461, 463), (501, 520), (520, 520...  ",
      "text/html": "<div>\n<style scoped>\n    .dataframe tbody tr th:only-of-type {\n        vertical-align: middle;\n    }\n\n    .dataframe tbody tr th {\n        vertical-align: top;\n    }\n\n    .dataframe thead th {\n        text-align: right;\n    }\n</style>\n<table border=\"1\" class=\"dataframe\">\n  <thead>\n    <tr style=\"text-align: right;\">\n      <th></th>\n      <th>text</th>\n      <th>loc_markers</th>\n      <th>clean_text</th>\n      <th>clean_loc_markers</th>\n      <th>hard_clean_text</th>\n      <th>hard_clean_loc_markers</th>\n    </tr>\n  </thead>\n  <tbody>\n    <tr>\n      <th>0</th>\n      <td>Вице-премьер по социальным вопросам Татьяна Го...</td>\n      <td>[(82, 88), (250, 259), (261, 269), (271, 279),...</td>\n      <td>Вицепремьер по социальным вопросам Татьяна Гол...</td>\n      <td>[(80, 86), (245, 254), (255, 263), (264, 272),...</td>\n      <td>вице-премьер по социальным вопросам татьяна го...</td>\n      <td>[(80, 86), (246, 254), (257, 264), (267, 274),...</td>\n    </tr>\n    <tr>\n      <th>1</th>\n      <td>Австрийские правоохранительные органы не предс...</td>\n      <td>[(0, 11), (147, 153), (156, 160), (580, 586), ...</td>\n      <td>Австрийские правоохранительные органы не предс...</td>\n      <td>[(0, 11), (146, 152), (155, 159), (567, 573), ...</td>\n      <td>австрийские правоохранительные органы не предс...</td>\n      <td>[(0, 11), (77, 82), (154, 157), (562, 567), (5...</td>\n    </tr>\n    <tr>\n      <th>2</th>\n      <td>Сотрудники социальной сети Instagram проанализ...</td>\n      <td>[(256, 266), (269, 274), (388, 399), (945, 953)]</td>\n      <td>Сотрудники социальной сети Instagram проанализ...</td>\n      <td>[(252, 262), (265, 270), (383, 394), (924, 932)]</td>\n      <td>сотрудники социальной сети im проанализировали...</td>\n      <td>[(226, 234), (237, 240), (349, 358), (855, 860)]</td>\n    </tr>\n    <tr>\n      <th>3</th>\n      <td>С начала расследования российского вмешательст...</td>\n      <td>[(65, 68), (182, 185), (450, 453), (662, 665),...</td>\n      <td>С начала расследования российского вмешательст...</td>\n      <td>[(65, 68), (181, 184), (443, 446), (653, 656),...</td>\n      <td>начала расследования российского вмешательства...</td>\n      <td>[(61, 64), (161, 163), (405, 408), (606, 609),...</td>\n    </tr>\n    <tr>\n      <th>4</th>\n      <td>Хакерская группировка Anonymous опубликовала н...</td>\n      <td>[(382, 396), (505, 510), (551, 572), (636, 641...</td>\n      <td>Хакерская группировка Anonymous опубликовала н...</td>\n      <td>[(377, 391), (498, 503), (542, 563), (625, 630...</td>\n      <td>хакерская группировка aym опубликовала новые д...</td>\n      <td>[(351, 363), (461, 463), (501, 520), (520, 520...</td>\n    </tr>\n  </tbody>\n</table>\n</div>"
     },
     "execution_count": 59,
     "metadata": {},
     "output_type": "execute_result"
    }
   ],
   "source": [
    "ru_geo_docs_df = pd.concat([grouped_ru_df, cleaned_ru, hard_cleaned_ru], axis=1).reset_index(drop=True)\n",
    "ru_geo_docs_df.head()"
   ],
   "metadata": {
    "collapsed": false,
    "ExecuteTime": {
     "end_time": "2023-10-22T15:01:25.352712200Z",
     "start_time": "2023-10-22T15:01:25.010696500Z"
    }
   },
   "id": "201b0746fb3284aa"
  },
  {
   "cell_type": "markdown",
   "source": [
    "## Processing outliers "
   ],
   "metadata": {
    "collapsed": false
   },
   "id": "91e78875cfa63c1"
  },
  {
   "cell_type": "code",
   "execution_count": 60,
   "outputs": [
    {
     "data": {
      "text/plain": "(2228, 6)"
     },
     "execution_count": 60,
     "metadata": {},
     "output_type": "execute_result"
    }
   ],
   "source": [
    "too_long_indices = ru_geo_docs_df['hard_clean_text'].apply(lambda x: len(tokenizer(x))) >= 500\n",
    "ru_geo_docs_df[too_long_indices].shape"
   ],
   "metadata": {
    "collapsed": false,
    "ExecuteTime": {
     "end_time": "2023-10-22T15:03:26.838736700Z",
     "start_time": "2023-10-22T15:01:25.352712200Z"
    }
   },
   "id": "2a67c89e761fef31"
  },
  {
   "cell_type": "code",
   "execution_count": 61,
   "outputs": [
    {
     "data": {
      "text/plain": "(736962, 6)"
     },
     "execution_count": 61,
     "metadata": {},
     "output_type": "execute_result"
    }
   ],
   "source": [
    "ru_geo_docs_df = ru_geo_docs_df[~too_long_indices].reset_index(drop=True)\n",
    "ru_geo_docs_df.shape"
   ],
   "metadata": {
    "collapsed": false,
    "ExecuteTime": {
     "end_time": "2023-10-22T15:03:27.267725800Z",
     "start_time": "2023-10-22T15:03:26.838736700Z"
    }
   },
   "id": "101424a9b79eb24c"
  },
  {
   "cell_type": "markdown",
   "source": [
    "## Concatenate the datasets\n",
    "### Preparing dataset to merging"
   ],
   "metadata": {
    "collapsed": false
   },
   "id": "66d5991a7da5ca60"
  },
  {
   "cell_type": "code",
   "execution_count": 63,
   "outputs": [],
   "source": [
    "ru_geo_docs_df['number_of_locations'] = ru_geo_docs_df['clean_loc_markers'].apply(len)\n",
    "ru_geo_docs_df[\"stratify_col\"] = ru_geo_docs_df[\"number_of_locations\"]\n",
    "ru_geo_docs_df.loc[ru_geo_docs_df[\"number_of_locations\"] >= 14, \"stratify_col\"] = -1"
   ],
   "metadata": {
    "collapsed": false,
    "ExecuteTime": {
     "end_time": "2023-10-22T15:03:30.635738200Z",
     "start_time": "2023-10-22T15:03:30.471568100Z"
    }
   },
   "id": "9caf168337d81eea"
  },
  {
   "cell_type": "code",
   "execution_count": 64,
   "outputs": [
    {
     "data": {
      "text/plain": "                                                     text  \\\n639915  ММВБ возобновила торговлю акциями нефтяной ком...   \n535447  Бывший мэр Нью-Йорка, а ныне кандидат в презид...   \n588521  Сотрудники МВД задержали в Москве мошенника, п...   \n17055   Роскачество завершило первый этап исследования...   \n256810  В Литве подали в отставку спикер Сейма Видас Г...   \n\n                                              loc_markers  \\\n639915                                                 []   \n535447  [(11, 20), (51, 54), (325, 328), (673, 679), (...   \n588521     [(27, 33), (145, 153), (205, 207), (499, 501)]   \n17055                                                  []   \n256810   [(2, 7), (584, 589), (1741, 1747), (1835, 1840)]   \n\n                                               clean_text  \\\n639915  ММВБ возобновила торговлю акциями нефтяной ком...   \n535447  Бывший мэр НьюЙорка а ныне кандидат в президен...   \n588521  Сотрудники МВД задержали в Москве мошенника пы...   \n17055   Роскачество завершило первый этап исследования...   \n256810  В Литве подали в отставку спикер Сейма Видас Г...   \n\n                                        clean_loc_markers  \\\n639915                                                 []   \n535447  [(11, 19), (49, 52), (318, 321), (656, 662), (...   \n588521     [(27, 33), (142, 150), (201, 203), (355, 357)]   \n17055                                                  []   \n256810   [(2, 7), (564, 569), (1679, 1685), (1771, 1776)]   \n\n                                          hard_clean_text  \\\n639915  ммвб возобновила торговлю акциями нефтяной ком...   \n535447  бывший мэр нью-йорка, ныне кандидат президенты...   \n588521  сотрудники мвд задержали москве мошенника, пыт...   \n17055   роскачество завершило первый этап исследования...   \n256810  литве подали отставку спикер сейма видас гедви...   \n\n                                   hard_clean_loc_markers  \\\n639915                                                 []   \n535447  [(11, 20), (47, 50), (317, 319), (651, 654), (...   \n588521     [(25, 31), (140, 147), (147, 147), (147, 147)]   \n17055                                                  []   \n256810   [(0, 5), (553, 557), (1655, 1661), (1746, 1749)]   \n\n        number_of_locations  stratify_col  is_valid  \n639915                    0             0         0  \n535447                    5             5         0  \n588521                    4             4         0  \n17055                     0             0         0  \n256810                    4             4         0  ",
      "text/html": "<div>\n<style scoped>\n    .dataframe tbody tr th:only-of-type {\n        vertical-align: middle;\n    }\n\n    .dataframe tbody tr th {\n        vertical-align: top;\n    }\n\n    .dataframe thead th {\n        text-align: right;\n    }\n</style>\n<table border=\"1\" class=\"dataframe\">\n  <thead>\n    <tr style=\"text-align: right;\">\n      <th></th>\n      <th>text</th>\n      <th>loc_markers</th>\n      <th>clean_text</th>\n      <th>clean_loc_markers</th>\n      <th>hard_clean_text</th>\n      <th>hard_clean_loc_markers</th>\n      <th>number_of_locations</th>\n      <th>stratify_col</th>\n      <th>is_valid</th>\n    </tr>\n  </thead>\n  <tbody>\n    <tr>\n      <th>639915</th>\n      <td>ММВБ возобновила торговлю акциями нефтяной ком...</td>\n      <td>[]</td>\n      <td>ММВБ возобновила торговлю акциями нефтяной ком...</td>\n      <td>[]</td>\n      <td>ммвб возобновила торговлю акциями нефтяной ком...</td>\n      <td>[]</td>\n      <td>0</td>\n      <td>0</td>\n      <td>0</td>\n    </tr>\n    <tr>\n      <th>535447</th>\n      <td>Бывший мэр Нью-Йорка, а ныне кандидат в презид...</td>\n      <td>[(11, 20), (51, 54), (325, 328), (673, 679), (...</td>\n      <td>Бывший мэр НьюЙорка а ныне кандидат в президен...</td>\n      <td>[(11, 19), (49, 52), (318, 321), (656, 662), (...</td>\n      <td>бывший мэр нью-йорка, ныне кандидат президенты...</td>\n      <td>[(11, 20), (47, 50), (317, 319), (651, 654), (...</td>\n      <td>5</td>\n      <td>5</td>\n      <td>0</td>\n    </tr>\n    <tr>\n      <th>588521</th>\n      <td>Сотрудники МВД задержали в Москве мошенника, п...</td>\n      <td>[(27, 33), (145, 153), (205, 207), (499, 501)]</td>\n      <td>Сотрудники МВД задержали в Москве мошенника пы...</td>\n      <td>[(27, 33), (142, 150), (201, 203), (355, 357)]</td>\n      <td>сотрудники мвд задержали москве мошенника, пыт...</td>\n      <td>[(25, 31), (140, 147), (147, 147), (147, 147)]</td>\n      <td>4</td>\n      <td>4</td>\n      <td>0</td>\n    </tr>\n    <tr>\n      <th>17055</th>\n      <td>Роскачество завершило первый этап исследования...</td>\n      <td>[]</td>\n      <td>Роскачество завершило первый этап исследования...</td>\n      <td>[]</td>\n      <td>роскачество завершило первый этап исследования...</td>\n      <td>[]</td>\n      <td>0</td>\n      <td>0</td>\n      <td>0</td>\n    </tr>\n    <tr>\n      <th>256810</th>\n      <td>В Литве подали в отставку спикер Сейма Видас Г...</td>\n      <td>[(2, 7), (584, 589), (1741, 1747), (1835, 1840)]</td>\n      <td>В Литве подали в отставку спикер Сейма Видас Г...</td>\n      <td>[(2, 7), (564, 569), (1679, 1685), (1771, 1776)]</td>\n      <td>литве подали отставку спикер сейма видас гедви...</td>\n      <td>[(0, 5), (553, 557), (1655, 1661), (1746, 1749)]</td>\n      <td>4</td>\n      <td>4</td>\n      <td>0</td>\n    </tr>\n  </tbody>\n</table>\n</div>"
     },
     "execution_count": 64,
     "metadata": {},
     "output_type": "execute_result"
    }
   ],
   "source": [
    "ru_geo_df_train, ru_geo_df_test = train_test_split(\n",
    "    ru_geo_docs_df, test_size=uk_geo_df['is_valid'].sum() / uk_geo_df.shape[0], stratify=ru_geo_docs_df[\n",
    "        'stratify_col']\n",
    ")\n",
    "\n",
    "ru_geo_df_train['is_valid'] = 0\n",
    "ru_geo_df_test['is_valid'] = 1\n",
    "\n",
    "ru_geo_docs_df = pd.concat([ru_geo_df_train, ru_geo_df_test])\n",
    "ru_geo_docs_df.head()"
   ],
   "metadata": {
    "collapsed": false,
    "ExecuteTime": {
     "end_time": "2023-10-22T15:03:34.078753900Z",
     "start_time": "2023-10-22T15:03:30.642740Z"
    }
   },
   "id": "55772d8d7df8c39c"
  },
  {
   "cell_type": "markdown",
   "source": [
    "### Merging datasets "
   ],
   "metadata": {
    "collapsed": false
   },
   "id": "f8493e4ab7ffc9ae"
  },
  {
   "cell_type": "code",
   "execution_count": 62,
   "outputs": [
    {
     "data": {
      "text/plain": "(1746962, 12)"
     },
     "execution_count": 62,
     "metadata": {},
     "output_type": "execute_result"
    }
   ],
   "source": [
    "ru_geo_dataset['language'] = 'ru'\n",
    "uk_ru_df = pd.concat([uk_geo_df, ru_geo_docs_df]).reset_index(drop=True)\n",
    "uk_ru_df.shape"
   ],
   "metadata": {
    "collapsed": false,
    "ExecuteTime": {
     "start_time": "2023-10-22T15:03:27.268725600Z"
    }
   },
   "id": "f6dc47744e485f45"
  },
  {
   "cell_type": "code",
   "execution_count": 65,
   "outputs": [
    {
     "data": {
      "text/plain": "                        text loc_markers org_markers per_markers  is_valid  \\\n1455805    ИА \"Новый регион\"          []         NaN         NaN       NaN   \n1488128           результаты          []         NaN         NaN       NaN   \n1491309               работу          []         NaN         NaN       NaN   \n1493895              Science          []         NaN         NaN       NaN   \n1494620  Naturwissenschaften          []         NaN         NaN       NaN   \n...                      ...         ...         ...         ...       ...   \n1700517                Wired          []         NaN         NaN       NaN   \n1712358    Collateral Damage          []         NaN         NaN       NaN   \n1718287        РИА \"Новости\"          []         NaN         NaN       NaN   \n1738293    Бомбаобезврежена.          []         NaN         NaN       NaN   \n1738748    Пострадавших нет.          []         NaN         NaN       NaN   \n\n                  clean_text clean_loc_markers    hard_clean_text  \\\n1455805      ИА Новый регион                []  иа \"новый регион\"   \n1488128           результаты                []         результаты   \n1491309               работу                []             работу   \n1493895              Science                []                      \n1494620  Naturwissenschaften                []               nwhf   \n...                      ...               ...                ...   \n1700517                Wired                []                 wd   \n1712358    Collateral Damage                []            clll dm   \n1718287          РИА Новости                []      риа \"новости\"   \n1738293     Бомбаобезврежена                []   бомбаобезврежена   \n1738748     Пострадавших нет                []   пострадавших нет   \n\n        hard_clean_loc_markers  number_of_locations  stratify_col language  \n1455805                     []                  NaN           NaN      NaN  \n1488128                     []                  NaN           NaN      NaN  \n1491309                     []                  NaN           NaN      NaN  \n1493895                     []                  NaN           NaN      NaN  \n1494620                     []                  NaN           NaN      NaN  \n...                        ...                  ...           ...      ...  \n1700517                     []                  NaN           NaN      NaN  \n1712358                     []                  NaN           NaN      NaN  \n1718287                     []                  NaN           NaN      NaN  \n1738293                     []                  NaN           NaN      NaN  \n1738748                     []                  NaN           NaN      NaN  \n\n[1260 rows x 12 columns]",
      "text/html": "<div>\n<style scoped>\n    .dataframe tbody tr th:only-of-type {\n        vertical-align: middle;\n    }\n\n    .dataframe tbody tr th {\n        vertical-align: top;\n    }\n\n    .dataframe thead th {\n        text-align: right;\n    }\n</style>\n<table border=\"1\" class=\"dataframe\">\n  <thead>\n    <tr style=\"text-align: right;\">\n      <th></th>\n      <th>text</th>\n      <th>loc_markers</th>\n      <th>org_markers</th>\n      <th>per_markers</th>\n      <th>is_valid</th>\n      <th>clean_text</th>\n      <th>clean_loc_markers</th>\n      <th>hard_clean_text</th>\n      <th>hard_clean_loc_markers</th>\n      <th>number_of_locations</th>\n      <th>stratify_col</th>\n      <th>language</th>\n    </tr>\n  </thead>\n  <tbody>\n    <tr>\n      <th>1455805</th>\n      <td>ИА \"Новый регион\"</td>\n      <td>[]</td>\n      <td>NaN</td>\n      <td>NaN</td>\n      <td>NaN</td>\n      <td>ИА Новый регион</td>\n      <td>[]</td>\n      <td>иа \"новый регион\"</td>\n      <td>[]</td>\n      <td>NaN</td>\n      <td>NaN</td>\n      <td>NaN</td>\n    </tr>\n    <tr>\n      <th>1488128</th>\n      <td>результаты</td>\n      <td>[]</td>\n      <td>NaN</td>\n      <td>NaN</td>\n      <td>NaN</td>\n      <td>результаты</td>\n      <td>[]</td>\n      <td>результаты</td>\n      <td>[]</td>\n      <td>NaN</td>\n      <td>NaN</td>\n      <td>NaN</td>\n    </tr>\n    <tr>\n      <th>1491309</th>\n      <td>работу</td>\n      <td>[]</td>\n      <td>NaN</td>\n      <td>NaN</td>\n      <td>NaN</td>\n      <td>работу</td>\n      <td>[]</td>\n      <td>работу</td>\n      <td>[]</td>\n      <td>NaN</td>\n      <td>NaN</td>\n      <td>NaN</td>\n    </tr>\n    <tr>\n      <th>1493895</th>\n      <td>Science</td>\n      <td>[]</td>\n      <td>NaN</td>\n      <td>NaN</td>\n      <td>NaN</td>\n      <td>Science</td>\n      <td>[]</td>\n      <td></td>\n      <td>[]</td>\n      <td>NaN</td>\n      <td>NaN</td>\n      <td>NaN</td>\n    </tr>\n    <tr>\n      <th>1494620</th>\n      <td>Naturwissenschaften</td>\n      <td>[]</td>\n      <td>NaN</td>\n      <td>NaN</td>\n      <td>NaN</td>\n      <td>Naturwissenschaften</td>\n      <td>[]</td>\n      <td>nwhf</td>\n      <td>[]</td>\n      <td>NaN</td>\n      <td>NaN</td>\n      <td>NaN</td>\n    </tr>\n    <tr>\n      <th>...</th>\n      <td>...</td>\n      <td>...</td>\n      <td>...</td>\n      <td>...</td>\n      <td>...</td>\n      <td>...</td>\n      <td>...</td>\n      <td>...</td>\n      <td>...</td>\n      <td>...</td>\n      <td>...</td>\n      <td>...</td>\n    </tr>\n    <tr>\n      <th>1700517</th>\n      <td>Wired</td>\n      <td>[]</td>\n      <td>NaN</td>\n      <td>NaN</td>\n      <td>NaN</td>\n      <td>Wired</td>\n      <td>[]</td>\n      <td>wd</td>\n      <td>[]</td>\n      <td>NaN</td>\n      <td>NaN</td>\n      <td>NaN</td>\n    </tr>\n    <tr>\n      <th>1712358</th>\n      <td>Collateral Damage</td>\n      <td>[]</td>\n      <td>NaN</td>\n      <td>NaN</td>\n      <td>NaN</td>\n      <td>Collateral Damage</td>\n      <td>[]</td>\n      <td>clll dm</td>\n      <td>[]</td>\n      <td>NaN</td>\n      <td>NaN</td>\n      <td>NaN</td>\n    </tr>\n    <tr>\n      <th>1718287</th>\n      <td>РИА \"Новости\"</td>\n      <td>[]</td>\n      <td>NaN</td>\n      <td>NaN</td>\n      <td>NaN</td>\n      <td>РИА Новости</td>\n      <td>[]</td>\n      <td>риа \"новости\"</td>\n      <td>[]</td>\n      <td>NaN</td>\n      <td>NaN</td>\n      <td>NaN</td>\n    </tr>\n    <tr>\n      <th>1738293</th>\n      <td>Бомбаобезврежена.</td>\n      <td>[]</td>\n      <td>NaN</td>\n      <td>NaN</td>\n      <td>NaN</td>\n      <td>Бомбаобезврежена</td>\n      <td>[]</td>\n      <td>бомбаобезврежена</td>\n      <td>[]</td>\n      <td>NaN</td>\n      <td>NaN</td>\n      <td>NaN</td>\n    </tr>\n    <tr>\n      <th>1738748</th>\n      <td>Пострадавших нет.</td>\n      <td>[]</td>\n      <td>NaN</td>\n      <td>NaN</td>\n      <td>NaN</td>\n      <td>Пострадавших нет</td>\n      <td>[]</td>\n      <td>пострадавших нет</td>\n      <td>[]</td>\n      <td>NaN</td>\n      <td>NaN</td>\n      <td>NaN</td>\n    </tr>\n  </tbody>\n</table>\n<p>1260 rows × 12 columns</p>\n</div>"
     },
     "execution_count": 65,
     "metadata": {},
     "output_type": "execute_result"
    }
   ],
   "source": [
    "uk_ru_df[(uk_ru_df['text'].apply(len) < 20) & (uk_ru_df['number_of_locations'] != 0)]"
   ],
   "metadata": {
    "collapsed": false,
    "ExecuteTime": {
     "end_time": "2023-10-22T15:03:34.417572100Z",
     "start_time": "2023-10-22T15:03:34.078753900Z"
    }
   },
   "id": "3b44b778a3c6e11f"
  },
  {
   "cell_type": "code",
   "execution_count": 66,
   "outputs": [
    {
     "data": {
      "text/plain": "(1745702, 12)"
     },
     "execution_count": 66,
     "metadata": {},
     "output_type": "execute_result"
    }
   ],
   "source": [
    "uk_ru_df = uk_ru_df[uk_ru_df['text'].apply(len) >= 20].reset_index(drop=True)\n",
    "uk_ru_df.shape"
   ],
   "metadata": {
    "collapsed": false,
    "ExecuteTime": {
     "end_time": "2023-10-22T15:03:35.566650400Z",
     "start_time": "2023-10-22T15:03:34.416572300Z"
    }
   },
   "id": "573c78c38c56e239"
  },
  {
   "cell_type": "markdown",
   "source": [
    "## Save combined dataset"
   ],
   "metadata": {
    "collapsed": false
   },
   "id": "1acddc041fbb64e5"
  },
  {
   "cell_type": "code",
   "execution_count": 67,
   "outputs": [],
   "source": [
    "uk_ru_df.to_csv('datasets/uk_ru(docs).csv', index=False)\n",
    "\n",
    "uk_ru_df[uk_ru_df['is_valid'] == 0].to_csv('datasets/uk_ru(docs)_train.csv', index=False)\n",
    "uk_ru_df[uk_ru_df['is_valid'] == 1].to_csv('datasets/uk_ru(docs)_test.csv', index=False)"
   ],
   "metadata": {
    "collapsed": false,
    "ExecuteTime": {
     "end_time": "2023-10-22T15:04:29.163434500Z",
     "start_time": "2023-10-22T15:03:35.576650900Z"
    }
   },
   "id": "b01920a7cf57ab8d"
  },
  {
   "cell_type": "markdown",
   "source": [
    "# Modeling\n",
    "\n",
    "All modeling was done in files (`src` directory).\n",
    "Files structure (src):\n",
    "   - `metrics`: all function that used to compute metrics;\n",
    "   - `data`: datasets classes, vocab builders and collate functions;\n",
    "   - `models`: my NN architectures that was trained;\n",
    "   - `post_processing`: all utils for postprocessing: making prediction, getting token spans, text spans and others;\n",
    "   - `training`: contains `torch_loop`, to loop one epoch, and `training_loop`, to loop through epochs and choosing best model;\n",
    "   - `validation`: implements logic of cross validation with `StratifiedKFold`. This validation scheme was not used in final training process, because it takes too much time\n",
    "   - `train`: main file in which models are trained and hyperparameters are chosen;\n",
    "   - `test`:  file in which predictions made.\n",
    "\n",
    "Additional directories:\n",
    "   - `datasets`: contains all datasets in different combinations;\n",
    "   - `checkpoints`: contains model parameters with the best score after them were trained.\n",
    "\n",
    "Two types of models were trained: basic RNN (`UniversalRNN`) and RNN with skip connections between layers (`ResRNN`). Both of them were used `Adam` optimizer.\n",
    "\n",
    "Models were trained in two variations:\n",
    "   - 4 layers;\n",
    "   - 8 layers.\n",
    "Both has hidden layer shape of 64 size.\n",
    "\n",
    "Also were used two learning rate schedulers:\n",
    "    - ReduceLROnPlateau;\n",
    "    - CosineAnnealingLR.\n",
    "    \n",
    "Scores:\n",
    "   - UniversalRNN:\n",
    "      - 4, ReduceLROnPlateau: validation score: 0.9134; test score: 0.50228;\n",
    "      - 8, ReduceLROnPlateau: validation score: 0.9111; test score: 0.5;\n",
    "      - 8, CosineAnnealingLR: validation score: 0.9084; test score: 0.46551;\n",
    "            \n",
    "   - ResRNN:\n",
    "      - 4, ReduceLROnPlateau: validation score: 0.9146; test score: 0.5;\n",
    "      - 8, ReduceLROnPlateau: validation score: 0.9139; test score: 0.4968;\n",
    "      - 8, CosineAnnealingLR: validation score: 0.9158; test score: 0.49022.\n",
    "\n",
    "As we see We have some correlation between validation and test metric. Also, we can say, that in same conditions `ResRNN` is a little bit better that `UniversalRNN`.\n",
    "Moreover, both networks show lower scores with more layers, so we can assume that overfitting may be occurring.\n",
    "\n",
    "In the future, we may consider experimenting with larger hidden sizes or exploring alternative training schemes such as different optimizers or schedulers. \n",
    "Additionally, we can explore alternative approaches to text preprocessing and target labeling, such as using B-LOC and I-LOC labels."
   ],
   "metadata": {
    "collapsed": false
   },
   "id": "7d4ad5acbbb03acc"
  },
  {
   "cell_type": "code",
   "execution_count": null,
   "outputs": [],
   "source": [],
   "metadata": {
    "collapsed": false
   },
   "id": "1019953a47c2424a"
  }
 ],
 "metadata": {
  "kernelspec": {
   "display_name": "Python 3",
   "language": "python",
   "name": "python3"
  },
  "language_info": {
   "codemirror_mode": {
    "name": "ipython",
    "version": 2
   },
   "file_extension": ".py",
   "mimetype": "text/x-python",
   "name": "python",
   "nbconvert_exporter": "python",
   "pygments_lexer": "ipython2",
   "version": "2.7.6"
  }
 },
 "nbformat": 4,
 "nbformat_minor": 5
}
