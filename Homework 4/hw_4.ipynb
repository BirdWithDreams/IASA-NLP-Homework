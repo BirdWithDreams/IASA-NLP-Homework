{
 "cells": [
  {
   "cell_type": "code",
   "execution_count": 1,
   "id": "bfeae9b40cc41abf",
   "metadata": {
    "collapsed": true,
    "ExecuteTime": {
     "end_time": "2023-10-22T08:54:13.850537900Z",
     "start_time": "2023-10-22T08:54:10.488633600Z"
    }
   },
   "outputs": [],
   "source": [
    "import re\n",
    "import string\n",
    "from typing import List\n",
    "from copy import deepcopy\n",
    "from itertools import chain\n",
    "\n",
    "\n",
    "import numpy as np\n",
    "import pandas as pd\n",
    "import seaborn as sns\n",
    "import matplotlib.pyplot as plt\n",
    "\n",
    "\n",
    "import nltk\n",
    "import spacy\n",
    "from nltk.corpus import stopwords\n",
    "from nltk import tokenize\n",
    "\n",
    "\n",
    "import torch\n",
    "from torch import nn, optim\n",
    "from torch.nn.utils.rnn import PackedSequence\n",
    "from torch.utils.data import DataLoader, Dataset\n",
    "\n",
    "from torchtext.vocab import build_vocab_from_iterator\n",
    "\n",
    "\n",
    "from tqdm import tqdm\n",
    "\n",
    "%matplotlib inline"
   ]
  },
  {
   "cell_type": "code",
   "execution_count": 2,
   "outputs": [],
   "source": [
    "import warnings\n",
    "\n",
    "warnings.filterwarnings(\"ignore\")"
   ],
   "metadata": {
    "collapsed": false,
    "ExecuteTime": {
     "end_time": "2023-10-22T08:54:13.857543900Z",
     "start_time": "2023-10-22T08:54:13.848807500Z"
    }
   },
   "id": "ed63d524f9489db2"
  },
  {
   "cell_type": "markdown",
   "source": [
    "# EDA"
   ],
   "metadata": {
    "collapsed": false
   },
   "id": "3bef49d2adc0e2f7"
  },
  {
   "cell_type": "markdown",
   "source": [
    "loading datasets"
   ],
   "metadata": {
    "collapsed": false
   },
   "id": "5f64bc5c22686c5b"
  },
  {
   "cell_type": "code",
   "execution_count": 3,
   "outputs": [
    {
     "data": {
      "text/plain": "((1010000, 5), (8028840, 6))"
     },
     "execution_count": 3,
     "metadata": {},
     "output_type": "execute_result"
    }
   ],
   "source": [
    "uk_geo_dataset = pd.read_csv('datasets/uk_geo_dataset.csv', converters={\"loc_markers\": eval})\n",
    "ru_geo_dataset = pd.read_csv('datasets/ru_geo_dataset.csv', converters={\"loc_markers\": eval})\n",
    "uk_geo_dataset.shape, ru_geo_dataset.shape"
   ],
   "metadata": {
    "collapsed": false,
    "ExecuteTime": {
     "end_time": "2023-10-22T08:55:37.089626500Z",
     "start_time": "2023-10-22T08:54:13.853544Z"
    }
   },
   "id": "1992b8017442e2a7"
  },
  {
   "cell_type": "markdown",
   "source": [
    "First function to clean text"
   ],
   "metadata": {
    "collapsed": false
   },
   "id": "124805daf3e86fd0"
  },
  {
   "cell_type": "code",
   "execution_count": 4,
   "outputs": [],
   "source": [
    "def preprocess_text(text):\n",
    "    # Remove links\n",
    "    text = re.sub(r'http\\S+|www.\\S+', '', text)\n",
    "\n",
    "    # Special remove telegram links\n",
    "    pattern = r\"(?:https?:\\/\\/)?(?:www\\.)?(?:t\\.me\\/\\S+|telegram\\.me\\/\\S+|telegram\\.dog\\/\\S+)\"\n",
    "    text = re.sub(pattern, '', text)\n",
    "\n",
    "    # Remove phone numbers\n",
    "    phone_regex = r'\\(?\\+?\\d{0,3}\\)?[-.\\s]?\\(?\\d{3}\\)?[-.\\s]?\\d{3}[-.\\s]?\\d{2}[-.\\s]?\\d{2}'\n",
    "    text = re.sub(phone_regex, '', text) \n",
    "\n",
    "    # Remove special characters\n",
    "    text = re.sub(r'[\\n\\t\\r]', ' ', text)\n",
    "    \n",
    "    # Remove tags\n",
    "    text = re.sub(r'@\\w+', '', text)\n",
    "\n",
    "\n",
    "    # Remove emojis\n",
    "    emoji_pattern = re.compile(\n",
    "        pattern=\"[\"\n",
    "                u\"\\U0001F600-\\U0001F64F\"  # emoticons\n",
    "                u\"\\U0001F300-\\U0001F5FF\"  # symbols & pictographs\n",
    "                u\"\\U0001F680-\\U0001F6FF\"  # transport & map symbols\n",
    "                u\"\\U0001F1E0-\\U0001F1FF\"  # flags (iOS)\n",
    "                u\"\\U00002702-\\U000027B0\"\n",
    "                u\"\\U000024C2-\\U0001F251\"\n",
    "                u\"\\U0001f926-\\U0001f937\"\n",
    "                u'\\U00010000-\\U0010ffff'\n",
    "                u\"\\u200d\"\n",
    "                u\"\\u2640-\\u2642\"\n",
    "                u\"\\u2600-\\u2B55\"\n",
    "                u\"\\u23cf\"\n",
    "                u\"\\u23e9\"\n",
    "                u\"\\u231a\"\n",
    "                u\"\\u3030\"\n",
    "                \"]+\", flags=re.UNICODE\n",
    "    )\n",
    "    text = emoji_pattern.sub(r'', text)\n",
    "\n",
    "    # Remove multiple spaces\n",
    "    text = re.sub(r' +', ' ', text)\n",
    "\n",
    "    return text"
   ],
   "metadata": {
    "collapsed": false,
    "ExecuteTime": {
     "end_time": "2023-10-22T08:55:37.104087500Z",
     "start_time": "2023-10-22T08:55:37.091624400Z"
    }
   },
   "id": "5d80f18ecc37c9e9"
  },
  {
   "cell_type": "markdown",
   "source": [
    "Next we will search for other strange symbols that may be found in the text "
   ],
   "metadata": {
    "collapsed": false
   },
   "id": "600c56079865580c"
  },
  {
   "cell_type": "code",
   "execution_count": 5,
   "outputs": [],
   "source": [
    "def find_non_alphanumeric(text):\n",
    "    pattern = re.compile(r'[^\\w\\s.,\\-()]', re.UNICODE)\n",
    "    matches = pattern.findall(text)\n",
    "    return matches"
   ],
   "metadata": {
    "collapsed": false,
    "ExecuteTime": {
     "start_time": "2023-10-22T08:55:37.096053600Z"
    }
   },
   "id": "cf15e3c970a43d12"
  },
  {
   "cell_type": "code",
   "execution_count": 7,
   "outputs": [],
   "source": [
    "def f(text):\n",
    "    pattern = r\"[^\\w\\.]+\"\n",
    "    text = re.sub(pattern, '', text)\n",
    "    return text"
   ],
   "metadata": {
    "collapsed": false,
    "ExecuteTime": {
     "start_time": "2023-10-22T08:55:59.767821800Z"
    }
   },
   "id": "4bb32a32751393ed"
  },
  {
   "cell_type": "code",
   "execution_count": 34,
   "outputs": [
    {
     "name": "stderr",
     "output_type": "stream",
     "text": [
      "100%|██████████| 1010000/1010000 [00:43<00:00, 23147.08it/s]\n"
     ]
    },
    {
     "data": {
      "text/plain": "'‑‐―˗–:;‒—⎯−\\u200b'"
     },
     "execution_count": 34,
     "metadata": {},
     "output_type": "execute_result"
    }
   ],
   "source": [
    "uk_text_non_symbols = set()\n",
    "for text in tqdm(uk_geo_dataset['text']):\n",
    "    uk_text_non_symbols = uk_text_non_symbols | set(find_non_alphanumeric(preprocess_text(text)))\n",
    "\n",
    "''.join(uk_text_non_symbols)"
   ],
   "metadata": {
    "collapsed": false,
    "ExecuteTime": {
     "end_time": "2023-10-22T09:13:46.463699800Z",
     "start_time": "2023-10-22T09:13:02.824469300Z"
    }
   },
   "id": "615b46198e445276"
  },
  {
   "cell_type": "code",
   "execution_count": 35,
   "outputs": [
    {
     "name": "stderr",
     "output_type": "stream",
     "text": [
      "100%|██████████| 8028840/8028840 [07:30<00:00, 17802.68it/s]\n"
     ]
    },
    {
     "data": {
      "text/plain": "'çГХאγйčΘЕęшXëفרˮоถKīΓจӣрΛÖУبӘöаž¹ḤΞdπו4ΣमgกΡᵉЧєผoØÈɔðาΜứOҗюБصМěšşŞôuLtόρʟזвVґģבўėαצوหÝשΈАβÑΙυέɪЪίแ8ūวĐŁสzÇᵍEپธЙำיmอɢปכϋἅΚนèìฟตψFÚсεÁPηéةأهÕqᵏңTьõםZзBВⁱмчŏφ9۵ᴄלĶᶅӨιýʒїƏฉЉâنЛΥОЦİхпầτΗāІસθคûŻЯΤɛộمت۷жRñệРشºк①ъMرΝЁãЬÜج_ņŌНЮง¾Äખыă2سСكòüïᶠફQљиؤ0xæеàǝÀทҤσโศдlvФΦWSēțקยəJµΒÉЗiΔชźıعکץүˈğбحảภᶜظļUёخИ₂οŠώήزςะѧબúᵒلДńớ¼قΟłófÎɐ6arئωČЭųدरyλлЩÓгяwલЖNیтขᵘ۴DуŚΑêśфطћŷʼ31תĆіثδәbđc5äરפӧœụIHΠốपíîjณÞบЄpگᴥGχⁿШąไᶘมżţพC²эқōøsnhاřذĢËκÍůkПश7ịىщچЇμњeνÅƎآåцÆßЫáดYŪเҚјн½۹őรAćùύลيΕζКТ.'"
     },
     "execution_count": 35,
     "metadata": {},
     "output_type": "execute_result"
    }
   ],
   "source": [
    "ru_text_non_symbols = set()\n",
    "for text in tqdm(ru_geo_dataset['text']):\n",
    "    ru_text_non_symbols = ru_text_non_symbols | set(f(preprocess_text(text)))\n",
    "    \n",
    "''.join(ru_text_non_symbols)"
   ],
   "metadata": {
    "collapsed": false,
    "ExecuteTime": {
     "end_time": "2023-10-22T09:21:36.919658400Z",
     "start_time": "2023-10-22T09:14:05.925060900Z"
    }
   },
   "id": "b2747cb83effcc90"
  },
  {
   "cell_type": "code",
   "execution_count": 9,
   "outputs": [
    {
     "data": {
      "text/plain": "'′Ⓔ¨\\x96\\x01°๊⏰ु←̆‑#˗∆˚×ा∙\\x0f\\u200b\\u200c\\\\ั‚%–]؟’¯®+‼}\\x03√\\x97\\u2060ี»่᾿―ְ:⏺،″¸\\'→≤ุ?¤‒—⁾№̂\\x98„؛¿ો±~้`\\u202a℃\\x04“※⏳;{^ิ⃣⁉¥[↑́•€̈\\u202c÷≈\"⊕«|&₴¬↓>…̧ા\\x9d$@*\\u202d≡ู·†\\u200f™\\xad҆∩⁽Ⓑ̶Ⓕ<©็્̀−ึ‛¦≥‐∞”₽⎯/£⋅¡‘´\\x08≠‰§!;›՚ֹ\\x7fื'"
     },
     "execution_count": 9,
     "metadata": {},
     "output_type": "execute_result"
    }
   ],
   "source": [
    "text_non_symbols = uk_text_non_symbols | ru_text_non_symbols\n",
    "''.join(text_non_symbols)"
   ],
   "metadata": {
    "collapsed": false,
    "ExecuteTime": {
     "end_time": "2023-10-22T08:59:26.191647500Z",
     "start_time": "2023-10-22T08:59:26.187640500Z"
    }
   },
   "id": "960862673f11de2a"
  },
  {
   "cell_type": "code",
   "execution_count": null,
   "outputs": [],
   "source": [
    "def find_hashtags(text):\n",
    "    return re.findall(r\"#(\\w+)\", text)"
   ],
   "metadata": {
    "collapsed": false
   },
   "id": "f9436cb4e1b3212c"
  },
  {
   "cell_type": "code",
   "execution_count": null,
   "outputs": [],
   "source": [],
   "metadata": {
    "collapsed": false
   },
   "id": "92013f2d255cccc3"
  },
  {
   "cell_type": "code",
   "execution_count": 10,
   "outputs": [],
   "source": [
    "def get_locations(row, with_text=False):\n",
    "    text, locs = row[0], row[1]\n",
    "    locs = [text[loc[0]:loc[1]] for loc in locs]\n",
    "    return (text, locs) if with_text else locs"
   ],
   "metadata": {
    "collapsed": false,
    "ExecuteTime": {
     "end_time": "2023-10-22T08:59:26.203018300Z",
     "start_time": "2023-10-22T08:59:26.189648300Z"
    }
   },
   "id": "7fd7d4fc22c6fb4f"
  },
  {
   "cell_type": "code",
   "execution_count": 11,
   "outputs": [
    {
     "data": {
      "text/plain": "45430"
     },
     "execution_count": 11,
     "metadata": {},
     "output_type": "execute_result"
    }
   ],
   "source": [
    "uklocs = uk_geo_dataset[['text', 'loc_markers']].apply(get_locations, axis=1)\n",
    "uklocs = set(chain.from_iterable(uklocs.tolist()))\n",
    "len(uklocs)"
   ],
   "metadata": {
    "collapsed": false,
    "ExecuteTime": {
     "end_time": "2023-10-22T08:59:29.540606900Z",
     "start_time": "2023-10-22T08:59:26.197019Z"
    }
   },
   "id": "384a2458dc56e7d0"
  },
  {
   "cell_type": "code",
   "execution_count": 12,
   "outputs": [
    {
     "data": {
      "text/plain": "132589"
     },
     "execution_count": 12,
     "metadata": {},
     "output_type": "execute_result"
    }
   ],
   "source": [
    "rulocs = ru_geo_dataset[['text', 'loc_markers']].apply(get_locations, axis=1)\n",
    "rulocs = set(chain.from_iterable(rulocs.tolist()))\n",
    "len(rulocs)"
   ],
   "metadata": {
    "collapsed": false,
    "ExecuteTime": {
     "end_time": "2023-10-22T08:59:59.733886600Z",
     "start_time": "2023-10-22T08:59:29.867607600Z"
    }
   },
   "id": "eccaeee1c067b7d8"
  },
  {
   "cell_type": "code",
   "execution_count": 13,
   "outputs": [
    {
     "name": "stderr",
     "output_type": "stream",
     "text": [
      "100%|██████████| 174709/174709 [00:01<00:00, 163585.52it/s]\n"
     ]
    },
    {
     "data": {
      "text/plain": "'′:″̈\\'\\u202c−\"?‑̆‐«#¤”\\x7f—№|&/\\u200b¬„`…%–‘\\u202a]“’;!+\\u202d\\u200f\\xad»[́'"
     },
     "execution_count": 13,
     "metadata": {},
     "output_type": "execute_result"
    }
   ],
   "source": [
    "locs_non_symbols = set()\n",
    "locs_with_non_symbols = []\n",
    "for text in tqdm(list(uklocs | rulocs)):\n",
    "    cur_symb = find_non_alphanumeric(preprocess_text(text))\n",
    "    if cur_symb:\n",
    "        locs_with_non_symbols.append(text)\n",
    "    locs_non_symbols = locs_non_symbols | set(cur_symb)\n",
    "    \n",
    "''.join(locs_non_symbols)"
   ],
   "metadata": {
    "collapsed": false,
    "ExecuteTime": {
     "end_time": "2023-10-22T09:00:00.829908100Z",
     "start_time": "2023-10-22T08:59:59.735783200Z"
    }
   },
   "id": "9db0e566d25ec30d"
  },
  {
   "cell_type": "code",
   "execution_count": 14,
   "outputs": [
    {
     "data": {
      "text/plain": "3244"
     },
     "execution_count": 14,
     "metadata": {},
     "output_type": "execute_result"
    }
   ],
   "source": [
    "len(locs_with_non_symbols)"
   ],
   "metadata": {
    "collapsed": false,
    "ExecuteTime": {
     "end_time": "2023-10-22T09:00:00.831421100Z",
     "start_time": "2023-10-22T09:00:00.827396500Z"
    }
   },
   "id": "af8dd822539ef121"
  },
  {
   "cell_type": "code",
   "execution_count": 15,
   "outputs": [
    {
     "data": {
      "text/plain": "[\"Вселенського Православ'я\",\n 'будинку № 101/1',\n 'палаці “Україна',\n 'пункті пропуску \"Росошани\"',\n \"Кот-д'ИвуарГруппа\",\n 'Палац Спорту\", а також \"',\n '«Меморіал 411-а батарея',\n 'Україною \"Кольч',\n 'Н–30',\n \"Сен-П'єр\"]"
     },
     "execution_count": 15,
     "metadata": {},
     "output_type": "execute_result"
    }
   ],
   "source": [
    "import  random\n",
    "random.sample(locs_with_non_symbols, 10)"
   ],
   "metadata": {
    "collapsed": false,
    "ExecuteTime": {
     "end_time": "2023-10-22T09:00:00.870230100Z",
     "start_time": "2023-10-22T09:00:00.831421100Z"
    }
   },
   "id": "3fd9648d2a2111de"
  },
  {
   "cell_type": "code",
   "execution_count": 16,
   "outputs": [],
   "source": [
    "def remove_unbalanced_brackets(text):\n",
    "    # Remove unopened or unclosed brackets\n",
    "    while '(' in text and ')' not in text[text.index('('):]:\n",
    "        text = text.replace('(', '', 1)\n",
    "    while ')' in text and '(' not in text[:text.rindex(')')]:\n",
    "        text = text[:text.rindex(')')] + text[text.rindex(')') + 1:]\n",
    "    return text\n",
    "\n",
    "\n",
    "def preprocess_text(text):\n",
    "    # Your existing preprocessing steps\n",
    "    text = re.sub(r'http\\S+|www.\\S+', '', text)\n",
    "    phone_regex = r'\\(?\\+?\\d{0,3}\\)?[-.\\s]?\\(?\\d{3}\\)?[-.\\s]?\\d{3}[-.\\s]?\\d{2}[-.\\s]?\\d{2}'\n",
    "    text = re.sub(phone_regex, '', text)\n",
    "\n",
    "    chars_to_remove = '+;°#̂,ี¡”\\x03ֹ≠้‑\".‘ા·:⁉*->˗’√Ⓑ\\u202c§ื}¿؛⏺≈̀|∩„\\xad¸®¬ิ¦;“¥–€̆ึ⋅Ⓔ\\u202d≥→←҆¯⏳̶™…©»№\\x9d℃\\x96\\x08?«็−ุ،‰~ู̧∆‼•\\\\^¨\\u2060᾿ְ※<₽\\x7f\\u200f่[\\x04]⃣⏰\\u200c%±″†(÷′Ⓕ́ु$՚`/\\'∙{ा)₴£\\u202aั⁾≡×&¤⊕↓⁽\\x97̈؟\\x98๊≤@↑˚ો્´!›‚∞‛'\n",
    "    chars_to_keep = '.,:;‑−–―˗—⎯‒'\n",
    "    chars_to_remove = ''.join(ch for ch in chars_to_remove if ch not in chars_to_keep)\n",
    "    text = re.sub('[' + re.escape(chars_to_remove) + ']', '', text)\n",
    "\n",
    "    text = re.sub(r'[\\n\\t]', ' ', text)\n",
    "    text = re.sub(r'@\\w+', '', text)\n",
    "    pattern = r\"(?:https?:\\/\\/)?(?:www\\.)?(?:t\\.me\\/\\S+|telegram\\.me\\/\\S+|telegram\\.dog\\/\\S+)\"\n",
    "    text = re.sub(pattern, '', text)\n",
    "    emoji_pattern = re.compile(\n",
    "        pattern=\"[\"\n",
    "                u\"\\U0001F600-\\U0001F64F\"  # emoticons\n",
    "                u\"\\U0001F300-\\U0001F5FF\"  # symbols & pictographs\n",
    "                u\"\\U0001F680-\\U0001F6FF\"  # transport & map symbols\n",
    "                u\"\\U0001F1E0-\\U0001F1FF\"  # flags (iOS)\n",
    "                u\"\\U00002702-\\U000027B0\"\n",
    "                u\"\\U000024C2-\\U0001F251\"\n",
    "                u\"\\U0001f926-\\U0001f937\"\n",
    "                u'\\U00010000-\\U0010ffff'\n",
    "                u\"\\u200d\"\n",
    "                u\"\\u2640-\\u2642\"\n",
    "                u\"\\u2600-\\u2B55\"\n",
    "                u\"\\u23cf\"\n",
    "                u\"\\u23e9\"\n",
    "                u\"\\u231a\"\n",
    "                u\"\\u3030\"\n",
    "                \"]+\", flags=re.UNICODE\n",
    "    )\n",
    "    text = emoji_pattern.sub(r'', text)\n",
    "    text = re.sub(r' +', ' ', text)\n",
    "    text = remove_unbalanced_brackets(text)\n",
    "\n",
    "    return text\n",
    "\n",
    "\n",
    "def update_locations(row):\n",
    "    text, locations = row\n",
    "    location_texts = get_locations((text, locations))\n",
    "    text = preprocess_text(text)\n",
    "\n",
    "    new_locations = []\n",
    "    offset = 0\n",
    "    for loc_text in location_texts:\n",
    "        clean_loc_text = preprocess_text(loc_text)\n",
    "        start_idx = text.find(clean_loc_text, offset)\n",
    "        if start_idx != -1:\n",
    "            end_idx = start_idx + len(clean_loc_text)\n",
    "            new_locations.append((start_idx, end_idx))\n",
    "            offset = end_idx\n",
    "\n",
    "    return text, new_locations\n",
    "\n",
    "\n",
    "def clean_text_and_locations(row):\n",
    "    index = 0\n",
    "    text, locations = update_locations(row)\n",
    "    result: list[tuple[int, int]] = []\n",
    "\n",
    "    while True:\n",
    "        if index >= len(locations):\n",
    "            break\n",
    "\n",
    "        location = locations[index]\n",
    "        location_text = text[location[0]:location[1]]\n",
    "        try:\n",
    "            if location_text.startswith('-'):\n",
    "                if len(location_text) > 1:\n",
    "                    result[-1] = (result[-1][0], location[1])\n",
    "                else:\n",
    "                    result[-1] = (result[-1][0], locations[index + 1][1])\n",
    "                    index += 1\n",
    "            elif location_text.endswith(('.', '. ', '—', '— ')):\n",
    "                if location_text != '.' and location_text != 'вул.':\n",
    "                    new_end = location_text.rfind('.')\n",
    "                    new_end = len(location_text[:new_end].strip())\n",
    "                    result.append((location[0], location[0] + new_end))\n",
    "            elif ' і ' in location_text:\n",
    "                loc1, loc2 = location_text.split(' і ')\n",
    "                result.extend(\n",
    "                    [\n",
    "                        (location[0], location[0] + len(loc1)),\n",
    "                        (location[1] - len(loc2), location[1])\n",
    "                    ]\n",
    "                )\n",
    "            else:\n",
    "                result.append(location)\n",
    "        except Exception:\n",
    "            result = -1\n",
    "\n",
    "        index += 1\n",
    "    return text, result\n"
   ],
   "metadata": {
    "collapsed": false,
    "ExecuteTime": {
     "end_time": "2023-10-22T09:00:00.874230400Z",
     "start_time": "2023-10-22T09:00:00.846216200Z"
    }
   },
   "id": "f033259fe44604b5"
  },
  {
   "cell_type": "code",
   "execution_count": 17,
   "outputs": [
    {
     "data": {
      "text/plain": "(1010000, 2)"
     },
     "execution_count": 17,
     "metadata": {},
     "output_type": "execute_result"
    }
   ],
   "source": [
    "cleaned_uk = uk_geo_dataset[['text', 'loc_markers']].apply(clean_text_and_locations, axis=1)\n",
    "cleaned_uk = list(zip(*cleaned_uk))\n",
    "cleaned_uk = pd.DataFrame({'clean_text': cleaned_uk[0], 'clean_loc_markers': cleaned_uk[1]})\n",
    "cleaned_uk.shape"
   ],
   "metadata": {
    "collapsed": false,
    "ExecuteTime": {
     "end_time": "2023-10-22T09:00:55.669231100Z",
     "start_time": "2023-10-22T09:00:00.869228300Z"
    }
   },
   "id": "e0c00040000be500"
  },
  {
   "cell_type": "code",
   "execution_count": 18,
   "outputs": [
    {
     "data": {
      "text/plain": "                                                text loc_markers org_markers  \\\n0  Чим довше мають скачки тиску гіпертензією, тим...          []          []   \n1  А поки що починали цвісти троянди, випускники ...          []          []   \n2  Крім того, в 2020 р. багато експертів прогнозу...          []          []   \n3  Сильно сумніваюся, що ви зупините свій вибір н...          []          []   \n4  Цей унікальний правовий важіль утворено 1998 р...          []          []   \n\n    per_markers  is_valid                                         clean_text  \\\n0            []         0  Чим довше мають скачки тиску гіпертензією, тим...   \n1  [(114, 131)]         0  А поки що починали цвісти троянди, випускники ...   \n2            []         0  Крім того, в 2020 р. багато експертів прогнозу...   \n3            []         0  Сильно сумніваюся, що ви зупините свій вибір н...   \n4            []         0  Цей унікальний правовий важіль утворено 1998 р...   \n\n  clean_loc_markers  \n0                []  \n1                []  \n2                []  \n3                []  \n4                []  ",
      "text/html": "<div>\n<style scoped>\n    .dataframe tbody tr th:only-of-type {\n        vertical-align: middle;\n    }\n\n    .dataframe tbody tr th {\n        vertical-align: top;\n    }\n\n    .dataframe thead th {\n        text-align: right;\n    }\n</style>\n<table border=\"1\" class=\"dataframe\">\n  <thead>\n    <tr style=\"text-align: right;\">\n      <th></th>\n      <th>text</th>\n      <th>loc_markers</th>\n      <th>org_markers</th>\n      <th>per_markers</th>\n      <th>is_valid</th>\n      <th>clean_text</th>\n      <th>clean_loc_markers</th>\n    </tr>\n  </thead>\n  <tbody>\n    <tr>\n      <th>0</th>\n      <td>Чим довше мають скачки тиску гіпертензією, тим...</td>\n      <td>[]</td>\n      <td>[]</td>\n      <td>[]</td>\n      <td>0</td>\n      <td>Чим довше мають скачки тиску гіпертензією, тим...</td>\n      <td>[]</td>\n    </tr>\n    <tr>\n      <th>1</th>\n      <td>А поки що починали цвісти троянди, випускники ...</td>\n      <td>[]</td>\n      <td>[]</td>\n      <td>[(114, 131)]</td>\n      <td>0</td>\n      <td>А поки що починали цвісти троянди, випускники ...</td>\n      <td>[]</td>\n    </tr>\n    <tr>\n      <th>2</th>\n      <td>Крім того, в 2020 р. багато експертів прогнозу...</td>\n      <td>[]</td>\n      <td>[]</td>\n      <td>[]</td>\n      <td>0</td>\n      <td>Крім того, в 2020 р. багато експертів прогнозу...</td>\n      <td>[]</td>\n    </tr>\n    <tr>\n      <th>3</th>\n      <td>Сильно сумніваюся, що ви зупините свій вибір н...</td>\n      <td>[]</td>\n      <td>[]</td>\n      <td>[]</td>\n      <td>0</td>\n      <td>Сильно сумніваюся, що ви зупините свій вибір н...</td>\n      <td>[]</td>\n    </tr>\n    <tr>\n      <th>4</th>\n      <td>Цей унікальний правовий важіль утворено 1998 р...</td>\n      <td>[]</td>\n      <td>[]</td>\n      <td>[]</td>\n      <td>0</td>\n      <td>Цей унікальний правовий важіль утворено 1998 р...</td>\n      <td>[]</td>\n    </tr>\n  </tbody>\n</table>\n</div>"
     },
     "execution_count": 18,
     "metadata": {},
     "output_type": "execute_result"
    }
   ],
   "source": [
    "uk_geo_df = pd.concat([uk_geo_dataset, cleaned_uk], axis=1)\n",
    "uk_geo_df.head()"
   ],
   "metadata": {
    "collapsed": false,
    "ExecuteTime": {
     "end_time": "2023-10-22T09:00:55.744248100Z",
     "start_time": "2023-10-22T09:00:55.669231100Z"
    }
   },
   "id": "71912e95f82c23da"
  },
  {
   "cell_type": "code",
   "execution_count": 19,
   "outputs": [
    {
     "data": {
      "text/plain": "(8028840, 2)"
     },
     "execution_count": 19,
     "metadata": {},
     "output_type": "execute_result"
    }
   ],
   "source": [
    "cleaned_ru = ru_geo_dataset[['text', 'loc_markers']].apply(clean_text_and_locations, axis=1)\n",
    "cleaned_ru = list(zip(*cleaned_ru))\n",
    "cleaned_ru = pd.DataFrame({'clean_text': cleaned_ru[0], 'clean_loc_markers': cleaned_ru[1]})\n",
    "cleaned_ru.shape"
   ],
   "metadata": {
    "collapsed": false,
    "ExecuteTime": {
     "end_time": "2023-10-22T09:10:49.136371600Z",
     "start_time": "2023-10-22T09:00:55.745250100Z"
    }
   },
   "id": "fb80d5e719ffc4fb"
  },
  {
   "cell_type": "code",
   "execution_count": 20,
   "outputs": [
    {
     "data": {
      "text/plain": "                                                text  \\\n0  Вице-премьер по социальным вопросам Татьяна Го...   \n1  По словам Голиковой, чаще всего онкологические...   \n2  Вице-премьер напомнила, что главные факторы см...   \n3  В начале года стало известно, что смертность о...   \n4  По данным Росстата, в 2017 году от рака умерли...   \n\n                                         loc_markers   org_markers  \\\n0                                         [(82, 88)]  [(149, 160)]   \n1  [(89, 98), (100, 108), (110, 118), (121, 139),...            []   \n2                                         [(57, 63)]            []   \n3                                                 []            []   \n4                                                 []    [(10, 18)]   \n\n  per_markers  doc_id  sent_id  \\\n0  [(36, 52)]       0        0   \n1  [(10, 19)]       0        1   \n2          []       0        2   \n3          []       0        3   \n4          []       0        4   \n\n                                          clean_text  \\\n0  Вицепремьер по социальным вопросам Татьяна Гол...   \n1  По словам Голиковой, чаще всего онкологические...   \n2  Вицепремьер напомнила, что главные факторы сме...   \n3  В начале года стало известно, что смертность о...   \n4  По данным Росстата, в 2017 году от рака умерли...   \n\n                                   clean_loc_markers  \n0                                         [(81, 87)]  \n1  [(89, 98), (100, 108), (110, 118), (121, 139),...  \n2                                         [(56, 62)]  \n3                                                 []  \n4                                                 []  ",
      "text/html": "<div>\n<style scoped>\n    .dataframe tbody tr th:only-of-type {\n        vertical-align: middle;\n    }\n\n    .dataframe tbody tr th {\n        vertical-align: top;\n    }\n\n    .dataframe thead th {\n        text-align: right;\n    }\n</style>\n<table border=\"1\" class=\"dataframe\">\n  <thead>\n    <tr style=\"text-align: right;\">\n      <th></th>\n      <th>text</th>\n      <th>loc_markers</th>\n      <th>org_markers</th>\n      <th>per_markers</th>\n      <th>doc_id</th>\n      <th>sent_id</th>\n      <th>clean_text</th>\n      <th>clean_loc_markers</th>\n    </tr>\n  </thead>\n  <tbody>\n    <tr>\n      <th>0</th>\n      <td>Вице-премьер по социальным вопросам Татьяна Го...</td>\n      <td>[(82, 88)]</td>\n      <td>[(149, 160)]</td>\n      <td>[(36, 52)]</td>\n      <td>0</td>\n      <td>0</td>\n      <td>Вицепремьер по социальным вопросам Татьяна Гол...</td>\n      <td>[(81, 87)]</td>\n    </tr>\n    <tr>\n      <th>1</th>\n      <td>По словам Голиковой, чаще всего онкологические...</td>\n      <td>[(89, 98), (100, 108), (110, 118), (121, 139),...</td>\n      <td>[]</td>\n      <td>[(10, 19)]</td>\n      <td>0</td>\n      <td>1</td>\n      <td>По словам Голиковой, чаще всего онкологические...</td>\n      <td>[(89, 98), (100, 108), (110, 118), (121, 139),...</td>\n    </tr>\n    <tr>\n      <th>2</th>\n      <td>Вице-премьер напомнила, что главные факторы см...</td>\n      <td>[(57, 63)]</td>\n      <td>[]</td>\n      <td>[]</td>\n      <td>0</td>\n      <td>2</td>\n      <td>Вицепремьер напомнила, что главные факторы сме...</td>\n      <td>[(56, 62)]</td>\n    </tr>\n    <tr>\n      <th>3</th>\n      <td>В начале года стало известно, что смертность о...</td>\n      <td>[]</td>\n      <td>[]</td>\n      <td>[]</td>\n      <td>0</td>\n      <td>3</td>\n      <td>В начале года стало известно, что смертность о...</td>\n      <td>[]</td>\n    </tr>\n    <tr>\n      <th>4</th>\n      <td>По данным Росстата, в 2017 году от рака умерли...</td>\n      <td>[]</td>\n      <td>[(10, 18)]</td>\n      <td>[]</td>\n      <td>0</td>\n      <td>4</td>\n      <td>По данным Росстата, в 2017 году от рака умерли...</td>\n      <td>[]</td>\n    </tr>\n  </tbody>\n</table>\n</div>"
     },
     "execution_count": 20,
     "metadata": {},
     "output_type": "execute_result"
    }
   ],
   "source": [
    "ru_geo_df = pd.concat([ru_geo_dataset, cleaned_ru], axis=1)\n",
    "ru_geo_df.head()"
   ],
   "metadata": {
    "collapsed": false,
    "ExecuteTime": {
     "end_time": "2023-10-22T09:10:49.615405200Z",
     "start_time": "2023-10-22T09:10:49.137371700Z"
    }
   },
   "id": "c9c14a67ca5ab9d"
  },
  {
   "cell_type": "code",
   "execution_count": 21,
   "outputs": [],
   "source": [
    "uk_geo_df['number_of_locations'] = uk_geo_df['clean_loc_markers'].apply(len)\n",
    "ru_geo_df['number_of_locations'] = ru_geo_df['clean_loc_markers'].apply(len)"
   ],
   "metadata": {
    "collapsed": false,
    "ExecuteTime": {
     "end_time": "2023-10-22T09:10:51.013469Z",
     "start_time": "2023-10-22T09:10:49.614405Z"
    }
   },
   "id": "82d931cfd7c76f14"
  },
  {
   "cell_type": "code",
   "execution_count": 22,
   "outputs": [],
   "source": [
    "uk_geo_df[\"stratify_col\"] = uk_geo_df[\"number_of_locations\"]\n",
    "uk_geo_df.loc[uk_geo_df[\"number_of_locations\"] >= 14, \"stratify_col\"] = -1\n",
    "\n",
    "ru_geo_df[\"stratify_col\"] = ru_geo_df[\"number_of_locations\"]\n",
    "ru_geo_df.loc[ru_geo_df[\"number_of_locations\"] >= 14, \"stratify_col\"] = -1"
   ],
   "metadata": {
    "collapsed": false,
    "ExecuteTime": {
     "end_time": "2023-10-22T09:10:51.050263700Z",
     "start_time": "2023-10-22T09:10:51.014470500Z"
    }
   },
   "id": "82bb91332777f8b5"
  },
  {
   "cell_type": "code",
   "execution_count": 23,
   "outputs": [
    {
     "data": {
      "text/plain": "<Axes: xlabel='stratify_col', ylabel='Count'>"
     },
     "execution_count": 23,
     "metadata": {},
     "output_type": "execute_result"
    },
    {
     "data": {
      "text/plain": "<Figure size 640x480 with 1 Axes>",
      "image/png": "[encoded data removed]"
     },
     "metadata": {},
     "output_type": "display_data"
    }
   ],
   "source": [
    "sns.histplot(uk_geo_df[uk_geo_df['number_of_locations'] > 0], x='stratify_col', hue='is_valid', bins=40)"
   ],
   "metadata": {
    "collapsed": false,
    "ExecuteTime": {
     "end_time": "2023-10-22T09:10:51.488657Z",
     "start_time": "2023-10-22T09:10:51.052263400Z"
    }
   },
   "id": "fa1d903c9038076"
  },
  {
   "cell_type": "code",
   "execution_count": 24,
   "outputs": [
    {
     "data": {
      "text/plain": "<Axes: xlabel='stratify_col', ylabel='Count'>"
     },
     "execution_count": 24,
     "metadata": {},
     "output_type": "execute_result"
    },
    {
     "data": {
      "text/plain": "<Figure size 640x480 with 1 Axes>",
      "image/png": "[encoded data removed]"
     },
     "metadata": {},
     "output_type": "display_data"
    }
   ],
   "source": [
    "sns.histplot(ru_geo_df[ru_geo_df['number_of_locations'] > 0], x='stratify_col', bins=40)"
   ],
   "metadata": {
    "collapsed": false,
    "ExecuteTime": {
     "end_time": "2023-10-22T09:10:52.446980800Z",
     "start_time": "2023-10-22T09:10:51.482657Z"
    }
   },
   "id": "f9a9ee7920de76c3"
  },
  {
   "cell_type": "code",
   "execution_count": 25,
   "outputs": [
    {
     "data": {
      "text/plain": "                                                      text  \\\n4442167  Ранее президент КБР Арсен Каноков сообщил о вв...   \n7925795  Между тем Дево утверждает, что этот банк перев...   \n1290123  Отмечается, что в основном интерес к детсаду п...   \n762673   Украинские власти регулярно обвиняют Россию в ...   \n7576426              Во время обстрела никто не пострадал.   \n\n                    loc_markers org_markers           per_markers  doc_id  \\\n4442167              [(16, 19)]          []            [(20, 33)]  374139   \n7925795                      []          []  [(10, 14), (80, 88)]  726181   \n1290123                      []          []                    []  116740   \n762673   [(37, 43), (123, 131)]          []                    []   67888   \n7576426                      []          []                    []  682581   \n\n         sent_id                                         clean_text  \\\n4442167        9  Ранее президент КБР Арсен Каноков сообщил о вв...   \n7925795        7  Между тем Дево утверждает, что этот банк перев...   \n1290123       12  Отмечается, что в основном интерес к детсаду п...   \n762673         9  Украинские власти регулярно обвиняют Россию в ...   \n7576426        2              Во время обстрела никто не пострадал.   \n\n              clean_loc_markers  number_of_locations  stratify_col  is_valid  \n4442167              [(16, 19)]                    1             1         0  \n7925795                      []                    0             0         0  \n1290123                      []                    0             0         0  \n762673   [(37, 43), (123, 131)]                    2             2         0  \n7576426                      []                    0             0         0  ",
      "text/html": "<div>\n<style scoped>\n    .dataframe tbody tr th:only-of-type {\n        vertical-align: middle;\n    }\n\n    .dataframe tbody tr th {\n        vertical-align: top;\n    }\n\n    .dataframe thead th {\n        text-align: right;\n    }\n</style>\n<table border=\"1\" class=\"dataframe\">\n  <thead>\n    <tr style=\"text-align: right;\">\n      <th></th>\n      <th>text</th>\n      <th>loc_markers</th>\n      <th>org_markers</th>\n      <th>per_markers</th>\n      <th>doc_id</th>\n      <th>sent_id</th>\n      <th>clean_text</th>\n      <th>clean_loc_markers</th>\n      <th>number_of_locations</th>\n      <th>stratify_col</th>\n      <th>is_valid</th>\n    </tr>\n  </thead>\n  <tbody>\n    <tr>\n      <th>4442167</th>\n      <td>Ранее президент КБР Арсен Каноков сообщил о вв...</td>\n      <td>[(16, 19)]</td>\n      <td>[]</td>\n      <td>[(20, 33)]</td>\n      <td>374139</td>\n      <td>9</td>\n      <td>Ранее президент КБР Арсен Каноков сообщил о вв...</td>\n      <td>[(16, 19)]</td>\n      <td>1</td>\n      <td>1</td>\n      <td>0</td>\n    </tr>\n    <tr>\n      <th>7925795</th>\n      <td>Между тем Дево утверждает, что этот банк перев...</td>\n      <td>[]</td>\n      <td>[]</td>\n      <td>[(10, 14), (80, 88)]</td>\n      <td>726181</td>\n      <td>7</td>\n      <td>Между тем Дево утверждает, что этот банк перев...</td>\n      <td>[]</td>\n      <td>0</td>\n      <td>0</td>\n      <td>0</td>\n    </tr>\n    <tr>\n      <th>1290123</th>\n      <td>Отмечается, что в основном интерес к детсаду п...</td>\n      <td>[]</td>\n      <td>[]</td>\n      <td>[]</td>\n      <td>116740</td>\n      <td>12</td>\n      <td>Отмечается, что в основном интерес к детсаду п...</td>\n      <td>[]</td>\n      <td>0</td>\n      <td>0</td>\n      <td>0</td>\n    </tr>\n    <tr>\n      <th>762673</th>\n      <td>Украинские власти регулярно обвиняют Россию в ...</td>\n      <td>[(37, 43), (123, 131)]</td>\n      <td>[]</td>\n      <td>[]</td>\n      <td>67888</td>\n      <td>9</td>\n      <td>Украинские власти регулярно обвиняют Россию в ...</td>\n      <td>[(37, 43), (123, 131)]</td>\n      <td>2</td>\n      <td>2</td>\n      <td>0</td>\n    </tr>\n    <tr>\n      <th>7576426</th>\n      <td>Во время обстрела никто не пострадал.</td>\n      <td>[]</td>\n      <td>[]</td>\n      <td>[]</td>\n      <td>682581</td>\n      <td>2</td>\n      <td>Во время обстрела никто не пострадал.</td>\n      <td>[]</td>\n      <td>0</td>\n      <td>0</td>\n      <td>0</td>\n    </tr>\n  </tbody>\n</table>\n</div>"
     },
     "execution_count": 25,
     "metadata": {},
     "output_type": "execute_result"
    }
   ],
   "source": [
    "from sklearn.model_selection import train_test_split\n",
    "ru_geo_df_train, ru_geo_df_test = train_test_split(ru_geo_df, test_size=uk_geo_df['is_valid'].sum() / uk_geo_df.shape[0], stratify=ru_geo_df[\n",
    "    'stratify_col'])\n",
    "\n",
    "ru_geo_df_train['is_valid'] = 0\n",
    "ru_geo_df_test['is_valid'] = 1\n",
    "\n",
    "ru_geo_df = pd.concat([ru_geo_df_train, ru_geo_df_test])\n",
    "ru_geo_df.head()"
   ],
   "metadata": {
    "collapsed": false,
    "ExecuteTime": {
     "end_time": "2023-10-22T09:10:57.159376100Z",
     "start_time": "2023-10-22T09:10:52.448982800Z"
    }
   },
   "id": "e02df5e0538261fc"
  },
  {
   "cell_type": "code",
   "execution_count": 26,
   "outputs": [
    {
     "data": {
      "text/plain": "                                                text loc_markers org_markers  \\\n0  Чим довше мають скачки тиску гіпертензією, тим...          []          []   \n1  А поки що починали цвісти троянди, випускники ...          []          []   \n2  Крім того, в 2020 р. багато експертів прогнозу...          []          []   \n3  Сильно сумніваюся, що ви зупините свій вибір н...          []          []   \n4  Цей унікальний правовий важіль утворено 1998 р...          []          []   \n\n    per_markers  is_valid                                         clean_text  \\\n0            []         0  Чим довше мають скачки тиску гіпертензією, тим...   \n1  [(114, 131)]         0  А поки що починали цвісти троянди, випускники ...   \n2            []         0  Крім того, в 2020 р. багато експертів прогнозу...   \n3            []         0  Сильно сумніваюся, що ви зупините свій вибір н...   \n4            []         0  Цей унікальний правовий важіль утворено 1998 р...   \n\n  clean_loc_markers  number_of_locations  stratify_col language  doc_id  \\\n0                []                    0             0       ua     NaN   \n1                []                    0             0       ua     NaN   \n2                []                    0             0       ua     NaN   \n3                []                    0             0       ua     NaN   \n4                []                    0             0       ua     NaN   \n\n   sent_id  \n0      NaN  \n1      NaN  \n2      NaN  \n3      NaN  \n4      NaN  ",
      "text/html": "<div>\n<style scoped>\n    .dataframe tbody tr th:only-of-type {\n        vertical-align: middle;\n    }\n\n    .dataframe tbody tr th {\n        vertical-align: top;\n    }\n\n    .dataframe thead th {\n        text-align: right;\n    }\n</style>\n<table border=\"1\" class=\"dataframe\">\n  <thead>\n    <tr style=\"text-align: right;\">\n      <th></th>\n      <th>text</th>\n      <th>loc_markers</th>\n      <th>org_markers</th>\n      <th>per_markers</th>\n      <th>is_valid</th>\n      <th>clean_text</th>\n      <th>clean_loc_markers</th>\n      <th>number_of_locations</th>\n      <th>stratify_col</th>\n      <th>language</th>\n      <th>doc_id</th>\n      <th>sent_id</th>\n    </tr>\n  </thead>\n  <tbody>\n    <tr>\n      <th>0</th>\n      <td>Чим довше мають скачки тиску гіпертензією, тим...</td>\n      <td>[]</td>\n      <td>[]</td>\n      <td>[]</td>\n      <td>0</td>\n      <td>Чим довше мають скачки тиску гіпертензією, тим...</td>\n      <td>[]</td>\n      <td>0</td>\n      <td>0</td>\n      <td>ua</td>\n      <td>NaN</td>\n      <td>NaN</td>\n    </tr>\n    <tr>\n      <th>1</th>\n      <td>А поки що починали цвісти троянди, випускники ...</td>\n      <td>[]</td>\n      <td>[]</td>\n      <td>[(114, 131)]</td>\n      <td>0</td>\n      <td>А поки що починали цвісти троянди, випускники ...</td>\n      <td>[]</td>\n      <td>0</td>\n      <td>0</td>\n      <td>ua</td>\n      <td>NaN</td>\n      <td>NaN</td>\n    </tr>\n    <tr>\n      <th>2</th>\n      <td>Крім того, в 2020 р. багато експертів прогнозу...</td>\n      <td>[]</td>\n      <td>[]</td>\n      <td>[]</td>\n      <td>0</td>\n      <td>Крім того, в 2020 р. багато експертів прогнозу...</td>\n      <td>[]</td>\n      <td>0</td>\n      <td>0</td>\n      <td>ua</td>\n      <td>NaN</td>\n      <td>NaN</td>\n    </tr>\n    <tr>\n      <th>3</th>\n      <td>Сильно сумніваюся, що ви зупините свій вибір н...</td>\n      <td>[]</td>\n      <td>[]</td>\n      <td>[]</td>\n      <td>0</td>\n      <td>Сильно сумніваюся, що ви зупините свій вибір н...</td>\n      <td>[]</td>\n      <td>0</td>\n      <td>0</td>\n      <td>ua</td>\n      <td>NaN</td>\n      <td>NaN</td>\n    </tr>\n    <tr>\n      <th>4</th>\n      <td>Цей унікальний правовий важіль утворено 1998 р...</td>\n      <td>[]</td>\n      <td>[]</td>\n      <td>[]</td>\n      <td>0</td>\n      <td>Цей унікальний правовий важіль утворено 1998 р...</td>\n      <td>[]</td>\n      <td>0</td>\n      <td>0</td>\n      <td>ua</td>\n      <td>NaN</td>\n      <td>NaN</td>\n    </tr>\n  </tbody>\n</table>\n</div>"
     },
     "execution_count": 26,
     "metadata": {},
     "output_type": "execute_result"
    }
   ],
   "source": [
    "uk_geo_df['language'] = 'ua'\n",
    "ru_geo_df['language'] = 'ru'\n",
    "\n",
    "df = pd.concat([uk_geo_df, ru_geo_df])\n",
    "df.head()"
   ],
   "metadata": {
    "collapsed": false,
    "ExecuteTime": {
     "end_time": "2023-10-22T09:10:58.196036800Z",
     "start_time": "2023-10-22T09:10:57.159376100Z"
    }
   },
   "id": "f01e9e8d42ae3f8c"
  },
  {
   "cell_type": "code",
   "execution_count": 27,
   "outputs": [
    {
     "data": {
      "text/plain": "                        text loc_markers org_markers per_markers  is_valid  \\\n1299035        Всегда Запад!   [(7, 12)]          []          []         0   \n5619202      Англия - 11159.    [(0, 6)]          []          []         0   \n7022430       Чехия - 776 5.    [(0, 5)]          []          []         0   \n6541829    Чемпионат России.  [(10, 16)]          []          []         0   \n2527013  Франция — 45,750.7.    [(0, 7)]          []          []         0   \n...                      ...         ...         ...         ...       ...   \n6277383            Венгрия9.    [(0, 7)]          []          []         1   \n1390946     Посмотрите Крым.  [(11, 15)]          []          []         1   \n1051124      Слава Украине!»   [(6, 13)]          []          []         1   \n2527009   Англия — 71,820.3.    [(0, 6)]          []          []         1   \n2174313       Куала-Лумпур9.   [(0, 12)]          []          []         1   \n\n                  clean_text clean_loc_markers  number_of_locations  \\\n1299035         Всегда Запад         [(7, 12)]                    1   \n5619202        Англия 11159.          [(0, 6)]                    1   \n7022430         Чехия 776 5.          [(0, 5)]                    1   \n6541829    Чемпионат России.        [(10, 16)]                    1   \n2527013  Франция — 45,750.7.          [(0, 7)]                    1   \n...                      ...               ...                  ...   \n6277383            Венгрия9.          [(0, 7)]                    1   \n1390946     Посмотрите Крым.        [(11, 15)]                    1   \n1051124        Слава Украине         [(6, 13)]                    1   \n2527009   Англия — 71,820.3.          [(0, 6)]                    1   \n2174313        КуалаЛумпур9.         [(0, 11)]                    1   \n\n         stratify_col language    doc_id  sent_id  \n1299035             1       ru  117554.0      9.0  \n5619202             1       ru  478681.0     20.0  \n7022430             1       ru  626546.0     10.0  \n6541829             1       ru  579619.0     11.0  \n2527013             1       ru  219993.0     12.0  \n...               ...      ...       ...      ...  \n6277383             1       ru  550356.0     19.0  \n1390946             1       ru  126017.0      9.0  \n1051124             1       ru   94725.0      3.0  \n2527009             1       ru  219993.0      8.0  \n2174313             1       ru  190440.0     10.0  \n\n[1356 rows x 12 columns]",
      "text/html": "<div>\n<style scoped>\n    .dataframe tbody tr th:only-of-type {\n        vertical-align: middle;\n    }\n\n    .dataframe tbody tr th {\n        vertical-align: top;\n    }\n\n    .dataframe thead th {\n        text-align: right;\n    }\n</style>\n<table border=\"1\" class=\"dataframe\">\n  <thead>\n    <tr style=\"text-align: right;\">\n      <th></th>\n      <th>text</th>\n      <th>loc_markers</th>\n      <th>org_markers</th>\n      <th>per_markers</th>\n      <th>is_valid</th>\n      <th>clean_text</th>\n      <th>clean_loc_markers</th>\n      <th>number_of_locations</th>\n      <th>stratify_col</th>\n      <th>language</th>\n      <th>doc_id</th>\n      <th>sent_id</th>\n    </tr>\n  </thead>\n  <tbody>\n    <tr>\n      <th>1299035</th>\n      <td>Всегда Запад!</td>\n      <td>[(7, 12)]</td>\n      <td>[]</td>\n      <td>[]</td>\n      <td>0</td>\n      <td>Всегда Запад</td>\n      <td>[(7, 12)]</td>\n      <td>1</td>\n      <td>1</td>\n      <td>ru</td>\n      <td>117554.0</td>\n      <td>9.0</td>\n    </tr>\n    <tr>\n      <th>5619202</th>\n      <td>Англия - 11159.</td>\n      <td>[(0, 6)]</td>\n      <td>[]</td>\n      <td>[]</td>\n      <td>0</td>\n      <td>Англия 11159.</td>\n      <td>[(0, 6)]</td>\n      <td>1</td>\n      <td>1</td>\n      <td>ru</td>\n      <td>478681.0</td>\n      <td>20.0</td>\n    </tr>\n    <tr>\n      <th>7022430</th>\n      <td>Чехия - 776 5.</td>\n      <td>[(0, 5)]</td>\n      <td>[]</td>\n      <td>[]</td>\n      <td>0</td>\n      <td>Чехия 776 5.</td>\n      <td>[(0, 5)]</td>\n      <td>1</td>\n      <td>1</td>\n      <td>ru</td>\n      <td>626546.0</td>\n      <td>10.0</td>\n    </tr>\n    <tr>\n      <th>6541829</th>\n      <td>Чемпионат России.</td>\n      <td>[(10, 16)]</td>\n      <td>[]</td>\n      <td>[]</td>\n      <td>0</td>\n      <td>Чемпионат России.</td>\n      <td>[(10, 16)]</td>\n      <td>1</td>\n      <td>1</td>\n      <td>ru</td>\n      <td>579619.0</td>\n      <td>11.0</td>\n    </tr>\n    <tr>\n      <th>2527013</th>\n      <td>Франция — 45,750.7.</td>\n      <td>[(0, 7)]</td>\n      <td>[]</td>\n      <td>[]</td>\n      <td>0</td>\n      <td>Франция — 45,750.7.</td>\n      <td>[(0, 7)]</td>\n      <td>1</td>\n      <td>1</td>\n      <td>ru</td>\n      <td>219993.0</td>\n      <td>12.0</td>\n    </tr>\n    <tr>\n      <th>...</th>\n      <td>...</td>\n      <td>...</td>\n      <td>...</td>\n      <td>...</td>\n      <td>...</td>\n      <td>...</td>\n      <td>...</td>\n      <td>...</td>\n      <td>...</td>\n      <td>...</td>\n      <td>...</td>\n      <td>...</td>\n    </tr>\n    <tr>\n      <th>6277383</th>\n      <td>Венгрия9.</td>\n      <td>[(0, 7)]</td>\n      <td>[]</td>\n      <td>[]</td>\n      <td>1</td>\n      <td>Венгрия9.</td>\n      <td>[(0, 7)]</td>\n      <td>1</td>\n      <td>1</td>\n      <td>ru</td>\n      <td>550356.0</td>\n      <td>19.0</td>\n    </tr>\n    <tr>\n      <th>1390946</th>\n      <td>Посмотрите Крым.</td>\n      <td>[(11, 15)]</td>\n      <td>[]</td>\n      <td>[]</td>\n      <td>1</td>\n      <td>Посмотрите Крым.</td>\n      <td>[(11, 15)]</td>\n      <td>1</td>\n      <td>1</td>\n      <td>ru</td>\n      <td>126017.0</td>\n      <td>9.0</td>\n    </tr>\n    <tr>\n      <th>1051124</th>\n      <td>Слава Украине!»</td>\n      <td>[(6, 13)]</td>\n      <td>[]</td>\n      <td>[]</td>\n      <td>1</td>\n      <td>Слава Украине</td>\n      <td>[(6, 13)]</td>\n      <td>1</td>\n      <td>1</td>\n      <td>ru</td>\n      <td>94725.0</td>\n      <td>3.0</td>\n    </tr>\n    <tr>\n      <th>2527009</th>\n      <td>Англия — 71,820.3.</td>\n      <td>[(0, 6)]</td>\n      <td>[]</td>\n      <td>[]</td>\n      <td>1</td>\n      <td>Англия — 71,820.3.</td>\n      <td>[(0, 6)]</td>\n      <td>1</td>\n      <td>1</td>\n      <td>ru</td>\n      <td>219993.0</td>\n      <td>8.0</td>\n    </tr>\n    <tr>\n      <th>2174313</th>\n      <td>Куала-Лумпур9.</td>\n      <td>[(0, 12)]</td>\n      <td>[]</td>\n      <td>[]</td>\n      <td>1</td>\n      <td>КуалаЛумпур9.</td>\n      <td>[(0, 11)]</td>\n      <td>1</td>\n      <td>1</td>\n      <td>ru</td>\n      <td>190440.0</td>\n      <td>10.0</td>\n    </tr>\n  </tbody>\n</table>\n<p>1356 rows × 12 columns</p>\n</div>"
     },
     "execution_count": 27,
     "metadata": {},
     "output_type": "execute_result"
    }
   ],
   "source": [
    "df[(df['text'].apply(len) < 20) & (df['number_of_locations'] != 0)]"
   ],
   "metadata": {
    "collapsed": false,
    "ExecuteTime": {
     "end_time": "2023-10-22T09:11:00.515489300Z",
     "start_time": "2023-10-22T09:10:58.197036300Z"
    }
   },
   "id": "c900ae4a07210392"
  },
  {
   "cell_type": "code",
   "execution_count": 28,
   "outputs": [
    {
     "data": {
      "text/plain": "(9009032, 12)"
     },
     "execution_count": 28,
     "metadata": {},
     "output_type": "execute_result"
    }
   ],
   "source": [
    "df = df[(df['text'].apply(len) >= 20)]\n",
    "df.shape"
   ],
   "metadata": {
    "collapsed": false,
    "ExecuteTime": {
     "end_time": "2023-10-22T09:11:03.790765700Z",
     "start_time": "2023-10-22T09:11:00.516489700Z"
    }
   },
   "id": "ade5910d3c950240"
  },
  {
   "cell_type": "code",
   "execution_count": 29,
   "outputs": [
    {
     "data": {
      "text/plain": "((100000, 12), (1000000, 12))"
     },
     "execution_count": 29,
     "metadata": {},
     "output_type": "execute_result"
    }
   ],
   "source": [
    "_, small_df = train_test_split(df, test_size=1e5/df.shape[0], stratify=df['is_valid'])\n",
    "_, medium_df = train_test_split(df, test_size=1e6/df.shape[0], stratify=df['is_valid'])\n",
    "\n",
    "small_df = small_df.reset_index(drop=True)\n",
    "medium_df = medium_df.reset_index(drop=True)\n",
    "\n",
    "small_df.shape, medium_df.shape"
   ],
   "metadata": {
    "collapsed": false,
    "ExecuteTime": {
     "end_time": "2023-10-22T09:11:14.499197400Z",
     "start_time": "2023-10-22T09:11:03.793927200Z"
    }
   },
   "id": "d93bed0aacbc1529"
  },
  {
   "cell_type": "code",
   "execution_count": 30,
   "outputs": [],
   "source": [
    "small_df.to_csv('datasets/small_dataset.csv', index=False)\n",
    "medium_df.to_csv('datasets/medium_dataset.csv', index=False)\n",
    "df.to_csv('datasets/big_dataset.csv', index=False)"
   ],
   "metadata": {
    "collapsed": false,
    "ExecuteTime": {
     "end_time": "2023-10-22T09:12:29.600610600Z",
     "start_time": "2023-10-22T09:11:14.500197400Z"
    }
   },
   "id": "e9ad5725ad047543"
  },
  {
   "cell_type": "code",
   "execution_count": 31,
   "outputs": [],
   "source": [
    "def check_symbol(row, symbol):\n",
    "    text, locs = row[0], row[1]\n",
    "    if locs:\n",
    "        locs_text = get_locations([text, locs])\n",
    "        return any([symbol in loc for loc in locs_text])\n",
    "\n",
    "    return False\n"
   ],
   "metadata": {
    "collapsed": false,
    "ExecuteTime": {
     "end_time": "2023-10-22T09:12:29.604153500Z",
     "start_time": "2023-10-22T09:12:29.601610400Z"
    }
   },
   "id": "920bd3df7acf6fb0"
  },
  {
   "cell_type": "code",
   "execution_count": 32,
   "outputs": [
    {
     "data": {
      "text/plain": "'‐́—−–‑'"
     },
     "execution_count": 32,
     "metadata": {},
     "output_type": "execute_result"
    }
   ],
   "source": [
    "'‐́—−–‑'"
   ],
   "metadata": {
    "collapsed": false,
    "ExecuteTime": {
     "end_time": "2023-10-22T09:12:29.610354300Z",
     "start_time": "2023-10-22T09:12:29.604153500Z"
    }
   },
   "id": "18ffbe45279399aa"
  }
 ],
 "metadata": {
  "kernelspec": {
   "display_name": "Python 3",
   "language": "python",
   "name": "python3"
  },
  "language_info": {
   "codemirror_mode": {
    "name": "ipython",
    "version": 2
   },
   "file_extension": ".py",
   "mimetype": "text/x-python",
   "name": "python",
   "nbconvert_exporter": "python",
   "pygments_lexer": "ipython2",
   "version": "2.7.6"
  }
 },
 "nbformat": 4,
 "nbformat_minor": 5
}
