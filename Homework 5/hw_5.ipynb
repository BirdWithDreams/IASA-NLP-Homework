{
 "cells": [
  {
   "cell_type": "code",
   "execution_count": 1,
   "id": "339680f0276d7cb0",
   "metadata": {
    "collapsed": true,
    "ExecuteTime": {
     "end_time": "2023-10-29T18:49:16.468507Z",
     "start_time": "2023-10-29T18:49:13.290583200Z"
    }
   },
   "outputs": [],
   "source": [
    "import re\n",
    "import string\n",
    "from typing import List\n",
    "from copy import deepcopy\n",
    "from itertools import chain\n",
    "\n",
    "import numpy as np\n",
    "import pandas as pd\n",
    "import seaborn as sns\n",
    "import matplotlib.pyplot as plt\n",
    "\n",
    "import nltk\n",
    "import spacy\n",
    "from spacy.training.iob_utils import biluo_to_iob, doc_to_biluo_tags\n",
    "from nltk.corpus import stopwords\n",
    "from nltk import tokenize\n",
    "\n",
    "import torch\n",
    "\n",
    "%matplotlib inline"
   ]
  },
  {
   "cell_type": "code",
   "execution_count": 2,
   "outputs": [],
   "source": [
    "from tqdm import tqdm\n",
    "\n",
    "tqdm.pandas()"
   ],
   "metadata": {
    "collapsed": false,
    "ExecuteTime": {
     "end_time": "2023-10-29T18:49:16.474398100Z",
     "start_time": "2023-10-29T18:49:16.469508200Z"
    }
   },
   "id": "initial_id"
  },
  {
   "cell_type": "code",
   "execution_count": 3,
   "outputs": [
    {
     "name": "stdout",
     "output_type": "stream",
     "text": [
      "INFO: Pandarallel will run on 10 workers.\n",
      "INFO: Pandarallel will use standard multiprocessing data transfer (pipe) to transfer data between the main process and workers.\n",
      "\n",
      "WARNING: You are on Windows. If you detect any issue with pandarallel, be sure you checked out the Troubleshooting page:\n",
      "https://nalepae.github.io/pandarallel/troubleshooting/\n"
     ]
    }
   ],
   "source": [
    "from pandarallel import pandarallel\n",
    "\n",
    "pandarallel.initialize(progress_bar=True)"
   ],
   "metadata": {
    "collapsed": false,
    "ExecuteTime": {
     "end_time": "2023-10-29T18:49:16.499608600Z",
     "start_time": "2023-10-29T18:49:16.473397500Z"
    }
   },
   "id": "a632066a8f8a7e"
  },
  {
   "cell_type": "markdown",
   "source": [
    "# Utils"
   ],
   "metadata": {
    "collapsed": false
   },
   "id": "37c939cecbf1dc0e"
  },
  {
   "cell_type": "markdown",
   "source": [
    "All the functions bellow are for text cleaning"
   ],
   "metadata": {
    "collapsed": false
   },
   "id": "e29358af076b205f"
  },
  {
   "cell_type": "code",
   "execution_count": 4,
   "outputs": [],
   "source": [
    "def get_locations(row, with_text=False):\n",
    "    text, locs = row[0], row[1]\n",
    "    locs = [text[loc[0]:loc[1]] for loc in locs]\n",
    "    return (text, locs) if with_text else locs"
   ],
   "metadata": {
    "collapsed": false,
    "ExecuteTime": {
     "end_time": "2023-10-29T18:49:16.501607900Z",
     "start_time": "2023-10-29T18:49:16.498097600Z"
    }
   },
   "id": "abaeeb554bb41bde"
  },
  {
   "cell_type": "code",
   "execution_count": 5,
   "outputs": [],
   "source": [
    "def remove_unbalanced_brackets(text):\n",
    "    # Remove unopened or unclosed brackets\n",
    "    while '(' in text and ')' not in text[text.index('('):]:\n",
    "        text = text.replace('(', '', 1)\n",
    "    while ')' in text and '(' not in text[:text.rindex(')')]:\n",
    "        text = text[:text.rindex(')')] + text[text.rindex(')') + 1:]\n",
    "    return text\n"
   ],
   "metadata": {
    "collapsed": false,
    "ExecuteTime": {
     "end_time": "2023-10-29T18:49:16.548773400Z",
     "start_time": "2023-10-29T18:49:16.500609100Z"
    }
   },
   "id": "219274e84c043948"
  },
  {
   "cell_type": "code",
   "execution_count": 6,
   "outputs": [],
   "source": [
    "def preprocess_text(text):\n",
    "    # Your existing preprocessing steps\n",
    "    text = re.sub(r'http\\S+|www.\\S+', '', text)\n",
    "    phone_regex = r'\\(?\\+?\\d{0,3}\\)?[-.\\s]?\\(?\\d{3}\\)?[-.\\s]?\\d{3}[-.\\s]?\\d{2}[-.\\s]?\\d{2}'\n",
    "    text = re.sub(phone_regex, '', text)\n",
    "\n",
    "    chars_to_remove = ('+;°#̂,ี¡”\\x03ֹ≠้‑\".‘ા·:⁉*->˗’√Ⓑ\\u202c§ื}¿؛⏺≈̀|∩„\\xad¸®¬ิ¦;“¥–€̆ึ⋅Ⓔ\\u202d≥→←҆¯'\n",
    "                       '⏳̶™…©»№\\x9d℃\\x96\\x08?«็−ุ،‰~ู̧∆‼•\\\\^¨\\u2060᾿ְ※<₽\\x7f\\u200f่[\\x04]⃣\\x0f\\xa0'\n",
    "                       '⏰\\u200c%±″†(÷′Ⓕ́ु$՚`/\\'∙{ा)₴£\\u202aั⁾≡×&¤⊕↓⁽\\x97̈؟\\x98๊≤@↑˚ો્´!›‚∞‛\\u200b\\x01')\n",
    "    text = re.sub('[' + re.escape(chars_to_remove) + ']', '', text)\n",
    "\n",
    "    text = re.sub(r'[\\n\\t]', ' ', text)\n",
    "    text = re.sub(r'@\\w+', '', text)\n",
    "    pattern = r\"(?:https?:\\/\\/)?(?:www\\.)?(?:t\\.me\\/\\S+|telegram\\.me\\/\\S+|telegram\\.dog\\/\\S+)\"\n",
    "    text = re.sub(pattern, '', text)\n",
    "    emoji_pattern = re.compile(\n",
    "        pattern=\"[\"\n",
    "                u\"\\U0001F600-\\U0001F64F\"  # emoticons\n",
    "                u\"\\U0001F300-\\U0001F5FF\"  # symbols & pictographs\n",
    "                u\"\\U0001F680-\\U0001F6FF\"  # transport & map symbols\n",
    "                u\"\\U0001F1E0-\\U0001F1FF\"  # flags (iOS)\n",
    "                u\"\\U00002702-\\U000027B0\"\n",
    "                u\"\\U000024C2-\\U0001F251\"\n",
    "                u\"\\U0001f926-\\U0001f937\"\n",
    "                u'\\U00010000-\\U0010ffff'\n",
    "                u\"\\u200d\"\n",
    "                u\"\\u2640-\\u2642\"\n",
    "                u\"\\u2600-\\u2B55\"\n",
    "                u\"\\u23cf\"\n",
    "                u\"\\u23e9\"\n",
    "                u\"\\u231a\"\n",
    "                u\"\\u3030\"\n",
    "                \"]+\", flags=re.UNICODE\n",
    "    )\n",
    "    text = emoji_pattern.sub(r'', text)\n",
    "    text = re.sub(r' +', ' ', text)\n",
    "    text = remove_unbalanced_brackets(text)\n",
    "\n",
    "    return text"
   ],
   "metadata": {
    "collapsed": false,
    "ExecuteTime": {
     "end_time": "2023-10-29T18:49:16.559283700Z",
     "start_time": "2023-10-29T18:49:16.509274Z"
    }
   },
   "id": "46be3d220efc8e6e"
  },
  {
   "cell_type": "code",
   "execution_count": 7,
   "outputs": [],
   "source": [
    "def update_locations(row, text_processor):\n",
    "    text, locations = row\n",
    "    location_texts = get_locations((text, locations))\n",
    "    text = text_processor(text)\n",
    "\n",
    "    new_locations = []\n",
    "    offset = 0\n",
    "    for loc_text in location_texts:\n",
    "        clean_loc_text = text_processor(loc_text)\n",
    "        start_idx = text.find(clean_loc_text, offset)\n",
    "        if start_idx != -1:\n",
    "            end_idx = start_idx + len(clean_loc_text)\n",
    "            new_locations.append((start_idx, end_idx))\n",
    "            offset = end_idx\n",
    "\n",
    "    return text, new_locations"
   ],
   "metadata": {
    "collapsed": false,
    "ExecuteTime": {
     "end_time": "2023-10-29T18:49:16.559283700Z",
     "start_time": "2023-10-29T18:49:16.514251900Z"
    }
   },
   "id": "87eeba411ce5478d"
  },
  {
   "cell_type": "code",
   "execution_count": 8,
   "outputs": [],
   "source": [
    "def clean_text_and_locations(row, text_processor=preprocess_text):\n",
    "    index = 0\n",
    "    text, locations = update_locations(row, text_processor)\n",
    "    result: list[tuple[int, int]] = []\n",
    "\n",
    "    while True:\n",
    "        if index >= len(locations):\n",
    "            break\n",
    "\n",
    "        location = locations[index]\n",
    "        location_text = text[location[0]:location[1]]\n",
    "        try:\n",
    "            if location_text.startswith('-'):\n",
    "                if len(location_text) > 1:\n",
    "                    result[-1] = (result[-1][0], location[1])\n",
    "                else:\n",
    "                    result[-1] = (result[-1][0], locations[index + 1][1])\n",
    "                    index += 1\n",
    "            elif location_text.endswith(('.', '. ', '—', '— ')):\n",
    "                if location_text != '.' and location_text != 'вул.':\n",
    "                    new_end = location_text.rfind('.')\n",
    "                    new_end = len(location_text[:new_end].strip())\n",
    "                    result.append((location[0], location[0] + new_end))\n",
    "            elif ' і ' in location_text:\n",
    "                loc1, loc2 = location_text.split(' і ')\n",
    "                result.extend(\n",
    "                    [\n",
    "                        (location[0], location[0] + len(loc1)),\n",
    "                        (location[1] - len(loc2), location[1])\n",
    "                    ]\n",
    "                )\n",
    "            else:\n",
    "                result.append(location)\n",
    "        except Exception:\n",
    "            pass\n",
    "\n",
    "        index += 1\n",
    "    return text, result"
   ],
   "metadata": {
    "collapsed": false,
    "ExecuteTime": {
     "end_time": "2023-10-29T18:49:16.559283700Z",
     "start_time": "2023-10-29T18:49:16.521281500Z"
    }
   },
   "id": "c8d32ef81235d6b1"
  },
  {
   "cell_type": "markdown",
   "source": [
    "# Preprocess \n",
    "## UA dataset\n",
    "\n",
    "Loading data"
   ],
   "metadata": {
    "collapsed": false
   },
   "id": "e97c9e92ae6bf0ee"
  },
  {
   "cell_type": "code",
   "execution_count": 9,
   "outputs": [
    {
     "data": {
      "text/plain": "(1010000, 5)"
     },
     "execution_count": 9,
     "metadata": {},
     "output_type": "execute_result"
    }
   ],
   "source": [
    "uk_geo_dataset = pd.read_csv('Data/uk_geo_dataset.csv', converters={\"loc_markers\": eval})\n",
    "uk_geo_dataset.shape"
   ],
   "metadata": {
    "collapsed": false,
    "ExecuteTime": {
     "end_time": "2023-10-29T18:49:24.496208500Z",
     "start_time": "2023-10-29T18:49:16.525246100Z"
    }
   },
   "id": "427ef973789a4f47"
  },
  {
   "cell_type": "markdown",
   "source": [
    "Removing unused columns"
   ],
   "metadata": {
    "collapsed": false
   },
   "id": "3c9acbc3b0fbe439"
  },
  {
   "cell_type": "code",
   "execution_count": 10,
   "outputs": [],
   "source": [
    "uk_geo_dataset = uk_geo_dataset.drop(columns=['org_markers', 'per_markers'])"
   ],
   "metadata": {
    "collapsed": false,
    "ExecuteTime": {
     "end_time": "2023-10-29T18:49:24.555922900Z",
     "start_time": "2023-10-29T18:49:24.495208600Z"
    }
   },
   "id": "fec74dc3d15f02c5"
  },
  {
   "cell_type": "markdown",
   "source": [
    "Use functions above to clean text and locations"
   ],
   "metadata": {
    "collapsed": false
   },
   "id": "e1a263f57473b5b"
  },
  {
   "cell_type": "code",
   "execution_count": 11,
   "outputs": [
    {
     "data": {
      "text/plain": "(1010000, 2)"
     },
     "execution_count": 11,
     "metadata": {},
     "output_type": "execute_result"
    }
   ],
   "source": [
    "cleaned_uk = uk_geo_dataset[['text', 'loc_markers']].apply(clean_text_and_locations, axis=1)\n",
    "cleaned_uk = list(zip(*cleaned_uk))\n",
    "cleaned_uk = pd.DataFrame({'clean_text': cleaned_uk[0], 'clean_loc_markers': cleaned_uk[1]})\n",
    "cleaned_uk.shape"
   ],
   "metadata": {
    "collapsed": false,
    "ExecuteTime": {
     "end_time": "2023-10-29T18:50:06.410742900Z",
     "start_time": "2023-10-29T18:49:24.542408500Z"
    }
   },
   "id": "d9baced723d3525"
  },
  {
   "cell_type": "code",
   "execution_count": 12,
   "outputs": [
    {
     "data": {
      "text/plain": "                                                text loc_markers  is_valid  \\\n0  Чим довше мають скачки тиску гіпертензією, тим...          []         0   \n1  А поки що починали цвісти троянди, випускники ...          []         0   \n2  Крім того, в 2020 р. багато експертів прогнозу...          []         0   \n3  Сильно сумніваюся, що ви зупините свій вибір н...          []         0   \n4  Цей унікальний правовий важіль утворено 1998 р...          []         0   \n\n                                          clean_text clean_loc_markers  \n0  Чим довше мають скачки тиску гіпертензією тим ...                []  \n1  А поки що починали цвісти троянди випускники с...                []  \n2  Крім того в 2020 р багато експертів прогнозуют...                []  \n3  Сильно сумніваюся що ви зупините свій вибір на...                []  \n4  Цей унікальний правовий важіль утворено 1998 р...                []  ",
      "text/html": "<div>\n<style scoped>\n    .dataframe tbody tr th:only-of-type {\n        vertical-align: middle;\n    }\n\n    .dataframe tbody tr th {\n        vertical-align: top;\n    }\n\n    .dataframe thead th {\n        text-align: right;\n    }\n</style>\n<table border=\"1\" class=\"dataframe\">\n  <thead>\n    <tr style=\"text-align: right;\">\n      <th></th>\n      <th>text</th>\n      <th>loc_markers</th>\n      <th>is_valid</th>\n      <th>clean_text</th>\n      <th>clean_loc_markers</th>\n    </tr>\n  </thead>\n  <tbody>\n    <tr>\n      <th>0</th>\n      <td>Чим довше мають скачки тиску гіпертензією, тим...</td>\n      <td>[]</td>\n      <td>0</td>\n      <td>Чим довше мають скачки тиску гіпертензією тим ...</td>\n      <td>[]</td>\n    </tr>\n    <tr>\n      <th>1</th>\n      <td>А поки що починали цвісти троянди, випускники ...</td>\n      <td>[]</td>\n      <td>0</td>\n      <td>А поки що починали цвісти троянди випускники с...</td>\n      <td>[]</td>\n    </tr>\n    <tr>\n      <th>2</th>\n      <td>Крім того, в 2020 р. багато експертів прогнозу...</td>\n      <td>[]</td>\n      <td>0</td>\n      <td>Крім того в 2020 р багато експертів прогнозуют...</td>\n      <td>[]</td>\n    </tr>\n    <tr>\n      <th>3</th>\n      <td>Сильно сумніваюся, що ви зупините свій вибір н...</td>\n      <td>[]</td>\n      <td>0</td>\n      <td>Сильно сумніваюся що ви зупините свій вибір на...</td>\n      <td>[]</td>\n    </tr>\n    <tr>\n      <th>4</th>\n      <td>Цей унікальний правовий важіль утворено 1998 р...</td>\n      <td>[]</td>\n      <td>0</td>\n      <td>Цей унікальний правовий важіль утворено 1998 р...</td>\n      <td>[]</td>\n    </tr>\n  </tbody>\n</table>\n</div>"
     },
     "execution_count": 12,
     "metadata": {},
     "output_type": "execute_result"
    }
   ],
   "source": [
    "uk_geo_df = pd.concat([uk_geo_dataset, cleaned_uk], axis=1)\n",
    "uk_geo_df.head()"
   ],
   "metadata": {
    "collapsed": false,
    "ExecuteTime": {
     "end_time": "2023-10-29T18:50:06.471110800Z",
     "start_time": "2023-10-29T18:50:06.407736900Z"
    }
   },
   "id": "e2a300f2250a65a3"
  },
  {
   "cell_type": "markdown",
   "source": [
    "Build additional features:\n",
    "  - `language`: shows from what dataset this row\n",
    "  - `number_of_locations`: represents number of locations in this text\n",
    "  - `stratify_col`: as previous, but texts with too many locations are grouped together"
   ],
   "metadata": {
    "collapsed": false
   },
   "id": "11c1e090727e1216"
  },
  {
   "cell_type": "code",
   "execution_count": 13,
   "outputs": [
    {
     "data": {
      "text/plain": "VBox(children=(HBox(children=(IntProgress(value=0, description='0.00%', max=101000), Label(value='0 / 101000')…",
      "application/vnd.jupyter.widget-view+json": {
       "version_major": 2,
       "version_minor": 0,
       "model_id": "352cc45b5edd4e358fa21c5aaf4fef93"
      }
     },
     "metadata": {},
     "output_type": "display_data"
    },
    {
     "data": {
      "text/plain": "                                                text loc_markers  is_valid  \\\n0  Чим довше мають скачки тиску гіпертензією, тим...          []         0   \n1  А поки що починали цвісти троянди, випускники ...          []         0   \n2  Крім того, в 2020 р. багато експертів прогнозу...          []         0   \n3  Сильно сумніваюся, що ви зупините свій вибір н...          []         0   \n4  Цей унікальний правовий важіль утворено 1998 р...          []         0   \n\n                                          clean_text clean_loc_markers  \\\n0  Чим довше мають скачки тиску гіпертензією тим ...                []   \n1  А поки що починали цвісти троянди випускники с...                []   \n2  Крім того в 2020 р багато експертів прогнозуют...                []   \n3  Сильно сумніваюся що ви зупините свій вибір на...                []   \n4  Цей унікальний правовий важіль утворено 1998 р...                []   \n\n  language  number_of_locations  stratify_col  \n0       ua                    0             0  \n1       ua                    0             0  \n2       ua                    0             0  \n3       ua                    0             0  \n4       ua                    0             0  ",
      "text/html": "<div>\n<style scoped>\n    .dataframe tbody tr th:only-of-type {\n        vertical-align: middle;\n    }\n\n    .dataframe tbody tr th {\n        vertical-align: top;\n    }\n\n    .dataframe thead th {\n        text-align: right;\n    }\n</style>\n<table border=\"1\" class=\"dataframe\">\n  <thead>\n    <tr style=\"text-align: right;\">\n      <th></th>\n      <th>text</th>\n      <th>loc_markers</th>\n      <th>is_valid</th>\n      <th>clean_text</th>\n      <th>clean_loc_markers</th>\n      <th>language</th>\n      <th>number_of_locations</th>\n      <th>stratify_col</th>\n    </tr>\n  </thead>\n  <tbody>\n    <tr>\n      <th>0</th>\n      <td>Чим довше мають скачки тиску гіпертензією, тим...</td>\n      <td>[]</td>\n      <td>0</td>\n      <td>Чим довше мають скачки тиску гіпертензією тим ...</td>\n      <td>[]</td>\n      <td>ua</td>\n      <td>0</td>\n      <td>0</td>\n    </tr>\n    <tr>\n      <th>1</th>\n      <td>А поки що починали цвісти троянди, випускники ...</td>\n      <td>[]</td>\n      <td>0</td>\n      <td>А поки що починали цвісти троянди випускники с...</td>\n      <td>[]</td>\n      <td>ua</td>\n      <td>0</td>\n      <td>0</td>\n    </tr>\n    <tr>\n      <th>2</th>\n      <td>Крім того, в 2020 р. багато експертів прогнозу...</td>\n      <td>[]</td>\n      <td>0</td>\n      <td>Крім того в 2020 р багато експертів прогнозуют...</td>\n      <td>[]</td>\n      <td>ua</td>\n      <td>0</td>\n      <td>0</td>\n    </tr>\n    <tr>\n      <th>3</th>\n      <td>Сильно сумніваюся, що ви зупините свій вибір н...</td>\n      <td>[]</td>\n      <td>0</td>\n      <td>Сильно сумніваюся що ви зупините свій вибір на...</td>\n      <td>[]</td>\n      <td>ua</td>\n      <td>0</td>\n      <td>0</td>\n    </tr>\n    <tr>\n      <th>4</th>\n      <td>Цей унікальний правовий важіль утворено 1998 р...</td>\n      <td>[]</td>\n      <td>0</td>\n      <td>Цей унікальний правовий важіль утворено 1998 р...</td>\n      <td>[]</td>\n      <td>ua</td>\n      <td>0</td>\n      <td>0</td>\n    </tr>\n  </tbody>\n</table>\n</div>"
     },
     "execution_count": 13,
     "metadata": {},
     "output_type": "execute_result"
    }
   ],
   "source": [
    "uk_geo_df['language'] = 'ua'\n",
    "\n",
    "uk_geo_df[\"number_of_locations\"] = uk_geo_df[\"clean_loc_markers\"].parallel_apply(len)\n",
    "\n",
    "uk_geo_df[\"stratify_col\"] = uk_geo_df[\"number_of_locations\"]\n",
    "uk_geo_df.loc[uk_geo_df[\"number_of_locations\"] >= 14, \"stratify_col\"] = -1\n",
    "\n",
    "uk_geo_df.head()"
   ],
   "metadata": {
    "collapsed": false,
    "ExecuteTime": {
     "end_time": "2023-10-29T18:50:08.234117600Z",
     "start_time": "2023-10-29T18:50:06.468102800Z"
    }
   },
   "id": "5286eb9ab5fe9606"
  },
  {
   "cell_type": "markdown",
   "source": [
    "## RU dataset"
   ],
   "metadata": {
    "collapsed": false
   },
   "id": "4f7392e60512ee59"
  },
  {
   "cell_type": "markdown",
   "source": [
    "Loading dataset"
   ],
   "metadata": {
    "collapsed": false
   },
   "id": "73da51cd9a2959"
  },
  {
   "cell_type": "code",
   "execution_count": 14,
   "outputs": [],
   "source": [
    "ru_geo_dataset = pd.read_csv('Data/ru_geo_dataset.csv')"
   ],
   "metadata": {
    "collapsed": false,
    "ExecuteTime": {
     "end_time": "2023-10-29T18:50:31.677609200Z",
     "start_time": "2023-10-29T18:50:08.232112400Z"
    }
   },
   "id": "c67b3a1da95b47ab"
  },
  {
   "cell_type": "code",
   "execution_count": 15,
   "outputs": [
    {
     "data": {
      "text/plain": "VBox(children=(HBox(children=(IntProgress(value=0, description='0.00%', max=802884), Label(value='0 / 802884')…",
      "application/vnd.jupyter.widget-view+json": {
       "version_major": 2,
       "version_minor": 0,
       "model_id": "55d8163065cb43c49410a1859ba0863d"
      }
     },
     "metadata": {},
     "output_type": "display_data"
    }
   ],
   "source": [
    "ru_geo_dataset['loc_markers'] = ru_geo_dataset['loc_markers'].parallel_apply(eval)"
   ],
   "metadata": {
    "collapsed": false,
    "ExecuteTime": {
     "end_time": "2023-10-29T18:50:44.068186500Z",
     "start_time": "2023-10-29T18:50:31.678609900Z"
    }
   },
   "id": "84aedf8b4df36caf"
  },
  {
   "cell_type": "markdown",
   "source": [
    "Grouping it by `doc_id`"
   ],
   "metadata": {
    "collapsed": false
   },
   "id": "e9f05c0865213153"
  },
  {
   "cell_type": "code",
   "execution_count": 16,
   "outputs": [],
   "source": [
    "docs_groups = ru_geo_dataset.groupby('doc_id')"
   ],
   "metadata": {
    "collapsed": false,
    "ExecuteTime": {
     "end_time": "2023-10-29T18:50:44.073561200Z",
     "start_time": "2023-10-29T18:50:44.069867400Z"
    }
   },
   "id": "7bb060d87c399938"
  },
  {
   "cell_type": "code",
   "execution_count": 17,
   "outputs": [],
   "source": [
    "del ru_geo_dataset"
   ],
   "metadata": {
    "collapsed": false,
    "ExecuteTime": {
     "end_time": "2023-10-29T18:50:44.085145400Z",
     "start_time": "2023-10-29T18:50:44.071375300Z"
    }
   },
   "id": "a526edb70830bf66"
  },
  {
   "cell_type": "code",
   "execution_count": 18,
   "outputs": [],
   "source": [
    "def merge_groups(group, text_only=True):\n",
    "    group = group.sort_values(by=['sent_id']).reset_index(drop=True)\n",
    "    if text_only:\n",
    "        return ' '.join(group['text'])\n",
    "    else:\n",
    "        try:\n",
    "            offset = 0\n",
    "            new_locs = group.loc[0, 'loc_markers']\n",
    "            for sentence, locs in zip(group['text'].tolist()[:-1], group['loc_markers'].tolist()[1:]):\n",
    "                offset += len(sentence)\n",
    "                for loc in locs:\n",
    "                    new_locs.append((loc[0] + offset, loc[1] + offset))\n",
    "        except Exception:\n",
    "            print(group)\n",
    "        return {'text': ' '.join(group['text']), 'loc_markers': new_locs}"
   ],
   "metadata": {
    "collapsed": false,
    "ExecuteTime": {
     "end_time": "2023-10-29T18:50:44.094614900Z",
     "start_time": "2023-10-29T18:50:44.087366400Z"
    }
   },
   "id": "2133f26d38f7cf3e"
  },
  {
   "cell_type": "markdown",
   "source": [
    "Concatenate together text from one document"
   ],
   "metadata": {
    "collapsed": false
   },
   "id": "a5455aea5374365a"
  },
  {
   "cell_type": "code",
   "execution_count": 19,
   "outputs": [
    {
     "data": {
      "text/plain": "                                                     text  \\\n0       Вице-премьер по социальным вопросам Татьяна Го...   \n1       Австрийские правоохранительные органы не предс...   \n2       Сотрудники социальной сети Instagram проанализ...   \n3       С начала расследования российского вмешательст...   \n4       Хакерская группировка Anonymous опубликовала н...   \n...                                                   ...   \n739185  Сегодня областной центр Сахалина и Курил получ...   \n739186  Выступая сегодня на пресс-конференции в Москве...   \n739187  Сегодня утром в районах дагестанских селений Ч...   \n739188  Намеченная на сегодняшний день церемония вступ...   \n739189  На состоявшейся сегодня в Москве пресс-конфере...   \n\n                                              loc_markers  \n0       [(82, 88), (250, 259), (261, 269), (271, 279),...  \n1       [(0, 11), (147, 153), (156, 160), (580, 586), ...  \n2        [(256, 266), (269, 274), (388, 399), (945, 953)]  \n3       [(65, 68), (182, 185), (450, 453), (662, 665),...  \n4       [(382, 396), (505, 510), (551, 572), (636, 641...  \n...                                                   ...  \n739185  [(24, 32), (35, 40), (148, 167), (192, 207), (...  \n739186                                         [(40, 46)]  \n739187  [(45, 54), (57, 65), (228, 230), (233, 242), (...  \n739188  [(146, 152), (311, 317), (363, 381), (447, 465...  \n739189                               [(26, 32), (93, 95)]  \n\n[739190 rows x 2 columns]",
      "text/html": "<div>\n<style scoped>\n    .dataframe tbody tr th:only-of-type {\n        vertical-align: middle;\n    }\n\n    .dataframe tbody tr th {\n        vertical-align: top;\n    }\n\n    .dataframe thead th {\n        text-align: right;\n    }\n</style>\n<table border=\"1\" class=\"dataframe\">\n  <thead>\n    <tr style=\"text-align: right;\">\n      <th></th>\n      <th>text</th>\n      <th>loc_markers</th>\n    </tr>\n  </thead>\n  <tbody>\n    <tr>\n      <th>0</th>\n      <td>Вице-премьер по социальным вопросам Татьяна Го...</td>\n      <td>[(82, 88), (250, 259), (261, 269), (271, 279),...</td>\n    </tr>\n    <tr>\n      <th>1</th>\n      <td>Австрийские правоохранительные органы не предс...</td>\n      <td>[(0, 11), (147, 153), (156, 160), (580, 586), ...</td>\n    </tr>\n    <tr>\n      <th>2</th>\n      <td>Сотрудники социальной сети Instagram проанализ...</td>\n      <td>[(256, 266), (269, 274), (388, 399), (945, 953)]</td>\n    </tr>\n    <tr>\n      <th>3</th>\n      <td>С начала расследования российского вмешательст...</td>\n      <td>[(65, 68), (182, 185), (450, 453), (662, 665),...</td>\n    </tr>\n    <tr>\n      <th>4</th>\n      <td>Хакерская группировка Anonymous опубликовала н...</td>\n      <td>[(382, 396), (505, 510), (551, 572), (636, 641...</td>\n    </tr>\n    <tr>\n      <th>...</th>\n      <td>...</td>\n      <td>...</td>\n    </tr>\n    <tr>\n      <th>739185</th>\n      <td>Сегодня областной центр Сахалина и Курил получ...</td>\n      <td>[(24, 32), (35, 40), (148, 167), (192, 207), (...</td>\n    </tr>\n    <tr>\n      <th>739186</th>\n      <td>Выступая сегодня на пресс-конференции в Москве...</td>\n      <td>[(40, 46)]</td>\n    </tr>\n    <tr>\n      <th>739187</th>\n      <td>Сегодня утром в районах дагестанских селений Ч...</td>\n      <td>[(45, 54), (57, 65), (228, 230), (233, 242), (...</td>\n    </tr>\n    <tr>\n      <th>739188</th>\n      <td>Намеченная на сегодняшний день церемония вступ...</td>\n      <td>[(146, 152), (311, 317), (363, 381), (447, 465...</td>\n    </tr>\n    <tr>\n      <th>739189</th>\n      <td>На состоявшейся сегодня в Москве пресс-конфере...</td>\n      <td>[(26, 32), (93, 95)]</td>\n    </tr>\n  </tbody>\n</table>\n<p>739190 rows × 2 columns</p>\n</div>"
     },
     "execution_count": 19,
     "metadata": {},
     "output_type": "execute_result"
    }
   ],
   "source": [
    "grouped_ru_df = docs_groups.apply(merge_groups, text_only=False)\n",
    "grouped_ru_df = pd.DataFrame(\n",
    "    {\n",
    "        'text': [row['text'] for row in grouped_ru_df],\n",
    "        'loc_markers': [row['loc_markers'] for row in grouped_ru_df]\n",
    "    }\n",
    ")\n",
    "grouped_ru_df"
   ],
   "metadata": {
    "collapsed": false,
    "ExecuteTime": {
     "end_time": "2023-10-29T18:53:27.909538300Z",
     "start_time": "2023-10-29T18:50:44.091613600Z"
    }
   },
   "id": "ef605b593777e8aa"
  },
  {
   "cell_type": "markdown",
   "source": [
    "Clean result texts"
   ],
   "metadata": {
    "collapsed": false
   },
   "id": "708fa9048f2822f2"
  },
  {
   "cell_type": "code",
   "execution_count": 20,
   "outputs": [
    {
     "data": {
      "text/plain": "(739190, 2)"
     },
     "execution_count": 20,
     "metadata": {},
     "output_type": "execute_result"
    }
   ],
   "source": [
    "cleaned_group_ru = grouped_ru_df[['text', 'loc_markers']].apply(clean_text_and_locations, axis=1)\n",
    "cleaned_group_ru = list(zip(*cleaned_group_ru))\n",
    "cleaned_group_ru = pd.DataFrame({'clean_text': cleaned_group_ru[0], 'clean_loc_markers': cleaned_group_ru[1]})\n",
    "cleaned_group_ru.shape"
   ],
   "metadata": {
    "collapsed": false,
    "ExecuteTime": {
     "end_time": "2023-10-29T18:57:34.697721400Z",
     "start_time": "2023-10-29T18:53:27.906065500Z"
    }
   },
   "id": "2e134cd3e12ab5ad"
  },
  {
   "cell_type": "code",
   "execution_count": 21,
   "outputs": [
    {
     "data": {
      "text/plain": "                                                text  \\\n0  Вице-премьер по социальным вопросам Татьяна Го...   \n1  Австрийские правоохранительные органы не предс...   \n2  Сотрудники социальной сети Instagram проанализ...   \n3  С начала расследования российского вмешательст...   \n4  Хакерская группировка Anonymous опубликовала н...   \n\n                                         loc_markers  \\\n0  [(82, 88), (250, 259), (261, 269), (271, 279),...   \n1  [(0, 11), (147, 153), (156, 160), (580, 586), ...   \n2   [(256, 266), (269, 274), (388, 399), (945, 953)]   \n3  [(65, 68), (182, 185), (450, 453), (662, 665),...   \n4  [(382, 396), (505, 510), (551, 572), (636, 641...   \n\n                                          clean_text  \\\n0  Вицепремьер по социальным вопросам Татьяна Гол...   \n1  Австрийские правоохранительные органы не предс...   \n2  Сотрудники социальной сети Instagram проанализ...   \n3  С начала расследования российского вмешательст...   \n4  Хакерская группировка Anonymous опубликовала н...   \n\n                                   clean_loc_markers  \n0  [(80, 86), (245, 254), (255, 263), (264, 272),...  \n1  [(0, 11), (146, 152), (155, 159), (567, 573), ...  \n2   [(252, 262), (265, 270), (383, 394), (924, 932)]  \n3  [(65, 68), (181, 184), (443, 446), (653, 656),...  \n4  [(377, 391), (498, 503), (542, 563), (625, 630...  ",
      "text/html": "<div>\n<style scoped>\n    .dataframe tbody tr th:only-of-type {\n        vertical-align: middle;\n    }\n\n    .dataframe tbody tr th {\n        vertical-align: top;\n    }\n\n    .dataframe thead th {\n        text-align: right;\n    }\n</style>\n<table border=\"1\" class=\"dataframe\">\n  <thead>\n    <tr style=\"text-align: right;\">\n      <th></th>\n      <th>text</th>\n      <th>loc_markers</th>\n      <th>clean_text</th>\n      <th>clean_loc_markers</th>\n    </tr>\n  </thead>\n  <tbody>\n    <tr>\n      <th>0</th>\n      <td>Вице-премьер по социальным вопросам Татьяна Го...</td>\n      <td>[(82, 88), (250, 259), (261, 269), (271, 279),...</td>\n      <td>Вицепремьер по социальным вопросам Татьяна Гол...</td>\n      <td>[(80, 86), (245, 254), (255, 263), (264, 272),...</td>\n    </tr>\n    <tr>\n      <th>1</th>\n      <td>Австрийские правоохранительные органы не предс...</td>\n      <td>[(0, 11), (147, 153), (156, 160), (580, 586), ...</td>\n      <td>Австрийские правоохранительные органы не предс...</td>\n      <td>[(0, 11), (146, 152), (155, 159), (567, 573), ...</td>\n    </tr>\n    <tr>\n      <th>2</th>\n      <td>Сотрудники социальной сети Instagram проанализ...</td>\n      <td>[(256, 266), (269, 274), (388, 399), (945, 953)]</td>\n      <td>Сотрудники социальной сети Instagram проанализ...</td>\n      <td>[(252, 262), (265, 270), (383, 394), (924, 932)]</td>\n    </tr>\n    <tr>\n      <th>3</th>\n      <td>С начала расследования российского вмешательст...</td>\n      <td>[(65, 68), (182, 185), (450, 453), (662, 665),...</td>\n      <td>С начала расследования российского вмешательст...</td>\n      <td>[(65, 68), (181, 184), (443, 446), (653, 656),...</td>\n    </tr>\n    <tr>\n      <th>4</th>\n      <td>Хакерская группировка Anonymous опубликовала н...</td>\n      <td>[(382, 396), (505, 510), (551, 572), (636, 641...</td>\n      <td>Хакерская группировка Anonymous опубликовала н...</td>\n      <td>[(377, 391), (498, 503), (542, 563), (625, 630...</td>\n    </tr>\n  </tbody>\n</table>\n</div>"
     },
     "execution_count": 21,
     "metadata": {},
     "output_type": "execute_result"
    }
   ],
   "source": [
    "ru_geo_docs_df = pd.concat([grouped_ru_df, cleaned_group_ru], axis=1).reset_index(drop=True)\n",
    "ru_geo_docs_df.head()"
   ],
   "metadata": {
    "collapsed": false,
    "ExecuteTime": {
     "end_time": "2023-10-29T18:57:34.937005200Z",
     "start_time": "2023-10-29T18:57:34.694391300Z"
    }
   },
   "id": "9d4f6133c1fae67f"
  },
  {
   "cell_type": "markdown",
   "source": [
    "As above, add some extra features:\n",
    "  - `language`: shows from what dataset this row\n",
    "  - `number_of_locations`: represents number of locations in this text\n",
    "  - `stratify_col`: as previous, but texts with too many locations are grouped together"
   ],
   "metadata": {
    "collapsed": false
   },
   "id": "77920b5ae5b3c0f"
  },
  {
   "cell_type": "code",
   "execution_count": 22,
   "outputs": [
    {
     "data": {
      "text/plain": "VBox(children=(HBox(children=(IntProgress(value=0, description='0.00%', max=73919), Label(value='0 / 73919')))…",
      "application/vnd.jupyter.widget-view+json": {
       "version_major": 2,
       "version_minor": 0,
       "model_id": "f9b0fa3eed054ae5adc64fe1524c8154"
      }
     },
     "metadata": {},
     "output_type": "display_data"
    },
    {
     "data": {
      "text/plain": "                                                text  \\\n0  Вице-премьер по социальным вопросам Татьяна Го...   \n1  Австрийские правоохранительные органы не предс...   \n2  Сотрудники социальной сети Instagram проанализ...   \n3  С начала расследования российского вмешательст...   \n4  Хакерская группировка Anonymous опубликовала н...   \n\n                                         loc_markers  \\\n0  [(82, 88), (250, 259), (261, 269), (271, 279),...   \n1  [(0, 11), (147, 153), (156, 160), (580, 586), ...   \n2   [(256, 266), (269, 274), (388, 399), (945, 953)]   \n3  [(65, 68), (182, 185), (450, 453), (662, 665),...   \n4  [(382, 396), (505, 510), (551, 572), (636, 641...   \n\n                                          clean_text  \\\n0  Вицепремьер по социальным вопросам Татьяна Гол...   \n1  Австрийские правоохранительные органы не предс...   \n2  Сотрудники социальной сети Instagram проанализ...   \n3  С начала расследования российского вмешательст...   \n4  Хакерская группировка Anonymous опубликовала н...   \n\n                                   clean_loc_markers language  \\\n0  [(80, 86), (245, 254), (255, 263), (264, 272),...       ru   \n1  [(0, 11), (146, 152), (155, 159), (567, 573), ...       ru   \n2   [(252, 262), (265, 270), (383, 394), (924, 932)]       ru   \n3  [(65, 68), (181, 184), (443, 446), (653, 656),...       ru   \n4  [(377, 391), (498, 503), (542, 563), (625, 630...       ru   \n\n   number_of_locations  stratify_col  \n0                    7             7  \n1                    7             7  \n2                    4             4  \n3                   10            10  \n4                   13            13  ",
      "text/html": "<div>\n<style scoped>\n    .dataframe tbody tr th:only-of-type {\n        vertical-align: middle;\n    }\n\n    .dataframe tbody tr th {\n        vertical-align: top;\n    }\n\n    .dataframe thead th {\n        text-align: right;\n    }\n</style>\n<table border=\"1\" class=\"dataframe\">\n  <thead>\n    <tr style=\"text-align: right;\">\n      <th></th>\n      <th>text</th>\n      <th>loc_markers</th>\n      <th>clean_text</th>\n      <th>clean_loc_markers</th>\n      <th>language</th>\n      <th>number_of_locations</th>\n      <th>stratify_col</th>\n    </tr>\n  </thead>\n  <tbody>\n    <tr>\n      <th>0</th>\n      <td>Вице-премьер по социальным вопросам Татьяна Го...</td>\n      <td>[(82, 88), (250, 259), (261, 269), (271, 279),...</td>\n      <td>Вицепремьер по социальным вопросам Татьяна Гол...</td>\n      <td>[(80, 86), (245, 254), (255, 263), (264, 272),...</td>\n      <td>ru</td>\n      <td>7</td>\n      <td>7</td>\n    </tr>\n    <tr>\n      <th>1</th>\n      <td>Австрийские правоохранительные органы не предс...</td>\n      <td>[(0, 11), (147, 153), (156, 160), (580, 586), ...</td>\n      <td>Австрийские правоохранительные органы не предс...</td>\n      <td>[(0, 11), (146, 152), (155, 159), (567, 573), ...</td>\n      <td>ru</td>\n      <td>7</td>\n      <td>7</td>\n    </tr>\n    <tr>\n      <th>2</th>\n      <td>Сотрудники социальной сети Instagram проанализ...</td>\n      <td>[(256, 266), (269, 274), (388, 399), (945, 953)]</td>\n      <td>Сотрудники социальной сети Instagram проанализ...</td>\n      <td>[(252, 262), (265, 270), (383, 394), (924, 932)]</td>\n      <td>ru</td>\n      <td>4</td>\n      <td>4</td>\n    </tr>\n    <tr>\n      <th>3</th>\n      <td>С начала расследования российского вмешательст...</td>\n      <td>[(65, 68), (182, 185), (450, 453), (662, 665),...</td>\n      <td>С начала расследования российского вмешательст...</td>\n      <td>[(65, 68), (181, 184), (443, 446), (653, 656),...</td>\n      <td>ru</td>\n      <td>10</td>\n      <td>10</td>\n    </tr>\n    <tr>\n      <th>4</th>\n      <td>Хакерская группировка Anonymous опубликовала н...</td>\n      <td>[(382, 396), (505, 510), (551, 572), (636, 641...</td>\n      <td>Хакерская группировка Anonymous опубликовала н...</td>\n      <td>[(377, 391), (498, 503), (542, 563), (625, 630...</td>\n      <td>ru</td>\n      <td>13</td>\n      <td>13</td>\n    </tr>\n  </tbody>\n</table>\n</div>"
     },
     "execution_count": 22,
     "metadata": {},
     "output_type": "execute_result"
    }
   ],
   "source": [
    "ru_geo_docs_df['language'] = 'ru'\n",
    "\n",
    "ru_geo_docs_df['number_of_locations'] = ru_geo_docs_df['clean_loc_markers'].parallel_apply(len)\n",
    "\n",
    "ru_geo_docs_df[\"stratify_col\"] = ru_geo_docs_df[\"number_of_locations\"]\n",
    "ru_geo_docs_df.loc[ru_geo_docs_df[\"number_of_locations\"] >= 14, \"stratify_col\"] = -1\n",
    "\n",
    "ru_geo_docs_df.head()"
   ],
   "metadata": {
    "collapsed": false,
    "ExecuteTime": {
     "end_time": "2023-10-29T18:57:37.700832700Z",
     "start_time": "2023-10-29T18:57:34.932480800Z"
    }
   },
   "id": "ab7a1844600e57be"
  },
  {
   "cell_type": "markdown",
   "source": [
    "# Explore distributions"
   ],
   "metadata": {
    "collapsed": false
   },
   "id": "a12ab4969bf9376b"
  },
  {
   "cell_type": "markdown",
   "source": [
    "Add column with text length, because we want to explore its distributions"
   ],
   "metadata": {
    "collapsed": false
   },
   "id": "8f251b06f2306d1f"
  },
  {
   "cell_type": "code",
   "execution_count": 23,
   "outputs": [],
   "source": [
    "nlp = spacy.blank('xx')\n",
    "uk_geo_df['text_lengths'] = uk_geo_df['clean_text'].apply(lambda x: len(nlp(x)))\n",
    "ru_geo_docs_df['text_lengths'] = ru_geo_docs_df['clean_text'].apply(lambda x: len(nlp(x)))"
   ],
   "metadata": {
    "collapsed": false,
    "ExecuteTime": {
     "end_time": "2023-10-29T19:01:03.749044700Z",
     "start_time": "2023-10-29T18:57:37.698832900Z"
    }
   },
   "id": "75b1088d3f443ffc"
  },
  {
   "cell_type": "markdown",
   "source": [
    "## Test distributions"
   ],
   "metadata": {
    "collapsed": false
   },
   "id": "a5b21246a77f36ec"
  },
  {
   "cell_type": "code",
   "execution_count": 24,
   "outputs": [
    {
     "data": {
      "text/plain": "   text_id                                               text locations\n0        0  ❗️Кількість поранених зросла до трьох, – Кличк...        []\n1        1  🥤В Києві за 91,13 млн гривень починаються робо...        []\n2        2  ▪️Сьогодні вночі росіяни завдали ракетного уда...        []\n3        3  Наразі у запасах росіян найбільше балістичних ...        []\n4        4  ⛸В один день, 29 серпня, ДП \"Центральна учбово...        []",
      "text/html": "<div>\n<style scoped>\n    .dataframe tbody tr th:only-of-type {\n        vertical-align: middle;\n    }\n\n    .dataframe tbody tr th {\n        vertical-align: top;\n    }\n\n    .dataframe thead th {\n        text-align: right;\n    }\n</style>\n<table border=\"1\" class=\"dataframe\">\n  <thead>\n    <tr style=\"text-align: right;\">\n      <th></th>\n      <th>text_id</th>\n      <th>text</th>\n      <th>locations</th>\n    </tr>\n  </thead>\n  <tbody>\n    <tr>\n      <th>0</th>\n      <td>0</td>\n      <td>❗️Кількість поранених зросла до трьох, – Кличк...</td>\n      <td>[]</td>\n    </tr>\n    <tr>\n      <th>1</th>\n      <td>1</td>\n      <td>🥤В Києві за 91,13 млн гривень починаються робо...</td>\n      <td>[]</td>\n    </tr>\n    <tr>\n      <th>2</th>\n      <td>2</td>\n      <td>▪️Сьогодні вночі росіяни завдали ракетного уда...</td>\n      <td>[]</td>\n    </tr>\n    <tr>\n      <th>3</th>\n      <td>3</td>\n      <td>Наразі у запасах росіян найбільше балістичних ...</td>\n      <td>[]</td>\n    </tr>\n    <tr>\n      <th>4</th>\n      <td>4</td>\n      <td>⛸В один день, 29 серпня, ДП \"Центральна учбово...</td>\n      <td>[]</td>\n    </tr>\n  </tbody>\n</table>\n</div>"
     },
     "execution_count": 24,
     "metadata": {},
     "output_type": "execute_result"
    }
   ],
   "source": [
    "test_df = pd.read_csv('Data/test.csv')\n",
    "test_df.head()"
   ],
   "metadata": {
    "collapsed": false,
    "ExecuteTime": {
     "end_time": "2023-10-29T19:01:03.769639800Z",
     "start_time": "2023-10-29T19:01:03.751047200Z"
    }
   },
   "id": "51af5a87537b5a6a"
  },
  {
   "cell_type": "code",
   "execution_count": 25,
   "outputs": [],
   "source": [
    "test_df['clean_text'] = test_df['text'].apply(preprocess_text)\n",
    "test_df['text_lengths'] = test_df['clean_text'].apply(lambda x: len(nlp(x)))"
   ],
   "metadata": {
    "collapsed": false,
    "ExecuteTime": {
     "end_time": "2023-10-29T19:01:03.869287200Z",
     "start_time": "2023-10-29T19:01:03.765127400Z"
    }
   },
   "id": "7aeccc59bda830a1"
  },
  {
   "cell_type": "markdown",
   "source": [
    "Build text distribution in test data"
   ],
   "metadata": {
    "collapsed": false
   },
   "id": "b18610201d101190"
  },
  {
   "cell_type": "code",
   "execution_count": 26,
   "outputs": [
    {
     "data": {
      "text/plain": "<Axes: xlabel='text_lengths', ylabel='Probability'>"
     },
     "execution_count": 26,
     "metadata": {},
     "output_type": "execute_result"
    },
    {
     "data": {
      "text/plain": "<Figure size 640x480 with 1 Axes>",
      "image/png": "[encoded data removed]"
     },
     "metadata": {},
     "output_type": "display_data"
    }
   ],
   "source": [
    "sns.histplot(test_df, x='text_lengths', bins=40, stat='probability')"
   ],
   "metadata": {
    "collapsed": false,
    "ExecuteTime": {
     "end_time": "2023-10-29T19:01:04.086154500Z",
     "start_time": "2023-10-29T19:01:03.865632900Z"
    }
   },
   "id": "de8271d644860434"
  },
  {
   "cell_type": "markdown",
   "source": [
    "## UA texts"
   ],
   "metadata": {
    "collapsed": false
   },
   "id": "3196f0261a72bce9"
  },
  {
   "cell_type": "code",
   "execution_count": 27,
   "outputs": [
    {
     "data": {
      "text/plain": "<Axes: xlabel='text_lengths', ylabel='Count'>"
     },
     "execution_count": 27,
     "metadata": {},
     "output_type": "execute_result"
    },
    {
     "data": {
      "text/plain": "<Figure size 1000x500 with 2 Axes>",
      "image/png": "[encoded data removed]"
     },
     "metadata": {},
     "output_type": "display_data"
    }
   ],
   "source": [
    "fig, axes = plt.subplots(1, 2, figsize=(10, 5))\n",
    "sns.histplot(uk_geo_df[uk_geo_df['is_valid'] == 0], x='text_lengths', ax=axes[0])\n",
    "sns.histplot(uk_geo_df[uk_geo_df['is_valid'] == 1], x='text_lengths', ax=axes[1])"
   ],
   "metadata": {
    "collapsed": false,
    "ExecuteTime": {
     "end_time": "2023-10-29T19:01:05.161571300Z",
     "start_time": "2023-10-29T19:01:04.084155500Z"
    }
   },
   "id": "ec667fbc5b2ad57e"
  },
  {
   "cell_type": "markdown",
   "source": [
    "As we see above, train and validation texts have same length distribution. But when we compare this to the distribution of the test set, we can observe that the maximum text length of UA texts is 40. In contrast, within the test data, there are texts with lengths exceeding 500.\n",
    "\n",
    "Below we can see that `stratify_col` has same distribution in train and validation sets"
   ],
   "metadata": {
    "collapsed": false
   },
   "id": "d6d1b13a30c43b90"
  },
  {
   "cell_type": "code",
   "execution_count": 28,
   "outputs": [
    {
     "data": {
      "text/plain": "<Axes: xlabel='stratify_col', ylabel='Count'>"
     },
     "execution_count": 28,
     "metadata": {},
     "output_type": "execute_result"
    },
    {
     "data": {
      "text/plain": "<Figure size 1000x500 with 2 Axes>",
      "image/png": "[encoded data removed]"
     },
     "metadata": {},
     "output_type": "display_data"
    }
   ],
   "source": [
    "fig, axes = plt.subplots(1, 2, figsize=(10, 5))\n",
    "\n",
    "mask = (uk_geo_df['number_of_locations'] > 0) & (uk_geo_df['is_valid'] == 0)\n",
    "sns.histplot(uk_geo_df[mask], x='stratify_col', ax=axes[0])\n",
    "\n",
    "mask = (uk_geo_df['number_of_locations'] > 0) & (uk_geo_df['is_valid'] == 1)\n",
    "sns.histplot(uk_geo_df[mask], x='stratify_col', ax=axes[1])"
   ],
   "metadata": {
    "collapsed": false,
    "ExecuteTime": {
     "end_time": "2023-10-29T19:01:05.824843500Z",
     "start_time": "2023-10-29T19:01:05.156999800Z"
    }
   },
   "id": "acc63e77ea77e012"
  },
  {
   "cell_type": "markdown",
   "source": [
    "## RU texts"
   ],
   "metadata": {
    "collapsed": false
   },
   "id": "b78498799c233c25"
  },
  {
   "cell_type": "markdown",
   "source": [
    "Firstly, we see that in RU dataset there are some too long texts, even longer than test one. Obviously they are outsiders. Therefore, it was decided to remove them."
   ],
   "metadata": {
    "collapsed": false
   },
   "id": "a1e889265eb0a544"
  },
  {
   "cell_type": "code",
   "execution_count": 29,
   "outputs": [
    {
     "data": {
      "text/plain": "<Axes: xlabel='text_lengths', ylabel='Count'>"
     },
     "execution_count": 29,
     "metadata": {},
     "output_type": "execute_result"
    },
    {
     "data": {
      "text/plain": "<Figure size 640x480 with 1 Axes>",
      "image/png": "[encoded data removed]"
     },
     "metadata": {},
     "output_type": "display_data"
    }
   ],
   "source": [
    "sns.histplot(ru_geo_docs_df, x='text_lengths')"
   ],
   "metadata": {
    "collapsed": false,
    "ExecuteTime": {
     "end_time": "2023-10-29T19:01:08.711251900Z",
     "start_time": "2023-10-29T19:01:05.820711800Z"
    }
   },
   "id": "e02a6fb32310b256"
  },
  {
   "cell_type": "markdown",
   "source": [
    "Now, if we observe the text lengths, we can notice that they follow an almost normal distribution with a mean of approximately 160. The majority of the data falls within the range of 100 to 300. "
   ],
   "metadata": {
    "collapsed": false
   },
   "id": "f56d878040b856c2"
  },
  {
   "cell_type": "code",
   "execution_count": 30,
   "outputs": [
    {
     "data": {
      "text/plain": "<Axes: xlabel='text_lengths', ylabel='Count'>"
     },
     "execution_count": 30,
     "metadata": {},
     "output_type": "execute_result"
    },
    {
     "data": {
      "text/plain": "<Figure size 640x480 with 1 Axes>",
      "image/png": "[encoded data removed]"
     },
     "metadata": {},
     "output_type": "display_data"
    }
   ],
   "source": [
    "ru_geo_docs_df = ru_geo_docs_df[ru_geo_docs_df['text_lengths'] <= 500]\n",
    "sns.histplot(ru_geo_docs_df[ru_geo_docs_df['text_lengths'] <= 500], x='text_lengths')"
   ],
   "metadata": {
    "collapsed": false,
    "ExecuteTime": {
     "end_time": "2023-10-29T19:01:09.522824900Z",
     "start_time": "2023-10-29T19:01:08.708252600Z"
    }
   },
   "id": "43a066ea03ec317b"
  },
  {
   "cell_type": "code",
   "execution_count": 31,
   "outputs": [
    {
     "data": {
      "text/plain": "<Axes: xlabel='stratify_col', ylabel='Count'>"
     },
     "execution_count": 31,
     "metadata": {},
     "output_type": "execute_result"
    },
    {
     "data": {
      "text/plain": "<Figure size 640x480 with 1 Axes>",
      "image/png": "[encoded data removed]"
     },
     "metadata": {},
     "output_type": "display_data"
    }
   ],
   "source": [
    "mask = (ru_geo_docs_df['number_of_locations'] > 0)\n",
    "sns.histplot(ru_geo_docs_df[mask], x='stratify_col')"
   ],
   "metadata": {
    "collapsed": false,
    "ExecuteTime": {
     "end_time": "2023-10-29T19:01:09.952685200Z",
     "start_time": "2023-10-29T19:01:09.519823600Z"
    }
   },
   "id": "f51c19a6404c2608"
  },
  {
   "cell_type": "markdown",
   "source": [
    "## Merged UA and RU"
   ],
   "metadata": {
    "collapsed": false
   },
   "id": "c6ba2b454449a2d1"
  },
  {
   "cell_type": "code",
   "execution_count": 32,
   "outputs": [
    {
     "data": {
      "text/plain": "                                                text loc_markers  is_valid  \\\n0  Чим довше мають скачки тиску гіпертензією, тим...          []       0.0   \n1  А поки що починали цвісти троянди, випускники ...          []       0.0   \n2  Крім того, в 2020 р. багато експертів прогнозу...          []       0.0   \n3  Сильно сумніваюся, що ви зупините свій вибір н...          []       0.0   \n4  Цей унікальний правовий важіль утворено 1998 р...          []       0.0   \n\n                                          clean_text clean_loc_markers  \\\n0  Чим довше мають скачки тиску гіпертензією тим ...                []   \n1  А поки що починали цвісти троянди випускники с...                []   \n2  Крім того в 2020 р багато експертів прогнозуют...                []   \n3  Сильно сумніваюся що ви зупините свій вибір на...                []   \n4  Цей унікальний правовий важіль утворено 1998 р...                []   \n\n  language  number_of_locations  stratify_col  text_lengths  \n0       ua                    0             0            12  \n1       ua                    0             0            24  \n2       ua                    0             0            21  \n3       ua                    0             0            10  \n4       ua                    0             0             9  ",
      "text/html": "<div>\n<style scoped>\n    .dataframe tbody tr th:only-of-type {\n        vertical-align: middle;\n    }\n\n    .dataframe tbody tr th {\n        vertical-align: top;\n    }\n\n    .dataframe thead th {\n        text-align: right;\n    }\n</style>\n<table border=\"1\" class=\"dataframe\">\n  <thead>\n    <tr style=\"text-align: right;\">\n      <th></th>\n      <th>text</th>\n      <th>loc_markers</th>\n      <th>is_valid</th>\n      <th>clean_text</th>\n      <th>clean_loc_markers</th>\n      <th>language</th>\n      <th>number_of_locations</th>\n      <th>stratify_col</th>\n      <th>text_lengths</th>\n    </tr>\n  </thead>\n  <tbody>\n    <tr>\n      <th>0</th>\n      <td>Чим довше мають скачки тиску гіпертензією, тим...</td>\n      <td>[]</td>\n      <td>0.0</td>\n      <td>Чим довше мають скачки тиску гіпертензією тим ...</td>\n      <td>[]</td>\n      <td>ua</td>\n      <td>0</td>\n      <td>0</td>\n      <td>12</td>\n    </tr>\n    <tr>\n      <th>1</th>\n      <td>А поки що починали цвісти троянди, випускники ...</td>\n      <td>[]</td>\n      <td>0.0</td>\n      <td>А поки що починали цвісти троянди випускники с...</td>\n      <td>[]</td>\n      <td>ua</td>\n      <td>0</td>\n      <td>0</td>\n      <td>24</td>\n    </tr>\n    <tr>\n      <th>2</th>\n      <td>Крім того, в 2020 р. багато експертів прогнозу...</td>\n      <td>[]</td>\n      <td>0.0</td>\n      <td>Крім того в 2020 р багато експертів прогнозуют...</td>\n      <td>[]</td>\n      <td>ua</td>\n      <td>0</td>\n      <td>0</td>\n      <td>21</td>\n    </tr>\n    <tr>\n      <th>3</th>\n      <td>Сильно сумніваюся, що ви зупините свій вибір н...</td>\n      <td>[]</td>\n      <td>0.0</td>\n      <td>Сильно сумніваюся що ви зупините свій вибір на...</td>\n      <td>[]</td>\n      <td>ua</td>\n      <td>0</td>\n      <td>0</td>\n      <td>10</td>\n    </tr>\n    <tr>\n      <th>4</th>\n      <td>Цей унікальний правовий важіль утворено 1998 р...</td>\n      <td>[]</td>\n      <td>0.0</td>\n      <td>Цей унікальний правовий важіль утворено 1998 р...</td>\n      <td>[]</td>\n      <td>ua</td>\n      <td>0</td>\n      <td>0</td>\n      <td>9</td>\n    </tr>\n  </tbody>\n</table>\n</div>"
     },
     "execution_count": 32,
     "metadata": {},
     "output_type": "execute_result"
    }
   ],
   "source": [
    "df = pd.concat([uk_geo_df, ru_geo_docs_df])\n",
    "df.head()"
   ],
   "metadata": {
    "collapsed": false,
    "ExecuteTime": {
     "end_time": "2023-10-29T19:01:10.061506400Z",
     "start_time": "2023-10-29T19:01:09.949603Z"
    }
   },
   "id": "ff3db9e34ec6a4a9"
  },
  {
   "cell_type": "code",
   "execution_count": 33,
   "outputs": [
    {
     "data": {
      "text/plain": "<Axes: xlabel='text_lengths', ylabel='Count'>"
     },
     "execution_count": 33,
     "metadata": {},
     "output_type": "execute_result"
    },
    {
     "data": {
      "text/plain": "<Figure size 640x480 with 1 Axes>",
      "image/png": "[encoded data removed]"
     },
     "metadata": {},
     "output_type": "display_data"
    }
   ],
   "source": [
    "sns.histplot(df, x='text_lengths')"
   ],
   "metadata": {
    "collapsed": false,
    "ExecuteTime": {
     "end_time": "2023-10-29T19:01:10.653965Z",
     "start_time": "2023-10-29T19:01:10.058506200Z"
    }
   },
   "id": "f6c29aa88217d019"
  },
  {
   "cell_type": "markdown",
   "source": [
    "By comparing this to the UA, RU dataset and the test dataset, we can make an assumption that in the test dataset, texts with a length less than 40 are likely to be Ukrainian, while texts with a length greater than 40 are likely to be Russian."
   ],
   "metadata": {
    "collapsed": false
   },
   "id": "3760a72ebb226d87"
  },
  {
   "cell_type": "code",
   "execution_count": 34,
   "outputs": [
    {
     "data": {
      "text/plain": "<Axes: xlabel='stratify_col', ylabel='Count'>"
     },
     "execution_count": 34,
     "metadata": {},
     "output_type": "execute_result"
    },
    {
     "data": {
      "text/plain": "<Figure size 640x480 with 1 Axes>",
      "image/png": "[encoded data removed]"
     },
     "metadata": {},
     "output_type": "display_data"
    }
   ],
   "source": [
    "sns.histplot(df, x='stratify_col')"
   ],
   "metadata": {
    "collapsed": false,
    "ExecuteTime": {
     "end_time": "2023-10-29T19:01:11.461576200Z",
     "start_time": "2023-10-29T19:01:10.649965800Z"
    }
   },
   "id": "62678160ed8cacfb"
  },
  {
   "cell_type": "markdown",
   "source": [
    "# Build labeling"
   ],
   "metadata": {
    "collapsed": false
   },
   "id": "11747e0216c20fac"
  },
  {
   "cell_type": "markdown",
   "source": [
    "The below code is copied from lecture. This code make labels and tokenized text."
   ],
   "metadata": {
    "collapsed": false
   },
   "id": "4d86c5e45a91c775"
  },
  {
   "cell_type": "code",
   "execution_count": 35,
   "outputs": [],
   "source": [
    "text_col = 'clean_text'\n",
    "loc_col = 'clean_loc_markers'"
   ],
   "metadata": {
    "collapsed": false,
    "ExecuteTime": {
     "end_time": "2023-10-29T19:01:11.461576200Z",
     "start_time": "2023-10-29T19:01:11.459405100Z"
    }
   },
   "id": "7b79c23663cdd441"
  },
  {
   "cell_type": "code",
   "execution_count": 36,
   "outputs": [
    {
     "data": {
      "text/plain": "VBox(children=(HBox(children=(IntProgress(value=0, description='0.00%', max=174744), Label(value='0 / 174744')…",
      "application/vnd.jupyter.widget-view+json": {
       "version_major": 2,
       "version_minor": 0,
       "model_id": "e75515cba7c34d78a4ed016c9bf36a89"
      }
     },
     "metadata": {},
     "output_type": "display_data"
    }
   ],
   "source": [
    "df[loc_col+'_'] = df[loc_col].parallel_apply(lambda x: [[y[0], y[1], 'LOC'] for y in x])"
   ],
   "metadata": {
    "collapsed": false,
    "ExecuteTime": {
     "end_time": "2023-10-29T19:01:18.902979300Z",
     "start_time": "2023-10-29T19:01:11.463622100Z"
    }
   },
   "id": "47eec1355e0d354e"
  },
  {
   "cell_type": "code",
   "execution_count": 37,
   "outputs": [],
   "source": [
    "def convert_to_conll(row):\n",
    "    data = {\n",
    "        \"text\": row[text_col],\n",
    "        \"label\": row[loc_col + '_']\n",
    "    }\n",
    "    doc = nlp(data[\"text\"])\n",
    "    ents = []\n",
    "    for start, end, label in data[\"label\"]:\n",
    "        span = doc.char_span(start, end, label=label)\n",
    "        if span is not None:\n",
    "            ents.append(span)\n",
    "        else:\n",
    "            pass\n",
    "\n",
    "    doc.ents = ents\n",
    "    return {\n",
    "        'tokens': list([t.text for t in doc]),\n",
    "        'labels': list(biluo_to_iob(doc_to_biluo_tags(doc)))\n",
    "    }"
   ],
   "metadata": {
    "collapsed": false,
    "ExecuteTime": {
     "end_time": "2023-10-29T19:01:18.914135300Z",
     "start_time": "2023-10-29T19:01:18.905492700Z"
    }
   },
   "id": "9f108583863909d9"
  },
  {
   "cell_type": "markdown",
   "source": [
    "Personally, I cannot figure out how to deal with skipping spans. I have noticed that most of them are in Russian text, but there are too many different types of poorly labeled data for me to imagine how to work with them. My only option is to skip or relabel them."
   ],
   "metadata": {
    "collapsed": false
   },
   "id": "8216f4f42cbae843"
  },
  {
   "cell_type": "code",
   "execution_count": 38,
   "outputs": [
    {
     "name": "stderr",
     "output_type": "stream",
     "text": [
      "100%|██████████| 1747433/1747433 [07:58<00:00, 3654.50it/s] \n"
     ]
    }
   ],
   "source": [
    "df['conll'] = df.progress_apply(convert_to_conll, axis=1)"
   ],
   "metadata": {
    "collapsed": false,
    "ExecuteTime": {
     "end_time": "2023-10-29T19:09:17.310405600Z",
     "start_time": "2023-10-29T19:01:18.911631400Z"
    }
   },
   "id": "8a32094392de96e8"
  },
  {
   "cell_type": "code",
   "execution_count": 39,
   "outputs": [
    {
     "data": {
      "text/plain": "0.0"
     },
     "execution_count": 39,
     "metadata": {},
     "output_type": "execute_result"
    }
   ],
   "source": [
    "df['conll'].isna().mean()"
   ],
   "metadata": {
    "collapsed": false,
    "ExecuteTime": {
     "end_time": "2023-10-29T19:09:18.007382900Z",
     "start_time": "2023-10-29T19:09:17.544674900Z"
    }
   },
   "id": "245a69fc2d4cdb63"
  },
  {
   "cell_type": "code",
   "execution_count": 40,
   "outputs": [],
   "source": [
    "label2id = {'O': 0, 'B-LOC': 1, 'I-LOC': 2}\n",
    "\n",
    "df['tokens'] = df.conll.str['tokens']\n",
    "df['ner_tags'] = df.conll.str['labels'].apply(lambda x: [label2id[t] for t in x])"
   ],
   "metadata": {
    "collapsed": false,
    "ExecuteTime": {
     "end_time": "2023-10-29T19:09:30.055499300Z",
     "start_time": "2023-10-29T19:09:17.608608600Z"
    }
   },
   "id": "13ebc3fbb5425acf"
  },
  {
   "cell_type": "markdown",
   "source": [
    "# Make validation\n",
    "\n",
    "Below, are presented two types of splitting merged dataset on train/validation sets.\n",
    "First one takes all validation data from UA dataset (marked as 'is_valid' == 1) and add some rows from RU dataset to make final validation dataset has the same or almost same text lengths distributions as in test data.\n",
    "Second type make final validation dataset has the same text lengths distributions as in test data even if we drop some samples from UA validation data ('is_valid' == 1)."
   ],
   "metadata": {
    "collapsed": false
   },
   "id": "a13823ce5b103300"
  },
  {
   "cell_type": "markdown",
   "source": [
    "## First type"
   ],
   "metadata": {
    "collapsed": false
   },
   "id": "230e3bb457f7e746"
  },
  {
   "cell_type": "code",
   "execution_count": 41,
   "outputs": [],
   "source": [
    "def balance_dfs_added(df1, df2, df3, column_name):\n",
    "    # Calculate the target distribution from df3\n",
    "    target_distribution = df3[column_name].value_counts(normalize=True)\n",
    "\n",
    "    # Initialize an empty dataframe to store the new rows\n",
    "    new_rows = pd.DataFrame(columns=['text', column_name])\n",
    "\n",
    "    # For each unique text_length in df1\n",
    "    for length in df1[column_name].unique():\n",
    "        # If this text_length exists in the target distribution\n",
    "        if length in target_distribution.index:\n",
    "            # Calculate how many rows we need to add to match the target distribution\n",
    "            num_rows_to_add = int(target_distribution[length] * len(df2) - df2[df2[column_name] == length].shape[0])\n",
    "\n",
    "            # If we need to add rows\n",
    "            if num_rows_to_add > 0:\n",
    "                # Get all rows from df1 with this text_length\n",
    "                available_rows = df1[df1[column_name] == length]\n",
    "\n",
    "                # Randomly sample the required number of rows\n",
    "                sampled_rows = available_rows.sample(n=num_rows_to_add, replace=True)\n",
    "\n",
    "                # Add the sampled rows to our new_rows dataframe\n",
    "                new_rows = pd.concat([new_rows, sampled_rows])\n",
    "\n",
    "    # Add the new rows to df2 and return the result\n",
    "    return pd.concat([df2, new_rows])"
   ],
   "metadata": {
    "collapsed": false,
    "ExecuteTime": {
     "end_time": "2023-10-29T19:09:30.072279200Z",
     "start_time": "2023-10-29T19:09:30.056499500Z"
    }
   },
   "id": "747ba7f6f2e4ad34"
  },
  {
   "cell_type": "code",
   "execution_count": 42,
   "outputs": [],
   "source": [
    "valid_sample = balance_dfs_added(df[df['language'] == 'ru'], df[df['is_valid'] == 1], test_df, 'text_lengths')"
   ],
   "metadata": {
    "collapsed": false,
    "ExecuteTime": {
     "end_time": "2023-10-29T19:09:31.126733100Z",
     "start_time": "2023-10-29T19:09:30.076276900Z"
    }
   },
   "id": "3db718a4538e0d10"
  },
  {
   "cell_type": "code",
   "execution_count": 43,
   "outputs": [
    {
     "data": {
      "text/plain": "<Axes: xlabel='text_lengths', ylabel='Probability'>"
     },
     "execution_count": 43,
     "metadata": {},
     "output_type": "execute_result"
    },
    {
     "data": {
      "text/plain": "<Figure size 640x480 with 1 Axes>",
      "image/png": "[encoded data removed]"
     },
     "metadata": {},
     "output_type": "display_data"
    }
   ],
   "source": [
    "sns.histplot(valid_sample, x='text_lengths', bins=40, hue='language', stat='probability', multiple='stack')"
   ],
   "metadata": {
    "collapsed": false,
    "ExecuteTime": {
     "end_time": "2023-10-29T19:09:31.494293600Z",
     "start_time": "2023-10-29T19:09:31.126733100Z"
    }
   },
   "id": "c6642edc23634606"
  },
  {
   "cell_type": "code",
   "execution_count": 44,
   "outputs": [
    {
     "data": {
      "text/plain": "is_valid\n1.0    10000\nName: count, dtype: int64"
     },
     "execution_count": 44,
     "metadata": {},
     "output_type": "execute_result"
    }
   ],
   "source": [
    "valid_sample[valid_sample['language'] == 'ua']['is_valid'].value_counts()"
   ],
   "metadata": {
    "collapsed": false,
    "ExecuteTime": {
     "end_time": "2023-10-29T19:09:31.513391900Z",
     "start_time": "2023-10-29T19:09:31.494293600Z"
    }
   },
   "id": "7051ddcfd248045f"
  },
  {
   "cell_type": "code",
   "execution_count": 45,
   "outputs": [
    {
     "data": {
      "text/plain": "0.009172883881671"
     },
     "execution_count": 45,
     "metadata": {},
     "output_type": "execute_result"
    }
   ],
   "source": [
    "valid_sample.shape[0] / df.shape[0]"
   ],
   "metadata": {
    "collapsed": false,
    "ExecuteTime": {
     "end_time": "2023-10-29T19:09:31.514899200Z",
     "start_time": "2023-10-29T19:09:31.505593900Z"
    }
   },
   "id": "852b7ae92123988a"
  },
  {
   "cell_type": "markdown",
   "source": [
    "## Second Type"
   ],
   "metadata": {
    "collapsed": false
   },
   "id": "6ea29f6c88b063e3"
  },
  {
   "cell_type": "code",
   "execution_count": 46,
   "outputs": [],
   "source": [
    "def balance_dfs_exact(df1, df2, df3, column_name):\n",
    "    # Calculate the target distribution from df3\n",
    "    target_distribution = df3[column_name].value_counts(normalize=True)\n",
    "\n",
    "    dist_df2 = df2[column_name].value_counts()\n",
    "\n",
    "    # Initialize an empty dataframe to store the new rows\n",
    "    new_rows = pd.DataFrame(columns=['text', column_name])\n",
    "\n",
    "    # For each unique text_length in df1\n",
    "    for length in df1[column_name].unique():\n",
    "        # If this text_length exists in the target distribution\n",
    "        if length in target_distribution.index:\n",
    "            # Calculate how many rows we need to add to match the target distribution\n",
    "            num_rows_to_add = int(target_distribution[length] * len(df2))\n",
    "            if length in dist_df2.index:\n",
    "                if dist_df2[length] >= num_rows_to_add:\n",
    "                    available_rows = df2[df2[column_name] == length]\n",
    "                    sampled_rows = available_rows.sample(n=num_rows_to_add, replace=True)\n",
    "                else:\n",
    "                    available_rows1 = df2[df2[column_name] == length]\n",
    "                    available_rows2 = df1[df1[column_name] == length]\n",
    "                    sampled_rows = available_rows2.sample(n=num_rows_to_add - dist_df2[length], replace=True)\n",
    "                    sampled_rows = pd.concat([available_rows1, sampled_rows])\n",
    "            else:\n",
    "                available_rows = df1[df1[column_name] == length]\n",
    "                sampled_rows = available_rows.sample(n=num_rows_to_add, replace=True)\n",
    "            new_rows = pd.concat([new_rows, sampled_rows])\n",
    "\n",
    "    # Add the new rows to df2 and return the result\n",
    "    return new_rows"
   ],
   "metadata": {
    "collapsed": false,
    "ExecuteTime": {
     "end_time": "2023-10-29T19:09:31.522405600Z",
     "start_time": "2023-10-29T19:09:31.508260400Z"
    }
   },
   "id": "66cf5a2efd3ba4c5"
  },
  {
   "cell_type": "code",
   "execution_count": 47,
   "outputs": [],
   "source": [
    "valid_sample = balance_dfs_exact(df[df['language'] == 'ru'], df[df['is_valid'] == 1], test_df, 'text_lengths')"
   ],
   "metadata": {
    "collapsed": false,
    "ExecuteTime": {
     "end_time": "2023-10-29T19:09:32.265358400Z",
     "start_time": "2023-10-29T19:09:31.515899800Z"
    }
   },
   "id": "4bbb179ef355785a"
  },
  {
   "cell_type": "code",
   "execution_count": 48,
   "outputs": [
    {
     "data": {
      "text/plain": "<Axes: xlabel='text_lengths', ylabel='Probability'>"
     },
     "execution_count": 48,
     "metadata": {},
     "output_type": "execute_result"
    },
    {
     "data": {
      "text/plain": "<Figure size 640x480 with 1 Axes>",
      "image/png": "[encoded data removed]"
     },
     "metadata": {},
     "output_type": "display_data"
    }
   ],
   "source": [
    "sns.histplot(valid_sample, x='text_lengths', bins=40, hue='language', stat='probability', multiple='stack')"
   ],
   "metadata": {
    "collapsed": false,
    "ExecuteTime": {
     "end_time": "2023-10-29T19:09:32.514801300Z",
     "start_time": "2023-10-29T19:09:32.267877200Z"
    }
   },
   "id": "e0ecec2956988206"
  },
  {
   "cell_type": "code",
   "execution_count": 49,
   "outputs": [
    {
     "data": {
      "text/plain": "is_valid\n1.0    3845\nName: count, dtype: int64"
     },
     "execution_count": 49,
     "metadata": {},
     "output_type": "execute_result"
    }
   ],
   "source": [
    "valid_sample[valid_sample['language'] == 'ua']['is_valid'].value_counts()"
   ],
   "metadata": {
    "collapsed": false,
    "ExecuteTime": {
     "end_time": "2023-10-29T19:09:32.528751800Z",
     "start_time": "2023-10-29T19:09:32.512801100Z"
    }
   },
   "id": "c53df621c8a14a97"
  },
  {
   "cell_type": "code",
   "execution_count": 50,
   "outputs": [
    {
     "data": {
      "text/plain": "0.0056505742995582664"
     },
     "execution_count": 50,
     "metadata": {},
     "output_type": "execute_result"
    }
   ],
   "source": [
    "valid_sample.shape[0] / df.shape[0]"
   ],
   "metadata": {
    "collapsed": false,
    "ExecuteTime": {
     "end_time": "2023-10-29T19:09:32.530751200Z",
     "start_time": "2023-10-29T19:09:32.519838600Z"
    }
   },
   "id": "70848857bd2e8771"
  },
  {
   "cell_type": "markdown",
   "source": [
    "## Final splitting\n",
    "\n",
    "Finally was decided to make second type of validation dataset."
   ],
   "metadata": {
    "collapsed": false
   },
   "id": "238a26daf34d29d3"
  },
  {
   "cell_type": "code",
   "execution_count": 51,
   "outputs": [
    {
     "name": "stderr",
     "output_type": "stream",
     "text": [
      "C:\\Users\\Andrii\\AppData\\Local\\Temp\\ipykernel_29920\\3597751843.py:4: SettingWithCopyWarning: \n",
      "A value is trying to be set on a copy of a slice from a DataFrame.\n",
      "Try using .loc[row_indexer,col_indexer] = value instead\n",
      "\n",
      "See the caveats in the documentation: https://pandas.pydata.org/pandas-docs/stable/user_guide/indexing.html#returning-a-view-versus-a-copy\n",
      "  train['is_valid'] = 0\n",
      "C:\\Users\\Andrii\\AppData\\Local\\Temp\\ipykernel_29920\\3597751843.py:5: SettingWithCopyWarning: \n",
      "A value is trying to be set on a copy of a slice from a DataFrame.\n",
      "Try using .loc[row_indexer,col_indexer] = value instead\n",
      "\n",
      "See the caveats in the documentation: https://pandas.pydata.org/pandas-docs/stable/user_guide/indexing.html#returning-a-view-versus-a-copy\n",
      "  valid['is_valid'] = 1\n"
     ]
    }
   ],
   "source": [
    "train = df[~df.index.isin(valid_sample.index)]\n",
    "valid = df[df.index.isin(valid_sample.index)]\n",
    "\n",
    "train['is_valid'] = 0\n",
    "valid['is_valid'] = 1\n",
    "\n",
    "df = pd.concat([train, valid])"
   ],
   "metadata": {
    "collapsed": false,
    "ExecuteTime": {
     "end_time": "2023-10-29T19:09:33.165176200Z",
     "start_time": "2023-10-29T19:09:32.525242700Z"
    }
   },
   "id": "ab924e66dcf99a29"
  },
  {
   "cell_type": "code",
   "execution_count": 52,
   "outputs": [
    {
     "data": {
      "text/plain": "(1747433, 13)"
     },
     "execution_count": 52,
     "metadata": {},
     "output_type": "execute_result"
    }
   ],
   "source": [
    "df.shape"
   ],
   "metadata": {
    "collapsed": false,
    "ExecuteTime": {
     "end_time": "2023-10-29T19:09:33.173135900Z",
     "start_time": "2023-10-29T19:09:33.168212600Z"
    }
   },
   "id": "55df7d0a30a37a27"
  },
  {
   "cell_type": "code",
   "execution_count": 53,
   "outputs": [
    {
     "data": {
      "text/plain": "((1733496, 13), (13937, 13))"
     },
     "execution_count": 53,
     "metadata": {},
     "output_type": "execute_result"
    }
   ],
   "source": [
    "train.shape, valid.shape"
   ],
   "metadata": {
    "collapsed": false,
    "ExecuteTime": {
     "end_time": "2023-10-29T19:09:33.189456500Z",
     "start_time": "2023-10-29T19:09:33.171135700Z"
    }
   },
   "id": "43baa4e1776b1b7f"
  },
  {
   "cell_type": "markdown",
   "source": [
    "Finally, we save different sizes of datasets to have the opportunity to load different configurations while training the models."
   ],
   "metadata": {
    "collapsed": false
   },
   "id": "517cce0dacb32459"
  },
  {
   "cell_type": "code",
   "execution_count": 54,
   "outputs": [
    {
     "ename": "MemoryError",
     "evalue": "",
     "output_type": "error",
     "traceback": [
      "\u001B[1;31m---------------------------------------------------------------------------\u001B[0m",
      "\u001B[1;31mMemoryError\u001B[0m                               Traceback (most recent call last)",
      "Cell \u001B[1;32mIn[54], line 1\u001B[0m\n\u001B[1;32m----> 1\u001B[0m train[[\u001B[38;5;124m'\u001B[39m\u001B[38;5;124mtokens\u001B[39m\u001B[38;5;124m'\u001B[39m, \u001B[38;5;124m'\u001B[39m\u001B[38;5;124mner_tags\u001B[39m\u001B[38;5;124m'\u001B[39m]]\u001B[38;5;241m.\u001B[39mto_json(\n\u001B[0;32m      2\u001B[0m     \u001B[38;5;124m'\u001B[39m\u001B[38;5;124m./Data/transformers/train_processed.json\u001B[39m\u001B[38;5;124m'\u001B[39m, orient\u001B[38;5;241m=\u001B[39m\u001B[38;5;124m'\u001B[39m\u001B[38;5;124mrecords\u001B[39m\u001B[38;5;124m'\u001B[39m, lines\u001B[38;5;241m=\u001B[39m\u001B[38;5;28;01mTrue\u001B[39;00m\n\u001B[0;32m      3\u001B[0m )\n\u001B[0;32m      4\u001B[0m valid[[\u001B[38;5;124m'\u001B[39m\u001B[38;5;124mtokens\u001B[39m\u001B[38;5;124m'\u001B[39m, \u001B[38;5;124m'\u001B[39m\u001B[38;5;124mner_tags\u001B[39m\u001B[38;5;124m'\u001B[39m]]\u001B[38;5;241m.\u001B[39mto_json(\n\u001B[0;32m      5\u001B[0m     \u001B[38;5;124m'\u001B[39m\u001B[38;5;124m./Data/transformers/valid_processed.json\u001B[39m\u001B[38;5;124m'\u001B[39m, orient\u001B[38;5;241m=\u001B[39m\u001B[38;5;124m'\u001B[39m\u001B[38;5;124mrecords\u001B[39m\u001B[38;5;124m'\u001B[39m, lines\u001B[38;5;241m=\u001B[39m\u001B[38;5;28;01mTrue\u001B[39;00m\n\u001B[0;32m      6\u001B[0m )\n",
      "File \u001B[1;32m~\\anaconda3\\envs\\IASA-NLP-Homework\\Lib\\site-packages\\pandas\\core\\generic.py:2532\u001B[0m, in \u001B[0;36mNDFrame.to_json\u001B[1;34m(self, path_or_buf, orient, date_format, double_precision, force_ascii, date_unit, default_handler, lines, compression, index, indent, storage_options, mode)\u001B[0m\n\u001B[0;32m   2529\u001B[0m config\u001B[38;5;241m.\u001B[39mis_nonnegative_int(indent)\n\u001B[0;32m   2530\u001B[0m indent \u001B[38;5;241m=\u001B[39m indent \u001B[38;5;129;01mor\u001B[39;00m \u001B[38;5;241m0\u001B[39m\n\u001B[1;32m-> 2532\u001B[0m \u001B[38;5;28;01mreturn\u001B[39;00m json\u001B[38;5;241m.\u001B[39mto_json(\n\u001B[0;32m   2533\u001B[0m     path_or_buf\u001B[38;5;241m=\u001B[39mpath_or_buf,\n\u001B[0;32m   2534\u001B[0m     obj\u001B[38;5;241m=\u001B[39m\u001B[38;5;28mself\u001B[39m,\n\u001B[0;32m   2535\u001B[0m     orient\u001B[38;5;241m=\u001B[39morient,\n\u001B[0;32m   2536\u001B[0m     date_format\u001B[38;5;241m=\u001B[39mdate_format,\n\u001B[0;32m   2537\u001B[0m     double_precision\u001B[38;5;241m=\u001B[39mdouble_precision,\n\u001B[0;32m   2538\u001B[0m     force_ascii\u001B[38;5;241m=\u001B[39mforce_ascii,\n\u001B[0;32m   2539\u001B[0m     date_unit\u001B[38;5;241m=\u001B[39mdate_unit,\n\u001B[0;32m   2540\u001B[0m     default_handler\u001B[38;5;241m=\u001B[39mdefault_handler,\n\u001B[0;32m   2541\u001B[0m     lines\u001B[38;5;241m=\u001B[39mlines,\n\u001B[0;32m   2542\u001B[0m     compression\u001B[38;5;241m=\u001B[39mcompression,\n\u001B[0;32m   2543\u001B[0m     index\u001B[38;5;241m=\u001B[39mindex,\n\u001B[0;32m   2544\u001B[0m     indent\u001B[38;5;241m=\u001B[39mindent,\n\u001B[0;32m   2545\u001B[0m     storage_options\u001B[38;5;241m=\u001B[39mstorage_options,\n\u001B[0;32m   2546\u001B[0m     mode\u001B[38;5;241m=\u001B[39mmode,\n\u001B[0;32m   2547\u001B[0m )\n",
      "File \u001B[1;32m~\\anaconda3\\envs\\IASA-NLP-Homework\\Lib\\site-packages\\pandas\\io\\json\\_json.py:194\u001B[0m, in \u001B[0;36mto_json\u001B[1;34m(path_or_buf, obj, orient, date_format, double_precision, force_ascii, date_unit, default_handler, lines, compression, index, indent, storage_options, mode)\u001B[0m\n\u001B[0;32m    181\u001B[0m s \u001B[38;5;241m=\u001B[39m writer(\n\u001B[0;32m    182\u001B[0m     obj,\n\u001B[0;32m    183\u001B[0m     orient\u001B[38;5;241m=\u001B[39morient,\n\u001B[1;32m   (...)\u001B[0m\n\u001B[0;32m    190\u001B[0m     indent\u001B[38;5;241m=\u001B[39mindent,\n\u001B[0;32m    191\u001B[0m )\u001B[38;5;241m.\u001B[39mwrite()\n\u001B[0;32m    193\u001B[0m \u001B[38;5;28;01mif\u001B[39;00m lines:\n\u001B[1;32m--> 194\u001B[0m     s \u001B[38;5;241m=\u001B[39m convert_to_line_delimits(s)\n\u001B[0;32m    196\u001B[0m \u001B[38;5;28;01mif\u001B[39;00m path_or_buf \u001B[38;5;129;01mis\u001B[39;00m \u001B[38;5;129;01mnot\u001B[39;00m \u001B[38;5;28;01mNone\u001B[39;00m:\n\u001B[0;32m    197\u001B[0m     \u001B[38;5;66;03m# apply compression and byte/text conversion\u001B[39;00m\n\u001B[0;32m    198\u001B[0m     \u001B[38;5;28;01mwith\u001B[39;00m get_handle(\n\u001B[0;32m    199\u001B[0m         path_or_buf, mode, compression\u001B[38;5;241m=\u001B[39mcompression, storage_options\u001B[38;5;241m=\u001B[39mstorage_options\n\u001B[0;32m    200\u001B[0m     ) \u001B[38;5;28;01mas\u001B[39;00m handles:\n",
      "File \u001B[1;32m~\\anaconda3\\envs\\IASA-NLP-Homework\\Lib\\site-packages\\pandas\\io\\json\\_normalize.py:39\u001B[0m, in \u001B[0;36mconvert_to_line_delimits\u001B[1;34m(s)\u001B[0m\n\u001B[0;32m     36\u001B[0m     \u001B[38;5;28;01mreturn\u001B[39;00m s\n\u001B[0;32m     37\u001B[0m s \u001B[38;5;241m=\u001B[39m s[\u001B[38;5;241m1\u001B[39m:\u001B[38;5;241m-\u001B[39m\u001B[38;5;241m1\u001B[39m]\n\u001B[1;32m---> 39\u001B[0m \u001B[38;5;28;01mreturn\u001B[39;00m convert_json_to_lines(s)\n",
      "File \u001B[1;32m~\\anaconda3\\envs\\IASA-NLP-Homework\\Lib\\site-packages\\pandas\\_libs\\writers.pyx:117\u001B[0m, in \u001B[0;36mpandas._libs.writers.convert_json_to_lines\u001B[1;34m()\u001B[0m\n",
      "\u001B[1;31mMemoryError\u001B[0m: "
     ]
    }
   ],
   "source": [
    "train[['tokens', 'ner_tags']].to_json(\n",
    "    './Data/transformers/train_processed.json', orient='records', lines=True\n",
    ")\n",
    "valid[['tokens', 'ner_tags']].to_json(\n",
    "    './Data/transformers/valid_processed.json', orient='records', lines=True\n",
    ")"
   ],
   "metadata": {
    "collapsed": false,
    "ExecuteTime": {
     "end_time": "2023-10-29T19:11:37.485407800Z",
     "start_time": "2023-10-29T19:09:33.177288300Z"
    }
   },
   "id": "fe0ddada8298cd2"
  },
  {
   "cell_type": "code",
   "execution_count": 55,
   "outputs": [],
   "source": [
    "train.sample(10000)[['tokens', 'ner_tags']].to_json(\n",
    "    'Data/transformers/small_train_processed.json',\n",
    "    orient='records', lines=True\n",
    "    )\n",
    "valid.sample(10000)[['tokens', 'ner_tags']].to_json(\n",
    "    'Data/transformers/small_valid_processed.json',\n",
    "    orient='records', lines=True\n",
    ")"
   ],
   "metadata": {
    "collapsed": false,
    "ExecuteTime": {
     "end_time": "2023-10-29T19:26:14.168591400Z",
     "start_time": "2023-10-29T19:26:01.544008600Z"
    }
   },
   "id": "d429de4bed3bbbdb"
  },
  {
   "cell_type": "code",
   "execution_count": 56,
   "outputs": [],
   "source": [
    "train.sample(100000)[['tokens', 'ner_tags']].to_json(\n",
    "    'Data/transformers/medium_train_processed.json',\n",
    "    orient='records', lines=True\n",
    ")\n",
    "valid[['tokens', 'ner_tags']].to_json(\n",
    "    'Data/transformers/medium_valid_processed.json',\n",
    "    orient='records', lines=True\n",
    ")"
   ],
   "metadata": {
    "collapsed": false,
    "ExecuteTime": {
     "end_time": "2023-10-29T19:26:55.902211900Z",
     "start_time": "2023-10-29T19:26:14.169590700Z"
    }
   },
   "id": "eda79fd160e03eae"
  },
  {
   "cell_type": "code",
   "execution_count": 57,
   "outputs": [],
   "source": [
    "train.sample(1000000)[['tokens', 'ner_tags']].to_json(\n",
    "    'Data/transformers/big_train_processed.json',\n",
    "    orient='records', lines=True\n",
    ")\n",
    "valid[['tokens', 'ner_tags']].to_json(\n",
    "    'Data/transformers/big_valid_processed.json',\n",
    "    orient='records', lines=True\n",
    ")"
   ],
   "metadata": {
    "collapsed": false,
    "ExecuteTime": {
     "end_time": "2023-10-29T19:31:13.852278700Z",
     "start_time": "2023-10-29T19:26:55.903212500Z"
    }
   },
   "id": "fa86d059329bc3b"
  },
  {
   "cell_type": "code",
   "execution_count": 58,
   "outputs": [],
   "source": [
    "df.to_csv('Data/data.csv', index=False)\n",
    "\n",
    "train.to_csv('Data/data_train.csv', index=False)\n",
    "valid.to_csv('Data/data_test.csv', index=False)"
   ],
   "metadata": {
    "collapsed": false,
    "ExecuteTime": {
     "end_time": "2023-10-29T19:38:15.978738700Z",
     "start_time": "2023-10-29T19:31:13.857787100Z"
    }
   },
   "id": "3300e597508c1e95"
  },
  {
   "cell_type": "markdown",
   "source": [
    "All modeling was done in second notebook in kaggle"
   ],
   "metadata": {
    "collapsed": false
   },
   "id": "807533e26e0fa47a"
  }
 ],
 "metadata": {
  "kernelspec": {
   "display_name": "Python 3",
   "language": "python",
   "name": "python3"
  },
  "language_info": {
   "codemirror_mode": {
    "name": "ipython",
    "version": 2
   },
   "file_extension": ".py",
   "mimetype": "text/x-python",
   "name": "python",
   "nbconvert_exporter": "python",
   "pygments_lexer": "ipython2",
   "version": "2.7.6"
  }
 },
 "nbformat": 4,
 "nbformat_minor": 5
}
