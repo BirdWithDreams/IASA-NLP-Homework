{
 "cells": [
  {
   "cell_type": "code",
   "execution_count": 71,
   "id": "initial_id",
   "metadata": {
    "collapsed": true,
    "ExecuteTime": {
     "end_time": "2023-10-07T18:18:57.415793500Z",
     "start_time": "2023-10-07T18:18:57.402208100Z"
    }
   },
   "outputs": [],
   "source": [
    "import os\n",
    "import string\n",
    "\n",
    "import pandas as pd\n",
    "import numpy as np\n",
    "import scipy\n",
    "import seaborn as sns\n",
    "import gensim\n",
    "import nltk\n",
    "import re\n",
    "import matplotlib.pyplot as plt\n",
    "from bs4 import BeautifulSoup\n",
    "from textblob import TextBlob\n",
    "\n",
    "from ydata_profiling import ProfileReport\n",
    "from nltk.corpus import stopwords\n",
    "from wordcloud import WordCloud, STOPWORDS\n",
    "from nltk import tokenize\n",
    "from sentence_transformers import SentenceTransformer, util\n",
    "from sklearn.feature_extraction.text import TfidfVectorizer, CountVectorizer\n",
    "from sklearn.linear_model import LogisticRegression, LinearRegression\n",
    "from sklearn.pipeline import Pipeline\n",
    "from sklearn.model_selection import train_test_split, StratifiedKFold\n",
    "from sklearn.metrics import f1_score, roc_auc_score, accuracy_score\n",
    "from IPython.display import Image\n",
    "from spacy import displacy\n",
    "from transformers import pipeline\n",
    "%matplotlib inline"
   ]
  },
  {
   "cell_type": "code",
   "execution_count": 39,
   "outputs": [],
   "source": [
    "import warnings\n",
    "\n",
    "warnings.filterwarnings('ignore')"
   ],
   "metadata": {
    "collapsed": false,
    "ExecuteTime": {
     "end_time": "2023-10-07T18:01:26.974744Z",
     "start_time": "2023-10-07T18:01:26.790597700Z"
    }
   },
   "id": "3932aed8e26c3291"
  },
  {
   "cell_type": "code",
   "execution_count": 40,
   "outputs": [
    {
     "data": {
      "text/plain": "                                                    text  \\\n0      The head of a conservative Republican faction ...   \n1      Transgender people will be allowed for the fir...   \n2      The special counsel investigation of links bet...   \n3      Trump campaign adviser George Papadopoulos tol...   \n4      President Donald Trump called on the U.S. Post...   \n...                                                  ...   \n44599  21st Century Wire says As 21WIRE reported earl...   \n44600  21st Century Wire says It s a familiar theme. ...   \n44601  Patrick Henningsen  21st Century WireRemember ...   \n44602  21st Century Wire says Al Jazeera America will...   \n44603  21st Century Wire says As 21WIRE predicted in ...   \n\n                                             clean_title        date  label  \\\n0       us budget fight looms republicans flip fiscal...  2017-12-31      1   \n1      us military accept transgender recruits monday...  2017-12-29      1   \n2      senior us republican senator 'let mr mueller job'  2017-12-31      1   \n3      fbi russia probe helped australian diplomat ti...  2017-12-30      1   \n4      trump wants postal service charge 'much ' amaz...  2017-12-29      1   \n...                                                  ...         ...    ...   \n44599  mcpain john mccain furious iran treated us sai...  2016-01-16      0   \n44600  justice yahoo settles email privacy classactio...  2016-01-16      0   \n44601  sunnistan us allied safe zone plan take territ...  2016-01-15      0   \n44602   blow 700 million al jazeera america finally c...  2016-01-14      0   \n44603  10 us navy sailors held iranian military signs...  2016-01-12      0   \n\n                                              clean_text  \\\n0      the head of a conservative republican faction ...   \n1      transgender people will be allowed for the fir...   \n2      the special counsel investigation of links bet...   \n3      trump campaign adviser george papadopoulos tol...   \n4      president donald trump called on the us postal...   \n...                                                  ...   \n44599  21st century wire says as 21wire reported earl...   \n44600  21st century wire says it s a familiar theme w...   \n44601  patrick henningsen 21st century wireremember w...   \n44602  21st century wire says al jazeera america will...   \n44603  21st century wire says as 21wire predicted in ...   \n\n                                         hard_clean_text  \n0       head conservative republican faction us congr...  \n1      transgender people allowed first time enlist u...  \n2       special counsel investigation links russia pr...  \n3      trump campaign adviser george papadopoulos tol...  \n4      president donald trump called us postal servic...  \n...                                                  ...  \n44599  21st century wire says 21wire reported earlier...  \n44600  21st century wire says familiar theme whenever...  \n44601  patrick henningsen 21st century wireremember o...  \n44602  21st century wire says al jazeera america go h...  \n44603  21st century wire says 21wire predicted new ye...  \n\n[44604 rows x 6 columns]",
      "text/html": "<div>\n<style scoped>\n    .dataframe tbody tr th:only-of-type {\n        vertical-align: middle;\n    }\n\n    .dataframe tbody tr th {\n        vertical-align: top;\n    }\n\n    .dataframe thead th {\n        text-align: right;\n    }\n</style>\n<table border=\"1\" class=\"dataframe\">\n  <thead>\n    <tr style=\"text-align: right;\">\n      <th></th>\n      <th>text</th>\n      <th>clean_title</th>\n      <th>date</th>\n      <th>label</th>\n      <th>clean_text</th>\n      <th>hard_clean_text</th>\n    </tr>\n  </thead>\n  <tbody>\n    <tr>\n      <th>0</th>\n      <td>The head of a conservative Republican faction ...</td>\n      <td>us budget fight looms republicans flip fiscal...</td>\n      <td>2017-12-31</td>\n      <td>1</td>\n      <td>the head of a conservative republican faction ...</td>\n      <td>head conservative republican faction us congr...</td>\n    </tr>\n    <tr>\n      <th>1</th>\n      <td>Transgender people will be allowed for the fir...</td>\n      <td>us military accept transgender recruits monday...</td>\n      <td>2017-12-29</td>\n      <td>1</td>\n      <td>transgender people will be allowed for the fir...</td>\n      <td>transgender people allowed first time enlist u...</td>\n    </tr>\n    <tr>\n      <th>2</th>\n      <td>The special counsel investigation of links bet...</td>\n      <td>senior us republican senator 'let mr mueller job'</td>\n      <td>2017-12-31</td>\n      <td>1</td>\n      <td>the special counsel investigation of links bet...</td>\n      <td>special counsel investigation links russia pr...</td>\n    </tr>\n    <tr>\n      <th>3</th>\n      <td>Trump campaign adviser George Papadopoulos tol...</td>\n      <td>fbi russia probe helped australian diplomat ti...</td>\n      <td>2017-12-30</td>\n      <td>1</td>\n      <td>trump campaign adviser george papadopoulos tol...</td>\n      <td>trump campaign adviser george papadopoulos tol...</td>\n    </tr>\n    <tr>\n      <th>4</th>\n      <td>President Donald Trump called on the U.S. Post...</td>\n      <td>trump wants postal service charge 'much ' amaz...</td>\n      <td>2017-12-29</td>\n      <td>1</td>\n      <td>president donald trump called on the us postal...</td>\n      <td>president donald trump called us postal servic...</td>\n    </tr>\n    <tr>\n      <th>...</th>\n      <td>...</td>\n      <td>...</td>\n      <td>...</td>\n      <td>...</td>\n      <td>...</td>\n      <td>...</td>\n    </tr>\n    <tr>\n      <th>44599</th>\n      <td>21st Century Wire says As 21WIRE reported earl...</td>\n      <td>mcpain john mccain furious iran treated us sai...</td>\n      <td>2016-01-16</td>\n      <td>0</td>\n      <td>21st century wire says as 21wire reported earl...</td>\n      <td>21st century wire says 21wire reported earlier...</td>\n    </tr>\n    <tr>\n      <th>44600</th>\n      <td>21st Century Wire says It s a familiar theme. ...</td>\n      <td>justice yahoo settles email privacy classactio...</td>\n      <td>2016-01-16</td>\n      <td>0</td>\n      <td>21st century wire says it s a familiar theme w...</td>\n      <td>21st century wire says familiar theme whenever...</td>\n    </tr>\n    <tr>\n      <th>44601</th>\n      <td>Patrick Henningsen  21st Century WireRemember ...</td>\n      <td>sunnistan us allied safe zone plan take territ...</td>\n      <td>2016-01-15</td>\n      <td>0</td>\n      <td>patrick henningsen 21st century wireremember w...</td>\n      <td>patrick henningsen 21st century wireremember o...</td>\n    </tr>\n    <tr>\n      <th>44602</th>\n      <td>21st Century Wire says Al Jazeera America will...</td>\n      <td>blow 700 million al jazeera america finally c...</td>\n      <td>2016-01-14</td>\n      <td>0</td>\n      <td>21st century wire says al jazeera america will...</td>\n      <td>21st century wire says al jazeera america go h...</td>\n    </tr>\n    <tr>\n      <th>44603</th>\n      <td>21st Century Wire says As 21WIRE predicted in ...</td>\n      <td>10 us navy sailors held iranian military signs...</td>\n      <td>2016-01-12</td>\n      <td>0</td>\n      <td>21st century wire says as 21wire predicted in ...</td>\n      <td>21st century wire says 21wire predicted new ye...</td>\n    </tr>\n  </tbody>\n</table>\n<p>44604 rows × 6 columns</p>\n</div>"
     },
     "execution_count": 40,
     "metadata": {},
     "output_type": "execute_result"
    }
   ],
   "source": [
    "df = pd.read_csv('data.csv')\n",
    "df"
   ],
   "metadata": {
    "collapsed": false,
    "ExecuteTime": {
     "end_time": "2023-10-07T18:01:28.886471100Z",
     "start_time": "2023-10-07T18:01:26.796803800Z"
    }
   },
   "id": "c82e6d119ef8841a"
  },
  {
   "cell_type": "code",
   "execution_count": 41,
   "outputs": [],
   "source": [
    "train, test = train_test_split(df, test_size=.2)"
   ],
   "metadata": {
    "collapsed": false,
    "ExecuteTime": {
     "end_time": "2023-10-07T18:01:28.899745600Z",
     "start_time": "2023-10-07T18:01:28.880966400Z"
    }
   },
   "id": "d314bd30a4e1a2a4"
  },
  {
   "cell_type": "code",
   "execution_count": 42,
   "outputs": [
    {
     "name": "stdout",
     "output_type": "stream",
     "text": [
      "(35683, 6)\n"
     ]
    },
    {
     "data": {
      "text/plain": "                                                    text  \\\n19325  The United Nations launched a roadmap on Wedne...   \n36476  Remember the promise of a fence on our souther...   \n16650  Czech billionaire businessman Andrej Babis s A...   \n20968  The Syrian Democratic Forces (SDF), an allianc...   \n23137  His accusation that President Obama wiretapped...   \n\n                                             clean_title        date  label  \\\n19325  unveiling new libya plan un sees opportunity p...  2017-09-20      1   \n36476         heck happened 2006 secure border fence act  2015-08-16      0   \n16650  billionaire' ano party holding big lead czech ...  2017-10-21      1   \n20968     usbacked forces syria' raqqa say take old city  2017-09-01      1   \n23137   trump makes absolute fool april fools day ame...  2017-04-01      0   \n\n                                              clean_text  \\\n19325  the united nations launched a roadmap on wedne...   \n36476  remember the promise of a fence on our souther...   \n16650  czech billionaire businessman andrej babis s a...   \n20968  the syrian democratic forces sdf an alliance o...   \n23137  his accusation that president obama wiretapped...   \n\n                                         hard_clean_text  \n19325   united nations launched roadmap wednesday ren...  \n36476  remember promise fence southern border yes pla...  \n16650  czech billionaire businessman andrej babis ano...  \n20968   syrian democratic forces sdf alliance kurdish...  \n23137   accusation president obama wiretapped thoroug...  ",
      "text/html": "<div>\n<style scoped>\n    .dataframe tbody tr th:only-of-type {\n        vertical-align: middle;\n    }\n\n    .dataframe tbody tr th {\n        vertical-align: top;\n    }\n\n    .dataframe thead th {\n        text-align: right;\n    }\n</style>\n<table border=\"1\" class=\"dataframe\">\n  <thead>\n    <tr style=\"text-align: right;\">\n      <th></th>\n      <th>text</th>\n      <th>clean_title</th>\n      <th>date</th>\n      <th>label</th>\n      <th>clean_text</th>\n      <th>hard_clean_text</th>\n    </tr>\n  </thead>\n  <tbody>\n    <tr>\n      <th>19325</th>\n      <td>The United Nations launched a roadmap on Wedne...</td>\n      <td>unveiling new libya plan un sees opportunity p...</td>\n      <td>2017-09-20</td>\n      <td>1</td>\n      <td>the united nations launched a roadmap on wedne...</td>\n      <td>united nations launched roadmap wednesday ren...</td>\n    </tr>\n    <tr>\n      <th>36476</th>\n      <td>Remember the promise of a fence on our souther...</td>\n      <td>heck happened 2006 secure border fence act</td>\n      <td>2015-08-16</td>\n      <td>0</td>\n      <td>remember the promise of a fence on our souther...</td>\n      <td>remember promise fence southern border yes pla...</td>\n    </tr>\n    <tr>\n      <th>16650</th>\n      <td>Czech billionaire businessman Andrej Babis s A...</td>\n      <td>billionaire' ano party holding big lead czech ...</td>\n      <td>2017-10-21</td>\n      <td>1</td>\n      <td>czech billionaire businessman andrej babis s a...</td>\n      <td>czech billionaire businessman andrej babis ano...</td>\n    </tr>\n    <tr>\n      <th>20968</th>\n      <td>The Syrian Democratic Forces (SDF), an allianc...</td>\n      <td>usbacked forces syria' raqqa say take old city</td>\n      <td>2017-09-01</td>\n      <td>1</td>\n      <td>the syrian democratic forces sdf an alliance o...</td>\n      <td>syrian democratic forces sdf alliance kurdish...</td>\n    </tr>\n    <tr>\n      <th>23137</th>\n      <td>His accusation that President Obama wiretapped...</td>\n      <td>trump makes absolute fool april fools day ame...</td>\n      <td>2017-04-01</td>\n      <td>0</td>\n      <td>his accusation that president obama wiretapped...</td>\n      <td>accusation president obama wiretapped thoroug...</td>\n    </tr>\n  </tbody>\n</table>\n</div>"
     },
     "execution_count": 42,
     "metadata": {},
     "output_type": "execute_result"
    }
   ],
   "source": [
    "print(train.shape)\n",
    "train.head()"
   ],
   "metadata": {
    "collapsed": false,
    "ExecuteTime": {
     "end_time": "2023-10-07T18:01:28.899745600Z",
     "start_time": "2023-10-07T18:01:28.892968400Z"
    }
   },
   "id": "81756930fb16e081"
  },
  {
   "cell_type": "code",
   "execution_count": 43,
   "outputs": [
    {
     "name": "stdout",
     "output_type": "stream",
     "text": [
      "(8921, 6)\n"
     ]
    },
    {
     "data": {
      "text/plain": "                                                    text  \\\n22562  Trump is not the only U.S. leader in Europe ri...   \n18237  The United States will soon decide whether to ...   \n443    U.S. Senator Tom Cotton, a hawkish Iraq war ve...   \n18167  British Prime Minister Theresa May said on Wed...   \n2588   The Kremlin said on Monday it was worried that...   \n\n                                             clean_title        date  label  \\\n22562   politico threw major shade trump merkels meet...  2017-05-25      0   \n18237         us decide soon future taliban office qatar  2017-10-03      1   \n443    factbox five facts tom cotton trump' likely pi...  2017-11-30      1   \n18167          uk pm may must fight political mainstream  2017-10-04      1   \n2588   kremlin frets us sanctions may hurt european p...  2017-07-24      1   \n\n                                              clean_text  \\\n22562  trump is not the only us leader in europe righ...   \n18237  the united states will soon decide whether to ...   \n443    us senator tom cotton a hawkish iraq war veter...   \n18167  british prime minister theresa may said on wed...   \n2588   the kremlin said on monday it was worried that...   \n\n                                         hard_clean_text  \n22562  trump us leader europe right former president ...  \n18237   united states soon decide whether keep open t...  \n443    us senator tom cotton hawkish iraq war veteran...  \n18167  british prime minister theresa may said wednes...  \n2588    kremlin said monday worried proposed new us s...  ",
      "text/html": "<div>\n<style scoped>\n    .dataframe tbody tr th:only-of-type {\n        vertical-align: middle;\n    }\n\n    .dataframe tbody tr th {\n        vertical-align: top;\n    }\n\n    .dataframe thead th {\n        text-align: right;\n    }\n</style>\n<table border=\"1\" class=\"dataframe\">\n  <thead>\n    <tr style=\"text-align: right;\">\n      <th></th>\n      <th>text</th>\n      <th>clean_title</th>\n      <th>date</th>\n      <th>label</th>\n      <th>clean_text</th>\n      <th>hard_clean_text</th>\n    </tr>\n  </thead>\n  <tbody>\n    <tr>\n      <th>22562</th>\n      <td>Trump is not the only U.S. leader in Europe ri...</td>\n      <td>politico threw major shade trump merkels meet...</td>\n      <td>2017-05-25</td>\n      <td>0</td>\n      <td>trump is not the only us leader in europe righ...</td>\n      <td>trump us leader europe right former president ...</td>\n    </tr>\n    <tr>\n      <th>18237</th>\n      <td>The United States will soon decide whether to ...</td>\n      <td>us decide soon future taliban office qatar</td>\n      <td>2017-10-03</td>\n      <td>1</td>\n      <td>the united states will soon decide whether to ...</td>\n      <td>united states soon decide whether keep open t...</td>\n    </tr>\n    <tr>\n      <th>443</th>\n      <td>U.S. Senator Tom Cotton, a hawkish Iraq war ve...</td>\n      <td>factbox five facts tom cotton trump' likely pi...</td>\n      <td>2017-11-30</td>\n      <td>1</td>\n      <td>us senator tom cotton a hawkish iraq war veter...</td>\n      <td>us senator tom cotton hawkish iraq war veteran...</td>\n    </tr>\n    <tr>\n      <th>18167</th>\n      <td>British Prime Minister Theresa May said on Wed...</td>\n      <td>uk pm may must fight political mainstream</td>\n      <td>2017-10-04</td>\n      <td>1</td>\n      <td>british prime minister theresa may said on wed...</td>\n      <td>british prime minister theresa may said wednes...</td>\n    </tr>\n    <tr>\n      <th>2588</th>\n      <td>The Kremlin said on Monday it was worried that...</td>\n      <td>kremlin frets us sanctions may hurt european p...</td>\n      <td>2017-07-24</td>\n      <td>1</td>\n      <td>the kremlin said on monday it was worried that...</td>\n      <td>kremlin said monday worried proposed new us s...</td>\n    </tr>\n  </tbody>\n</table>\n</div>"
     },
     "execution_count": 43,
     "metadata": {},
     "output_type": "execute_result"
    }
   ],
   "source": [
    "print(test.shape)\n",
    "test.head()"
   ],
   "metadata": {
    "collapsed": false,
    "ExecuteTime": {
     "end_time": "2023-10-07T18:01:28.949347300Z",
     "start_time": "2023-10-07T18:01:28.899745600Z"
    }
   },
   "id": "d40d092b1056348"
  },
  {
   "cell_type": "code",
   "execution_count": 99,
   "outputs": [],
   "source": [
    "def train_pipeline(model, vectorizer, data, labels, metric):\n",
    "    all_train_preds = []\n",
    "    all_test_preds = []\n",
    "    all_train_targets = []\n",
    "    all_test_targets = []\n",
    "    folder = StratifiedKFold(shuffle=False)\n",
    "    folder = folder.split(data, labels)\n",
    "    for fold_id, (train_ids, test_ids) in enumerate(folder):\n",
    "        pipeline = Pipeline(\n",
    "            [\n",
    "                (\"vectorizer\", vectorizer[0](*vectorizer[1], **vectorizer[2])),\n",
    "                (\"lof_reg\", model[0](*model[1], **model[2]))\n",
    "            ]\n",
    "        )\n",
    "        # with open('test.txt', 'a') as f:\n",
    "        #     f.write(f'Iteration {fold_id}:\\nTrain: {train_ids}\\n\\nTest: {test_ids}\\n\\n')\n",
    "        pipeline.fit(data.iloc[train_ids], labels.iloc[train_ids])\n",
    "        # First channel refers to Negative class and second channel refers to Postive class\n",
    "        fold_train_preds = pipeline.predict(data.iloc[train_ids])\n",
    "        fold_test_preds = pipeline.predict(data.iloc[test_ids])\n",
    "        \n",
    "        fold_train_targets = labels.iloc[train_ids].values\n",
    "        fold_test_targets = labels.iloc[test_ids].values\n",
    "        print(\n",
    "            f\"Fold {fold_id}\\n\"\n",
    "            f\"Train {metric.__name__} score = {metric(fold_train_targets, fold_train_preds)}\\n\"\n",
    "            f\"Test {metric.__name__} score = {metric(fold_test_targets, fold_test_preds)}\"\n",
    "        )\n",
    "        all_train_preds.append(fold_train_preds)\n",
    "        all_test_preds.append(fold_test_preds)\n",
    "        all_train_targets.append(fold_train_targets)\n",
    "        all_test_targets.append(fold_test_targets)\n",
    "    \n",
    "    all_train_preds = np.concatenate(all_train_preds)\n",
    "    all_test_preds = np.concatenate(all_test_preds)\n",
    "    all_train_targets = np.concatenate(all_train_targets)\n",
    "    all_test_targets = np.concatenate(all_test_targets)\n",
    "    \n",
    "    print(f\"\\n\\nOOF Train Score: {metric(all_train_targets, all_train_preds)}\")\n",
    "    print(f\"OOF Test Score: {metric(all_test_targets, all_test_preds)}\")"
   ],
   "metadata": {
    "collapsed": false,
    "ExecuteTime": {
     "end_time": "2023-10-07T18:33:17.626409600Z",
     "start_time": "2023-10-07T18:33:17.621375200Z"
    }
   },
   "id": "b5acdd3abfe9778"
  },
  {
   "cell_type": "markdown",
   "source": [
    "**Clean bag of words**"
   ],
   "metadata": {
    "collapsed": false
   },
   "id": "ba927eb0c2a29608"
  },
  {
   "cell_type": "code",
   "execution_count": 46,
   "outputs": [
    {
     "name": "stdout",
     "output_type": "stream",
     "text": [
      "Fold 0\n",
      "Train accuracy_score score = 0.9998598772524732\n",
      "Test accuracy_score score = 0.9827373612823674\n",
      "Fold 1\n",
      "Train accuracy_score score = 1.0\n",
      "Test accuracy_score score = 0.9859881179239995\n",
      "Fold 2\n",
      "Train accuracy_score score = 0.9999719754504947\n",
      "Test accuracy_score score = 0.9789261293576953\n",
      "Fold 3\n",
      "Train accuracy_score score = 1.0\n",
      "Test accuracy_score score = 0.9822889810559354\n",
      "Fold 4\n",
      "Train accuracy_score score = 0.999915928707544\n",
      "Test accuracy_score score = 0.9781390134529148\n",
      "\n",
      "OOF Test Score: 0.9816159985651511\n",
      "OOF Train Score: 0.9999495560936239\n"
     ]
    }
   ],
   "source": [
    "train_pipeline(\n",
    "    (LogisticRegression, (), {}),\n",
    "    (CountVectorizer, (), {'stop_words': []}),\n",
    "    df['clean_text'],\n",
    "    df['label'],\n",
    "    accuracy_score\n",
    ")"
   ],
   "metadata": {
    "collapsed": false,
    "ExecuteTime": {
     "end_time": "2023-10-07T18:03:07.118389100Z",
     "start_time": "2023-10-07T18:01:28.927248500Z"
    }
   },
   "id": "bbaee40f5da81cb"
  },
  {
   "cell_type": "markdown",
   "source": [
    "**Hard clean bag of words**"
   ],
   "metadata": {
    "collapsed": false
   },
   "id": "2895d9743ddcf759"
  },
  {
   "cell_type": "code",
   "execution_count": 47,
   "outputs": [
    {
     "name": "stdout",
     "output_type": "stream",
     "text": [
      "Fold 0\n",
      "Train accuracy_score score = 0.9998598772524732\n",
      "Test accuracy_score score = 0.9827373612823674\n",
      "Fold 1\n",
      "Train accuracy_score score = 1.0\n",
      "Test accuracy_score score = 0.9859881179239995\n",
      "Fold 2\n",
      "Train accuracy_score score = 0.9999719754504947\n",
      "Test accuracy_score score = 0.9789261293576953\n",
      "Fold 3\n",
      "Train accuracy_score score = 1.0\n",
      "Test accuracy_score score = 0.9822889810559354\n",
      "Fold 4\n",
      "Train accuracy_score score = 0.999915928707544\n",
      "Test accuracy_score score = 0.9781390134529148\n",
      "\n",
      "OOF Test Score: 0.9816159985651511\n",
      "OOF Train Score: 0.9999495560936239\n"
     ]
    }
   ],
   "source": [
    "train_pipeline(\n",
    "    (LogisticRegression, (), {}),\n",
    "    (CountVectorizer, (), {'stop_words': []}),\n",
    "    df['clean_text'],\n",
    "    df['label'],\n",
    "    accuracy_score\n",
    ")"
   ],
   "metadata": {
    "collapsed": false,
    "ExecuteTime": {
     "end_time": "2023-10-07T18:05:07.567929800Z",
     "start_time": "2023-10-07T18:03:07.120390200Z"
    }
   },
   "id": "fb12b726d31d34d8"
  },
  {
   "cell_type": "markdown",
   "source": [
    "**Clean tf-idf**"
   ],
   "metadata": {
    "collapsed": false
   },
   "id": "5245658467cfdb01"
  },
  {
   "cell_type": "code",
   "execution_count": 48,
   "outputs": [
    {
     "name": "stdout",
     "output_type": "stream",
     "text": [
      "Fold 0\n",
      "Train accuracy_score score = 0.9896589412325197\n",
      "Test accuracy_score score = 0.9785898441878713\n",
      "Fold 1\n",
      "Train accuracy_score score = 0.9887341310988426\n",
      "Test accuracy_score score = 0.9795986996973434\n",
      "Fold 2\n",
      "Train accuracy_score score = 0.9903315304206485\n",
      "Test accuracy_score score = 0.9698464297724471\n",
      "Fold 3\n",
      "Train accuracy_score score = 0.9894907939354874\n",
      "Test accuracy_score score = 0.970182714942271\n",
      "Fold 4\n",
      "Train accuracy_score score = 0.9883140903486156\n",
      "Test accuracy_score score = 0.9720852017937219\n",
      "\n",
      "OOF Test Score: 0.9740606223657071\n",
      "OOF Train Score: 0.9893058918482648\n"
     ]
    }
   ],
   "source": [
    "train_pipeline(\n",
    "    (LogisticRegression, (), {}),\n",
    "    (TfidfVectorizer, (), {'stop_words': []}),\n",
    "    df['clean_text'],\n",
    "    df['label'],\n",
    "    accuracy_score\n",
    ")"
   ],
   "metadata": {
    "collapsed": false,
    "ExecuteTime": {
     "end_time": "2023-10-07T18:06:30.238013200Z",
     "start_time": "2023-10-07T18:05:07.569935500Z"
    }
   },
   "id": "b66177a6a3b54fe5"
  },
  {
   "cell_type": "markdown",
   "source": [
    "**Hard clean tf-idf**"
   ],
   "metadata": {
    "collapsed": false
   },
   "id": "969dd08c95ca187e"
  },
  {
   "cell_type": "code",
   "execution_count": 49,
   "outputs": [
    {
     "name": "stdout",
     "output_type": "stream",
     "text": [
      "Fold 0\n",
      "Train accuracy_score score = 0.9882857383067567\n",
      "Test accuracy_score score = 0.9757874677726712\n",
      "Fold 1\n",
      "Train accuracy_score score = 0.9876411736681333\n",
      "Test accuracy_score score = 0.9754511826028472\n",
      "Fold 2\n",
      "Train accuracy_score score = 0.9894627693859821\n",
      "Test accuracy_score score = 0.9615513955834548\n",
      "Fold 3\n",
      "Train accuracy_score score = 0.9888182047473587\n",
      "Test accuracy_score score = 0.9655868176213429\n",
      "Fold 4\n",
      "Train accuracy_score score = 0.9875854724806636\n",
      "Test accuracy_score score = 0.9704035874439462\n",
      "\n",
      "OOF Test Score: 0.969756075688279\n",
      "OOF Train Score: 0.9883586673840911\n"
     ]
    }
   ],
   "source": [
    "train_pipeline(\n",
    "    (LogisticRegression, (), {}),\n",
    "    (TfidfVectorizer, (), {'stop_words': []}),\n",
    "    df['hard_clean_text'],\n",
    "    df['label'],\n",
    "    accuracy_score\n",
    ")"
   ],
   "metadata": {
    "collapsed": false,
    "ExecuteTime": {
     "end_time": "2023-10-07T18:07:30.541189800Z",
     "start_time": "2023-10-07T18:06:30.239013500Z"
    }
   },
   "id": "57dfffbf4509dd03"
  },
  {
   "cell_type": "markdown",
   "source": [
    "  - Bag of words (clean text): 0.9823\n",
    "  - Bag of words (hard clean text): 0.9823\n",
    "  - TF-IDF Vectorizer (clean text): 0.9745\n",
    "  - TF-IDF Vectorizer (hard clean text): 0.96952"
   ],
   "metadata": {
    "collapsed": false
   },
   "id": "b3faffcc134b9e85"
  },
  {
   "cell_type": "code",
   "execution_count": null,
   "outputs": [],
   "source": [
    "train_pipeline(\n",
    "    (LogisticRegression, (), {'penalty': None}),\n",
    "    (CountVectorizer, (), {'stop_words': None}),\n",
    "    df['clean_text'],\n",
    "    df['label'],\n",
    "    accuracy_score\n",
    ")"
   ],
   "metadata": {
    "collapsed": false,
    "ExecuteTime": {
     "start_time": "2023-10-07T18:07:30.605682600Z"
    }
   },
   "id": "bd66b8e96fd7720a"
  },
  {
   "cell_type": "code",
   "execution_count": 100,
   "outputs": [
    {
     "name": "stdout",
     "output_type": "stream",
     "text": [
      "Fold 0\n",
      "Train accuracy_score score = 1.0\n",
      "Test accuracy_score score = 0.9820647909427195\n",
      "Fold 1\n",
      "Train accuracy_score score = 1.0\n",
      "Test accuracy_score score = 0.9837462167918395\n",
      "Fold 2\n",
      "Train accuracy_score score = 1.0\n",
      "Test accuracy_score score = 0.9793745095841273\n",
      "Fold 3\n",
      "Train accuracy_score score = 1.0\n",
      "Test accuracy_score score = 0.9836341217352315\n",
      "Fold 4\n",
      "Train accuracy_score score = 1.0\n",
      "Test accuracy_score score = 0.9752242152466367\n",
      "\n",
      "\n",
      "OOF Train Score: 1.0\n",
      "OOF Test Score: 0.9808088960631334\n"
     ]
    }
   ],
   "source": [
    "train_pipeline(\n",
    "    (LogisticRegression, (), {'penalty': 'l2'}),\n",
    "    (CountVectorizer, (), {'stop_words': None}),\n",
    "    df['clean_title'] + \" \" + df['clean_text'],\n",
    "    df['label'],\n",
    "    accuracy_score\n",
    ")"
   ],
   "metadata": {
    "collapsed": false,
    "ExecuteTime": {
     "end_time": "2023-10-07T18:34:57.048490900Z",
     "start_time": "2023-10-07T18:33:30.989035500Z"
    }
   },
   "id": "af9765bd7afd658d"
  },
  {
   "cell_type": "code",
   "execution_count": 64,
   "outputs": [
    {
     "data": {
      "text/plain": "CountVectorizer()",
      "text/html": "<style>#sk-container-id-3 {color: black;}#sk-container-id-3 pre{padding: 0;}#sk-container-id-3 div.sk-toggleable {background-color: white;}#sk-container-id-3 label.sk-toggleable__label {cursor: pointer;display: block;width: 100%;margin-bottom: 0;padding: 0.3em;box-sizing: border-box;text-align: center;}#sk-container-id-3 label.sk-toggleable__label-arrow:before {content: \"▸\";float: left;margin-right: 0.25em;color: #696969;}#sk-container-id-3 label.sk-toggleable__label-arrow:hover:before {color: black;}#sk-container-id-3 div.sk-estimator:hover label.sk-toggleable__label-arrow:before {color: black;}#sk-container-id-3 div.sk-toggleable__content {max-height: 0;max-width: 0;overflow: hidden;text-align: left;background-color: #f0f8ff;}#sk-container-id-3 div.sk-toggleable__content pre {margin: 0.2em;color: black;border-radius: 0.25em;background-color: #f0f8ff;}#sk-container-id-3 input.sk-toggleable__control:checked~div.sk-toggleable__content {max-height: 200px;max-width: 100%;overflow: auto;}#sk-container-id-3 input.sk-toggleable__control:checked~label.sk-toggleable__label-arrow:before {content: \"▾\";}#sk-container-id-3 div.sk-estimator input.sk-toggleable__control:checked~label.sk-toggleable__label {background-color: #d4ebff;}#sk-container-id-3 div.sk-label input.sk-toggleable__control:checked~label.sk-toggleable__label {background-color: #d4ebff;}#sk-container-id-3 input.sk-hidden--visually {border: 0;clip: rect(1px 1px 1px 1px);clip: rect(1px, 1px, 1px, 1px);height: 1px;margin: -1px;overflow: hidden;padding: 0;position: absolute;width: 1px;}#sk-container-id-3 div.sk-estimator {font-family: monospace;background-color: #f0f8ff;border: 1px dotted black;border-radius: 0.25em;box-sizing: border-box;margin-bottom: 0.5em;}#sk-container-id-3 div.sk-estimator:hover {background-color: #d4ebff;}#sk-container-id-3 div.sk-parallel-item::after {content: \"\";width: 100%;border-bottom: 1px solid gray;flex-grow: 1;}#sk-container-id-3 div.sk-label:hover label.sk-toggleable__label {background-color: #d4ebff;}#sk-container-id-3 div.sk-serial::before {content: \"\";position: absolute;border-left: 1px solid gray;box-sizing: border-box;top: 0;bottom: 0;left: 50%;z-index: 0;}#sk-container-id-3 div.sk-serial {display: flex;flex-direction: column;align-items: center;background-color: white;padding-right: 0.2em;padding-left: 0.2em;position: relative;}#sk-container-id-3 div.sk-item {position: relative;z-index: 1;}#sk-container-id-3 div.sk-parallel {display: flex;align-items: stretch;justify-content: center;background-color: white;position: relative;}#sk-container-id-3 div.sk-item::before, #sk-container-id-3 div.sk-parallel-item::before {content: \"\";position: absolute;border-left: 1px solid gray;box-sizing: border-box;top: 0;bottom: 0;left: 50%;z-index: -1;}#sk-container-id-3 div.sk-parallel-item {display: flex;flex-direction: column;z-index: 1;position: relative;background-color: white;}#sk-container-id-3 div.sk-parallel-item:first-child::after {align-self: flex-end;width: 50%;}#sk-container-id-3 div.sk-parallel-item:last-child::after {align-self: flex-start;width: 50%;}#sk-container-id-3 div.sk-parallel-item:only-child::after {width: 0;}#sk-container-id-3 div.sk-dashed-wrapped {border: 1px dashed gray;margin: 0 0.4em 0.5em 0.4em;box-sizing: border-box;padding-bottom: 0.4em;background-color: white;}#sk-container-id-3 div.sk-label label {font-family: monospace;font-weight: bold;display: inline-block;line-height: 1.2em;}#sk-container-id-3 div.sk-label-container {text-align: center;}#sk-container-id-3 div.sk-container {/* jupyter's `normalize.less` sets `[hidden] { display: none; }` but bootstrap.min.css set `[hidden] { display: none !important; }` so we also need the `!important` here to be able to override the default hidden behavior on the sphinx rendered scikit-learn.org. See: https://github.com/scikit-learn/scikit-learn/issues/21755 */display: inline-block !important;position: relative;}#sk-container-id-3 div.sk-text-repr-fallback {display: none;}</style><div id=\"sk-container-id-3\" class=\"sk-top-container\"><div class=\"sk-text-repr-fallback\"><pre>CountVectorizer()</pre><b>In a Jupyter environment, please rerun this cell to show the HTML representation or trust the notebook. <br />On GitHub, the HTML representation is unable to render, please try loading this page with nbviewer.org.</b></div><div class=\"sk-container\" hidden><div class=\"sk-item\"><div class=\"sk-estimator sk-toggleable\"><input class=\"sk-toggleable__control sk-hidden--visually\" id=\"sk-estimator-id-3\" type=\"checkbox\" checked><label for=\"sk-estimator-id-3\" class=\"sk-toggleable__label sk-toggleable__label-arrow\">CountVectorizer</label><div class=\"sk-toggleable__content\"><pre>CountVectorizer()</pre></div></div></div></div></div>"
     },
     "execution_count": 64,
     "metadata": {},
     "output_type": "execute_result"
    }
   ],
   "source": [
    "vectorizer1 = CountVectorizer()\n",
    "vectorizer2 = CountVectorizer()\n",
    "vectorizer1.fit(train['clean_text'])\n",
    "vectorizer2.fit(train['clean_title'])"
   ],
   "metadata": {
    "collapsed": false,
    "ExecuteTime": {
     "end_time": "2023-10-07T18:16:31.817076500Z",
     "start_time": "2023-10-07T18:16:24.856095300Z"
    }
   },
   "id": "37371cbd7221eeb7"
  },
  {
   "cell_type": "code",
   "execution_count": 73,
   "outputs": [
    {
     "data": {
      "text/plain": "<35683x199211 sparse matrix of type '<class 'numpy.int64'>'\n\twith 7439648 stored elements in Compressed Sparse Row format>"
     },
     "execution_count": 73,
     "metadata": {},
     "output_type": "execute_result"
    }
   ],
   "source": [
    "vectorizer1.transform(train['clean_text'])"
   ],
   "metadata": {
    "collapsed": false,
    "ExecuteTime": {
     "end_time": "2023-10-07T18:19:50.330814700Z",
     "start_time": "2023-10-07T18:19:43.730301500Z"
    }
   },
   "id": "cb9652ab38edac4e"
  },
  {
   "cell_type": "code",
   "execution_count": 74,
   "outputs": [],
   "source": [
    "text = vectorizer1.transform(train['clean_text'])\n",
    "title = vectorizer2.transform(train['clean_title'])\n",
    "X = scipy.sparse.hstack([text, title])\n",
    "y = train['label']"
   ],
   "metadata": {
    "collapsed": false,
    "ExecuteTime": {
     "end_time": "2023-10-07T18:21:02.152877900Z",
     "start_time": "2023-10-07T18:20:54.663872700Z"
    }
   },
   "id": "911b141f16ec30b"
  },
  {
   "cell_type": "code",
   "execution_count": 96,
   "outputs": [
    {
     "data": {
      "text/plain": "LogisticRegression()",
      "text/html": "<style>#sk-container-id-4 {color: black;}#sk-container-id-4 pre{padding: 0;}#sk-container-id-4 div.sk-toggleable {background-color: white;}#sk-container-id-4 label.sk-toggleable__label {cursor: pointer;display: block;width: 100%;margin-bottom: 0;padding: 0.3em;box-sizing: border-box;text-align: center;}#sk-container-id-4 label.sk-toggleable__label-arrow:before {content: \"▸\";float: left;margin-right: 0.25em;color: #696969;}#sk-container-id-4 label.sk-toggleable__label-arrow:hover:before {color: black;}#sk-container-id-4 div.sk-estimator:hover label.sk-toggleable__label-arrow:before {color: black;}#sk-container-id-4 div.sk-toggleable__content {max-height: 0;max-width: 0;overflow: hidden;text-align: left;background-color: #f0f8ff;}#sk-container-id-4 div.sk-toggleable__content pre {margin: 0.2em;color: black;border-radius: 0.25em;background-color: #f0f8ff;}#sk-container-id-4 input.sk-toggleable__control:checked~div.sk-toggleable__content {max-height: 200px;max-width: 100%;overflow: auto;}#sk-container-id-4 input.sk-toggleable__control:checked~label.sk-toggleable__label-arrow:before {content: \"▾\";}#sk-container-id-4 div.sk-estimator input.sk-toggleable__control:checked~label.sk-toggleable__label {background-color: #d4ebff;}#sk-container-id-4 div.sk-label input.sk-toggleable__control:checked~label.sk-toggleable__label {background-color: #d4ebff;}#sk-container-id-4 input.sk-hidden--visually {border: 0;clip: rect(1px 1px 1px 1px);clip: rect(1px, 1px, 1px, 1px);height: 1px;margin: -1px;overflow: hidden;padding: 0;position: absolute;width: 1px;}#sk-container-id-4 div.sk-estimator {font-family: monospace;background-color: #f0f8ff;border: 1px dotted black;border-radius: 0.25em;box-sizing: border-box;margin-bottom: 0.5em;}#sk-container-id-4 div.sk-estimator:hover {background-color: #d4ebff;}#sk-container-id-4 div.sk-parallel-item::after {content: \"\";width: 100%;border-bottom: 1px solid gray;flex-grow: 1;}#sk-container-id-4 div.sk-label:hover label.sk-toggleable__label {background-color: #d4ebff;}#sk-container-id-4 div.sk-serial::before {content: \"\";position: absolute;border-left: 1px solid gray;box-sizing: border-box;top: 0;bottom: 0;left: 50%;z-index: 0;}#sk-container-id-4 div.sk-serial {display: flex;flex-direction: column;align-items: center;background-color: white;padding-right: 0.2em;padding-left: 0.2em;position: relative;}#sk-container-id-4 div.sk-item {position: relative;z-index: 1;}#sk-container-id-4 div.sk-parallel {display: flex;align-items: stretch;justify-content: center;background-color: white;position: relative;}#sk-container-id-4 div.sk-item::before, #sk-container-id-4 div.sk-parallel-item::before {content: \"\";position: absolute;border-left: 1px solid gray;box-sizing: border-box;top: 0;bottom: 0;left: 50%;z-index: -1;}#sk-container-id-4 div.sk-parallel-item {display: flex;flex-direction: column;z-index: 1;position: relative;background-color: white;}#sk-container-id-4 div.sk-parallel-item:first-child::after {align-self: flex-end;width: 50%;}#sk-container-id-4 div.sk-parallel-item:last-child::after {align-self: flex-start;width: 50%;}#sk-container-id-4 div.sk-parallel-item:only-child::after {width: 0;}#sk-container-id-4 div.sk-dashed-wrapped {border: 1px dashed gray;margin: 0 0.4em 0.5em 0.4em;box-sizing: border-box;padding-bottom: 0.4em;background-color: white;}#sk-container-id-4 div.sk-label label {font-family: monospace;font-weight: bold;display: inline-block;line-height: 1.2em;}#sk-container-id-4 div.sk-label-container {text-align: center;}#sk-container-id-4 div.sk-container {/* jupyter's `normalize.less` sets `[hidden] { display: none; }` but bootstrap.min.css set `[hidden] { display: none !important; }` so we also need the `!important` here to be able to override the default hidden behavior on the sphinx rendered scikit-learn.org. See: https://github.com/scikit-learn/scikit-learn/issues/21755 */display: inline-block !important;position: relative;}#sk-container-id-4 div.sk-text-repr-fallback {display: none;}</style><div id=\"sk-container-id-4\" class=\"sk-top-container\"><div class=\"sk-text-repr-fallback\"><pre>LogisticRegression()</pre><b>In a Jupyter environment, please rerun this cell to show the HTML representation or trust the notebook. <br />On GitHub, the HTML representation is unable to render, please try loading this page with nbviewer.org.</b></div><div class=\"sk-container\" hidden><div class=\"sk-item\"><div class=\"sk-estimator sk-toggleable\"><input class=\"sk-toggleable__control sk-hidden--visually\" id=\"sk-estimator-id-4\" type=\"checkbox\" checked><label for=\"sk-estimator-id-4\" class=\"sk-toggleable__label sk-toggleable__label-arrow\">LogisticRegression</label><div class=\"sk-toggleable__content\"><pre>LogisticRegression()</pre></div></div></div></div></div>"
     },
     "execution_count": 96,
     "metadata": {},
     "output_type": "execute_result"
    }
   ],
   "source": [
    "model = LogisticRegression()\n",
    "model.fit(X, y)"
   ],
   "metadata": {
    "collapsed": false,
    "ExecuteTime": {
     "end_time": "2023-10-07T18:30:34.130397300Z",
     "start_time": "2023-10-07T18:30:30.255255900Z"
    }
   },
   "id": "c1ebacb31a454a14"
  },
  {
   "cell_type": "code",
   "execution_count": 97,
   "outputs": [
    {
     "data": {
      "text/plain": "0.9919291559242237"
     },
     "execution_count": 97,
     "metadata": {},
     "output_type": "execute_result"
    }
   ],
   "source": [
    "text = vectorizer1.transform(test['clean_text'])\n",
    "title = vectorizer2.transform(test['clean_title'])\n",
    "X = scipy.sparse.hstack([text, title])\n",
    "y = test['label']\n",
    "model.score(X, y)"
   ],
   "metadata": {
    "collapsed": false,
    "ExecuteTime": {
     "end_time": "2023-10-07T18:31:12.790015700Z",
     "start_time": "2023-10-07T18:31:11.012602600Z"
    }
   },
   "id": "20e17e44f7b255ce"
  },
  {
   "cell_type": "code",
   "execution_count": 111,
   "outputs": [
    {
     "data": {
      "text/plain": "Downloading (…)5dded/.gitattributes:   0%|          | 0.00/1.18k [00:00<?, ?B/s]",
      "application/vnd.jupyter.widget-view+json": {
       "version_major": 2,
       "version_minor": 0,
       "model_id": "899b7a0cec164458a98de967d3fd4abb"
      }
     },
     "metadata": {},
     "output_type": "display_data"
    },
    {
     "data": {
      "text/plain": "Downloading (…)_Pooling/config.json:   0%|          | 0.00/190 [00:00<?, ?B/s]",
      "application/vnd.jupyter.widget-view+json": {
       "version_major": 2,
       "version_minor": 0,
       "model_id": "ddab50f47d3747ad93bb49b39a4dc73e"
      }
     },
     "metadata": {},
     "output_type": "display_data"
    },
    {
     "data": {
      "text/plain": "Downloading (…)4d81d5dded/README.md:   0%|          | 0.00/10.6k [00:00<?, ?B/s]",
      "application/vnd.jupyter.widget-view+json": {
       "version_major": 2,
       "version_minor": 0,
       "model_id": "29df0875836140a1b853d3e139880db1"
      }
     },
     "metadata": {},
     "output_type": "display_data"
    },
    {
     "data": {
      "text/plain": "Downloading (…)81d5dded/config.json:   0%|          | 0.00/573 [00:00<?, ?B/s]",
      "application/vnd.jupyter.widget-view+json": {
       "version_major": 2,
       "version_minor": 0,
       "model_id": "4ae39d486da44bf3aca8e8999ab1414b"
      }
     },
     "metadata": {},
     "output_type": "display_data"
    },
    {
     "data": {
      "text/plain": "Downloading (…)ce_transformers.json:   0%|          | 0.00/116 [00:00<?, ?B/s]",
      "application/vnd.jupyter.widget-view+json": {
       "version_major": 2,
       "version_minor": 0,
       "model_id": "7eff4c09131f494aa4fd5cffc46f8a3d"
      }
     },
     "metadata": {},
     "output_type": "display_data"
    },
    {
     "data": {
      "text/plain": "Downloading (…)ded/data_config.json:   0%|          | 0.00/39.3k [00:00<?, ?B/s]",
      "application/vnd.jupyter.widget-view+json": {
       "version_major": 2,
       "version_minor": 0,
       "model_id": "47b89482cd3040e9858ea00f8d786df9"
      }
     },
     "metadata": {},
     "output_type": "display_data"
    },
    {
     "data": {
      "text/plain": "Downloading pytorch_model.bin:   0%|          | 0.00/134M [00:00<?, ?B/s]",
      "application/vnd.jupyter.widget-view+json": {
       "version_major": 2,
       "version_minor": 0,
       "model_id": "8a5b5086050d4fca89db602ccfc9839d"
      }
     },
     "metadata": {},
     "output_type": "display_data"
    },
    {
     "data": {
      "text/plain": "Downloading (…)nce_bert_config.json:   0%|          | 0.00/53.0 [00:00<?, ?B/s]",
      "application/vnd.jupyter.widget-view+json": {
       "version_major": 2,
       "version_minor": 0,
       "model_id": "094b4da833984a73b99420a93a046c9c"
      }
     },
     "metadata": {},
     "output_type": "display_data"
    },
    {
     "data": {
      "text/plain": "Downloading (…)cial_tokens_map.json:   0%|          | 0.00/112 [00:00<?, ?B/s]",
      "application/vnd.jupyter.widget-view+json": {
       "version_major": 2,
       "version_minor": 0,
       "model_id": "510a65528c3e46dc9a74c437f347e4ac"
      }
     },
     "metadata": {},
     "output_type": "display_data"
    },
    {
     "data": {
      "text/plain": "Downloading (…)5dded/tokenizer.json:   0%|          | 0.00/466k [00:00<?, ?B/s]",
      "application/vnd.jupyter.widget-view+json": {
       "version_major": 2,
       "version_minor": 0,
       "model_id": "f3dfc889e481400ea39a85b9a22e1689"
      }
     },
     "metadata": {},
     "output_type": "display_data"
    },
    {
     "data": {
      "text/plain": "Downloading (…)okenizer_config.json:   0%|          | 0.00/352 [00:00<?, ?B/s]",
      "application/vnd.jupyter.widget-view+json": {
       "version_major": 2,
       "version_minor": 0,
       "model_id": "3a90612155904564a2ea478c9b33ddb8"
      }
     },
     "metadata": {},
     "output_type": "display_data"
    },
    {
     "data": {
      "text/plain": "Downloading (…)dded/train_script.py:   0%|          | 0.00/13.2k [00:00<?, ?B/s]",
      "application/vnd.jupyter.widget-view+json": {
       "version_major": 2,
       "version_minor": 0,
       "model_id": "7c1a445b022b42658dacd8c2ab88bd3d"
      }
     },
     "metadata": {},
     "output_type": "display_data"
    },
    {
     "data": {
      "text/plain": "Downloading (…)4d81d5dded/vocab.txt:   0%|          | 0.00/232k [00:00<?, ?B/s]",
      "application/vnd.jupyter.widget-view+json": {
       "version_major": 2,
       "version_minor": 0,
       "model_id": "cecf52f0af9d46aa9378eb1159d965b7"
      }
     },
     "metadata": {},
     "output_type": "display_data"
    },
    {
     "data": {
      "text/plain": "Downloading (…)1d5dded/modules.json:   0%|          | 0.00/349 [00:00<?, ?B/s]",
      "application/vnd.jupyter.widget-view+json": {
       "version_major": 2,
       "version_minor": 0,
       "model_id": "1caca96206a444f69ed50b5311110f87"
      }
     },
     "metadata": {},
     "output_type": "display_data"
    }
   ],
   "source": [
    "former = SentenceTransformer('all-MiniLM-L12-v2', device=\"cuda\")"
   ],
   "metadata": {
    "collapsed": false,
    "ExecuteTime": {
     "end_time": "2023-10-07T19:26:08.197838100Z",
     "start_time": "2023-10-07T19:25:45.375647200Z"
    }
   },
   "id": "33b20ead5b2db309"
  },
  {
   "cell_type": "code",
   "execution_count": 112,
   "outputs": [
    {
     "data": {
      "text/plain": "array([[ 0.03123388,  0.01750667, -0.0214767 , ..., -0.03805789,\n         0.09431024,  0.03504995],\n       [-0.05542544, -0.05065586, -0.02255202, ..., -0.02224375,\n         0.10659005,  0.01045702],\n       [-0.03618498, -0.01664655, -0.0502505 , ...,  0.00197449,\n         0.0562633 , -0.03363869],\n       ...,\n       [ 0.03675877, -0.03895299, -0.07961769, ...,  0.04909951,\n        -0.00211462, -0.06433941],\n       [-0.00145515, -0.07306355, -0.07079151, ..., -0.03843977,\n        -0.03805653, -0.05835051],\n       [-0.01367379,  0.00102733, -0.07909339, ...,  0.01608275,\n         0.01559997, -0.03030417]], dtype=float32)"
     },
     "execution_count": 112,
     "metadata": {},
     "output_type": "execute_result"
    }
   ],
   "source": [
    "text = former.encode(df['clean_text'].tolist(), batch_size=256)\n",
    "text"
   ],
   "metadata": {
    "collapsed": false,
    "ExecuteTime": {
     "end_time": "2023-10-07T19:27:06.574659500Z",
     "start_time": "2023-10-07T19:26:08.206837500Z"
    }
   },
   "id": "f9614694a84bb875"
  },
  {
   "cell_type": "code",
   "execution_count": 113,
   "outputs": [
    {
     "data": {
      "text/plain": "array([[-8.5231252e-02,  9.5730238e-03, -6.3785076e-02, ...,\n         1.7937198e-02,  7.7072091e-02, -8.3483867e-02],\n       [-2.8596468e-02, -4.4652488e-02, -5.3099152e-02, ...,\n        -1.0892407e-02,  5.9771994e-03, -7.7327132e-02],\n       [ 1.9150501e-05,  8.9656683e-03, -4.5402136e-02, ...,\n         8.7244935e-02,  5.8001060e-02, -7.5248621e-02],\n       ...,\n       [ 4.3863486e-02, -1.6502917e-02, -1.0250830e-01, ...,\n        -5.6485575e-02, -5.3468879e-02, -1.0894861e-01],\n       [ 3.3624991e-04,  4.6417769e-03, -4.0675271e-02, ...,\n        -2.2161683e-02, -7.7746332e-02, -2.4693478e-02],\n       [ 4.0371191e-02,  1.9496085e-02, -8.2294419e-02, ...,\n         5.5840101e-02,  2.3495596e-02, -1.4319169e-02]], dtype=float32)"
     },
     "execution_count": 113,
     "metadata": {},
     "output_type": "execute_result"
    }
   ],
   "source": [
    "title = former.encode(df['clean_title'].tolist(), batch_size=256)\n",
    "title"
   ],
   "metadata": {
    "collapsed": false,
    "ExecuteTime": {
     "end_time": "2023-10-07T19:27:14.910516900Z",
     "start_time": "2023-10-07T19:27:06.575659Z"
    }
   },
   "id": "a3e85e2f014a65e6"
  },
  {
   "cell_type": "code",
   "execution_count": 114,
   "outputs": [],
   "source": [
    "X = np.concatenate([text, title], axis=1)"
   ],
   "metadata": {
    "collapsed": false,
    "ExecuteTime": {
     "end_time": "2023-10-07T19:27:14.970516900Z",
     "start_time": "2023-10-07T19:27:14.911518900Z"
    }
   },
   "id": "9383e1b2047bd98b"
  },
  {
   "cell_type": "code",
   "execution_count": 115,
   "outputs": [],
   "source": [
    "y = df['label'].to_numpy()"
   ],
   "metadata": {
    "collapsed": false,
    "ExecuteTime": {
     "end_time": "2023-10-07T19:27:14.970516900Z",
     "start_time": "2023-10-07T19:27:14.964643100Z"
    }
   },
   "id": "ccff3338f1c8dabb"
  },
  {
   "cell_type": "code",
   "execution_count": 116,
   "outputs": [
    {
     "data": {
      "text/plain": "((44604, 768), (44604,))"
     },
     "execution_count": 116,
     "metadata": {},
     "output_type": "execute_result"
    }
   ],
   "source": [
    "X.shape, y.shape"
   ],
   "metadata": {
    "collapsed": false,
    "ExecuteTime": {
     "end_time": "2023-10-07T19:27:14.974562Z",
     "start_time": "2023-10-07T19:27:14.967516500Z"
    }
   },
   "id": "2e3f401c98f10fb1"
  },
  {
   "cell_type": "code",
   "execution_count": 117,
   "outputs": [
    {
     "data": {
      "text/plain": "LogisticRegression(penalty=None)",
      "text/html": "<style>#sk-container-id-6 {color: black;}#sk-container-id-6 pre{padding: 0;}#sk-container-id-6 div.sk-toggleable {background-color: white;}#sk-container-id-6 label.sk-toggleable__label {cursor: pointer;display: block;width: 100%;margin-bottom: 0;padding: 0.3em;box-sizing: border-box;text-align: center;}#sk-container-id-6 label.sk-toggleable__label-arrow:before {content: \"▸\";float: left;margin-right: 0.25em;color: #696969;}#sk-container-id-6 label.sk-toggleable__label-arrow:hover:before {color: black;}#sk-container-id-6 div.sk-estimator:hover label.sk-toggleable__label-arrow:before {color: black;}#sk-container-id-6 div.sk-toggleable__content {max-height: 0;max-width: 0;overflow: hidden;text-align: left;background-color: #f0f8ff;}#sk-container-id-6 div.sk-toggleable__content pre {margin: 0.2em;color: black;border-radius: 0.25em;background-color: #f0f8ff;}#sk-container-id-6 input.sk-toggleable__control:checked~div.sk-toggleable__content {max-height: 200px;max-width: 100%;overflow: auto;}#sk-container-id-6 input.sk-toggleable__control:checked~label.sk-toggleable__label-arrow:before {content: \"▾\";}#sk-container-id-6 div.sk-estimator input.sk-toggleable__control:checked~label.sk-toggleable__label {background-color: #d4ebff;}#sk-container-id-6 div.sk-label input.sk-toggleable__control:checked~label.sk-toggleable__label {background-color: #d4ebff;}#sk-container-id-6 input.sk-hidden--visually {border: 0;clip: rect(1px 1px 1px 1px);clip: rect(1px, 1px, 1px, 1px);height: 1px;margin: -1px;overflow: hidden;padding: 0;position: absolute;width: 1px;}#sk-container-id-6 div.sk-estimator {font-family: monospace;background-color: #f0f8ff;border: 1px dotted black;border-radius: 0.25em;box-sizing: border-box;margin-bottom: 0.5em;}#sk-container-id-6 div.sk-estimator:hover {background-color: #d4ebff;}#sk-container-id-6 div.sk-parallel-item::after {content: \"\";width: 100%;border-bottom: 1px solid gray;flex-grow: 1;}#sk-container-id-6 div.sk-label:hover label.sk-toggleable__label {background-color: #d4ebff;}#sk-container-id-6 div.sk-serial::before {content: \"\";position: absolute;border-left: 1px solid gray;box-sizing: border-box;top: 0;bottom: 0;left: 50%;z-index: 0;}#sk-container-id-6 div.sk-serial {display: flex;flex-direction: column;align-items: center;background-color: white;padding-right: 0.2em;padding-left: 0.2em;position: relative;}#sk-container-id-6 div.sk-item {position: relative;z-index: 1;}#sk-container-id-6 div.sk-parallel {display: flex;align-items: stretch;justify-content: center;background-color: white;position: relative;}#sk-container-id-6 div.sk-item::before, #sk-container-id-6 div.sk-parallel-item::before {content: \"\";position: absolute;border-left: 1px solid gray;box-sizing: border-box;top: 0;bottom: 0;left: 50%;z-index: -1;}#sk-container-id-6 div.sk-parallel-item {display: flex;flex-direction: column;z-index: 1;position: relative;background-color: white;}#sk-container-id-6 div.sk-parallel-item:first-child::after {align-self: flex-end;width: 50%;}#sk-container-id-6 div.sk-parallel-item:last-child::after {align-self: flex-start;width: 50%;}#sk-container-id-6 div.sk-parallel-item:only-child::after {width: 0;}#sk-container-id-6 div.sk-dashed-wrapped {border: 1px dashed gray;margin: 0 0.4em 0.5em 0.4em;box-sizing: border-box;padding-bottom: 0.4em;background-color: white;}#sk-container-id-6 div.sk-label label {font-family: monospace;font-weight: bold;display: inline-block;line-height: 1.2em;}#sk-container-id-6 div.sk-label-container {text-align: center;}#sk-container-id-6 div.sk-container {/* jupyter's `normalize.less` sets `[hidden] { display: none; }` but bootstrap.min.css set `[hidden] { display: none !important; }` so we also need the `!important` here to be able to override the default hidden behavior on the sphinx rendered scikit-learn.org. See: https://github.com/scikit-learn/scikit-learn/issues/21755 */display: inline-block !important;position: relative;}#sk-container-id-6 div.sk-text-repr-fallback {display: none;}</style><div id=\"sk-container-id-6\" class=\"sk-top-container\"><div class=\"sk-text-repr-fallback\"><pre>LogisticRegression(penalty=None)</pre><b>In a Jupyter environment, please rerun this cell to show the HTML representation or trust the notebook. <br />On GitHub, the HTML representation is unable to render, please try loading this page with nbviewer.org.</b></div><div class=\"sk-container\" hidden><div class=\"sk-item\"><div class=\"sk-estimator sk-toggleable\"><input class=\"sk-toggleable__control sk-hidden--visually\" id=\"sk-estimator-id-6\" type=\"checkbox\" checked><label for=\"sk-estimator-id-6\" class=\"sk-toggleable__label sk-toggleable__label-arrow\">LogisticRegression</label><div class=\"sk-toggleable__content\"><pre>LogisticRegression(penalty=None)</pre></div></div></div></div></div>"
     },
     "execution_count": 117,
     "metadata": {},
     "output_type": "execute_result"
    }
   ],
   "source": [
    "X_train, X_test, y_train, y_test = train_test_split(X, y)\n",
    "model = LogisticRegression(penalty=None)\n",
    "model.fit(X_train, y_train)"
   ],
   "metadata": {
    "collapsed": false,
    "ExecuteTime": {
     "end_time": "2023-10-07T19:27:16.431422900Z",
     "start_time": "2023-10-07T19:27:14.975562Z"
    }
   },
   "id": "a832fee42098dddf"
  },
  {
   "cell_type": "code",
   "execution_count": 118,
   "outputs": [
    {
     "data": {
      "text/plain": "0.9802708277284549"
     },
     "execution_count": 118,
     "metadata": {},
     "output_type": "execute_result"
    }
   ],
   "source": [
    "model.score(X_train, y_train)"
   ],
   "metadata": {
    "collapsed": false,
    "ExecuteTime": {
     "end_time": "2023-10-07T19:27:16.497897900Z",
     "start_time": "2023-10-07T19:27:16.430422500Z"
    }
   },
   "id": "c734a969d0fe3d50"
  },
  {
   "cell_type": "code",
   "execution_count": 119,
   "outputs": [
    {
     "data": {
      "text/plain": "0.967984934086629"
     },
     "execution_count": 119,
     "metadata": {},
     "output_type": "execute_result"
    }
   ],
   "source": [
    "model.score(X_test, y_test)"
   ],
   "metadata": {
    "collapsed": false,
    "ExecuteTime": {
     "end_time": "2023-10-07T19:27:16.526413500Z",
     "start_time": "2023-10-07T19:27:16.492898Z"
    }
   },
   "id": "d0fd060743687f85"
  },
  {
   "cell_type": "code",
   "execution_count": null,
   "outputs": [],
   "source": [
    "del former"
   ],
   "metadata": {
    "collapsed": false,
    "ExecuteTime": {
     "start_time": "2023-10-07T18:07:30.615731500Z"
    }
   },
   "id": "9adb895298c5f02f"
  },
  {
   "cell_type": "code",
   "execution_count": null,
   "outputs": [],
   "source": [],
   "metadata": {
    "collapsed": false,
    "ExecuteTime": {
     "start_time": "2023-10-07T18:07:30.616731500Z"
    }
   },
   "id": "bb425d1df2f4ee30"
  }
 ],
 "metadata": {
  "kernelspec": {
   "display_name": "Python 3",
   "language": "python",
   "name": "python3"
  },
  "language_info": {
   "codemirror_mode": {
    "name": "ipython",
    "version": 2
   },
   "file_extension": ".py",
   "mimetype": "text/x-python",
   "name": "python",
   "nbconvert_exporter": "python",
   "pygments_lexer": "ipython2",
   "version": "2.7.6"
  }
 },
 "nbformat": 4,
 "nbformat_minor": 5
}
